{
 "metadata": {
  "name": "opacity"
 },
 "nbformat": 3,
 "nbformat_minor": 0,
 "worksheets": [
  {
   "cells": [
    {
     "cell_type": "code",
     "collapsed": false,
     "input": [
      "import os\n",
      "os.chdir('/Users/ana-mariapiso/core_accretion/python')\n",
      "#os.chdir('/home/apiso/repos/core_accretion/python')\n",
      "\n",
      "from utils.constants import G, kb, mp, Rb, Me, Re, Msun, RH, RHe, sigma, \\\n",
      "     cmperau, RHill, gammafn, mufn, Rfn, Cvfn, kdust, Tdisk, Pdisk, paramsEOS, params, kdustall\n",
      "from utils.parameters import FT, FSigma, mstar\n",
      "from utils.userpath import userpath\n",
      "import numpy\n",
      "import scipy\n",
      "import math\n",
      "import matplotlib.pyplot as plt\n",
      "import matplotlib.cm as cm\n",
      "from types import FunctionType as function\n",
      "from collections import namedtuple\n",
      "from scipy import integrate\n",
      "from utils import cb_corrections as cb\n",
      "from utils.interpolation_functions_logp import interpolations\n",
      "from scipy.integrate import odeint\n",
      "from scipy.interpolate import interp1d\n",
      "from scipy.optimize import fminbound, brentq\n",
      "from RadSGRealGas.profiles import atmload\n",
      "from RadSGPoly.profiles_poly import atmload as atmloadpoly\n",
      "from RadSGRealGas.cooling import critical, cooling_global\n",
      "from RadSGPoly.cooling_poly import critical as criticalpoly\n",
      "from utils.interpolation_functions import interplog10S, interplog10u\n",
      "from RadSGRealGas import plot_helper as ph\n",
      "from RadSGPoly import plot_helper as php"
     ],
     "language": "python",
     "metadata": {},
     "outputs": [],
     "prompt_number": 14
    },
    {
     "cell_type": "code",
     "collapsed": false,
     "input": [
      "Y = 0.3\n",
      "\n",
      "a = 100.0\n",
      "Mc = 5.0 * Me\n",
      "rhoc = 3.2\n",
      "rc = (3 * Mc / (4 * numpy.pi * rhoc))**(1./3)\n",
      "\n",
      "\n",
      "\n",
      "prms = paramsEOS(Mc, rc, Y, a, Pd = Pdisk(a, mstar, FSigma, FT), \\\n",
      "                 Td = Tdisk(a, FT), kappa = kdustall)\n",
      "prmstest = paramsEOS(Mc, rc, Y, a, Pd = Pdisk(a, mstar, FSigma, FT), \\\n",
      "                 Td = Tdisk(a, FT), kappa = kdust)"
     ],
     "language": "python",
     "metadata": {},
     "outputs": [],
     "prompt_number": 32
    },
    {
     "cell_type": "code",
     "collapsed": false,
     "input": [
      "x = atmload('Mc5.0.npz', prms = prms)\n",
      "xtest = atmload('Mc5.0.npz', prms = prmstest)"
     ],
     "language": "python",
     "metadata": {},
     "outputs": [],
     "prompt_number": 33
    },
    {
     "cell_type": "code",
     "collapsed": false,
     "input": [
      "model, param, prof = x\n",
      "modeltest, paramtest, proftest = xtest"
     ],
     "language": "python",
     "metadata": {},
     "outputs": [],
     "prompt_number": 34
    },
    {
     "cell_type": "code",
     "collapsed": false,
     "input": [
      "n = -1"
     ],
     "language": "python",
     "metadata": {},
     "outputs": [],
     "prompt_number": 35
    },
    {
     "cell_type": "code",
     "collapsed": false,
     "input": [
      "ktest = 0 * numpy.ndarray(shape = len(prof.t[n]), dtype = float)\n",
      "\n",
      "for i in range(len(ktest)):\n",
      "    ktest[i]=kdustall(prof.t[n][i], prof.rho[n][i])"
     ],
     "language": "python",
     "metadata": {},
     "outputs": [
      {
       "output_type": "stream",
       "stream": "stderr",
       "text": [
        "-c:1: RuntimeWarning: invalid value encountered in multiply\n"
       ]
      }
     ],
     "prompt_number": 36
    },
    {
     "cell_type": "code",
     "collapsed": false,
     "input": [
      "filename = 'del_k.pdf'\n",
      "\n",
      "plt.loglog(prof.t[n][::-1], prof.delad[n][::-1], label = r'$\\nabla_{\\rm{ad}}$')\n",
      "plt.loglog(prof.t[n][::-1], prof.delrad[n][::-1], label = r'$\\nabla_{\\rm{rad}}$')\n",
      "plt.loglog(prof.t[n][::-1], ktest[::-1], label = r'$\\kappa$ [cm$^2$ g$^{-1}$]')\n",
      "plt.xlabel('T [K]')\n",
      "plt.legend(loc = 2)\n",
      "#plt.loglog(prof.t[n][::-1], prof.r[n][::-1])\n",
      "#plt.loglog(param.Tcb[n], rcb[-1], 'o')\n",
      "#plt.savefig(userpath + '/figs/ModelAtmospheres/RadSelfGravRealEOS/Opacity/' + filename)\n"
     ],
     "language": "python",
     "metadata": {},
     "outputs": [
      {
       "output_type": "pyout",
       "prompt_number": 37,
       "text": [
        "<matplotlib.legend.Legend at 0x10fc475d0>"
       ]
      },
      {
       "output_type": "display_data",
       "png": "[encoded data removed]"
      }
     ],
     "prompt_number": 37
    },
    {
     "cell_type": "code",
     "collapsed": false,
     "input": [
      "filename = 'del_r.pdf'\n",
      "\n",
      "plt.loglog(prof.r[n], prof.delad[n], label = r'$\\nabla_{\\rm{ad}}$')\n",
      "plt.loglog(prof.r[n], prof.delrad[n], label = r'$\\nabla_{\\rm{rad}}$')\n",
      "plt.xlabel('r [cm]')\n",
      "\n",
      "plt.ylim(ymax = 1e1)\n",
      "\n",
      "#plt.savefig(userpath + '/figs/ModelAtmospheres/RadSelfGravRealEOS/Opacity/' + filename)"
     ],
     "language": "python",
     "metadata": {},
     "outputs": [
      {
       "output_type": "pyout",
       "prompt_number": 38,
       "text": [
        "(9.9999999999999995e-07, 10.0)"
       ]
      },
      {
       "output_type": "display_data",
       "png": "[encoded data removed]"
      }
     ],
     "prompt_number": 38
    },
    {
     "cell_type": "code",
     "collapsed": false,
     "input": [
      "plt.loglog(prof[-1].r, prof[-1].t)\n",
      "plt.xlabel('r [cm]')\n",
      "plt.ylabel('T [K]')"
     ],
     "language": "python",
     "metadata": {},
     "outputs": [
      {
       "output_type": "pyout",
       "prompt_number": 22,
       "text": [
        "<matplotlib.text.Text at 0x10fcae810>"
       ]
      },
      {
       "output_type": "display_data",
       "png": "[encoded data removed]"
      }
     ],
     "prompt_number": 22
    },
    {
     "cell_type": "code",
     "collapsed": false,
     "input": [
      "rcball = 0 * numpy.ndarray(shape = (len(param), 5), dtype = float)\n",
      "\n",
      "for i in range(len(param)):\n",
      "    jlist = []\n",
      "    rcb = []\n",
      "    for j in range(len(prof[i])):\n",
      "        if (prof[i].delad[j - 1] - prof[i].delrad[j - 1]) * (prof[i].delad[j] - prof[i].delrad[j]) < 0:\n",
      "            jlist = numpy.append(jlist, j)\n",
      "    jlist = jlist[1:]\n",
      "    for k in range(len(jlist)):\n",
      "        delarr = numpy.array([prof[i].delad[jlist[k] - 1] - prof[i].delrad[jlist[k] - 1], prof[i].delad[jlist[k]] - prof[i].delrad[jlist[k]]])\n",
      "        rarr = numpy.array([prof[i].r[jlist[k] - 1], prof[i].r[jlist[k]]])\n",
      "        if delarr[0] >= delarr[1]:\n",
      "            delarr = delarr[::-1]\n",
      "            rarr = rarr[::-1]\n",
      "        frcb = interp1d(delarr, rarr)\n",
      "        rcbtemp = float(frcb(0))\n",
      "        rcb = numpy.append(rcb, rcbtemp)\n",
      "        \n",
      "    for l in range(len(rcb)):\n",
      "        rcball[i, l] = rcb[l] / Re\n",
      "\n",
      "        \n",
      "    \n",
      "    \n",
      "    #frcb = interp1d(prof.r[i], prof.delad[i] - prof.delrad[i])\n",
      "    \n",
      "    \n",
      "    \n",
      "    "
     ],
     "language": "python",
     "metadata": {},
     "outputs": [],
     "prompt_number": 39
    },
    {
     "cell_type": "code",
     "collapsed": false,
     "input": [],
     "language": "python",
     "metadata": {},
     "outputs": [
      {
       "output_type": "pyout",
       "prompt_number": 216,
       "text": [
        "array([[ 0.15607389,  0.15410546,  0.15262844, ...,  0.23741928,\n",
        "         0.23744905,  0.23747822],\n",
        "       [ 0.15780113,  0.15689585,  0.15594475, ...,  0.23743832,\n",
        "         0.23745848,  0.23747822],\n",
        "       [ 0.16132266,  0.15824121,  0.15734084, ...,  0.23745103,\n",
        "         0.23746477,  0.23747822],\n",
        "       ..., \n",
        "       [ 0.20942409,  0.20797009,  0.20646381, ...,  0.23747795,\n",
        "         0.23747809,  0.23747822],\n",
        "       [ 0.20942985,  0.20797586,  0.20646945, ...,  0.23747795,\n",
        "         0.23747809,  0.23747822],\n",
        "       [ 0.20943549,  0.20798147,  0.20647492, ...,  0.23747795,\n",
        "         0.23747809,  0.23747822]])"
       ]
      }
     ],
     "prompt_number": 216
    },
    {
     "cell_type": "code",
     "collapsed": false,
     "input": [
      "Pdisk?"
     ],
     "language": "python",
     "metadata": {},
     "outputs": [],
     "prompt_number": 12
    },
    {
     "cell_type": "code",
     "collapsed": false,
     "input": [
      "param.MB[50]"
     ],
     "language": "python",
     "metadata": {},
     "outputs": [
      {
       "output_type": "pyout",
       "prompt_number": 211,
       "text": [
        "7.4016923957484213"
       ]
      }
     ],
     "prompt_number": 211
    },
    {
     "cell_type": "code",
     "collapsed": false,
     "input": [
      "paramtest.MB[139]"
     ],
     "language": "python",
     "metadata": {},
     "outputs": [
      {
       "output_type": "pyout",
       "prompt_number": 219,
       "text": [
        "7.3973366905568687"
       ]
      }
     ],
     "prompt_number": 219
    },
    {
     "cell_type": "code",
     "collapsed": false,
     "input": [
      "plt.semilogy(param.MB, param.L)\n",
      "plt.semilogy(paramtest.MB, paramtest.L)"
     ],
     "language": "python",
     "metadata": {},
     "outputs": [
      {
       "output_type": "pyout",
       "prompt_number": 198,
       "text": [
        "[<matplotlib.lines.Line2D at 0x11e7a8e90>]"
       ]
      },
      {
       "output_type": "display_data",
       "png": "[encoded data removed]"
      }
     ],
     "prompt_number": 198
    },
    {
     "cell_type": "code",
     "collapsed": false,
     "input": [
      "plt.semilogy(param.MB, -param.Etotcb)\n",
      "plt.semilogy(paramtest.MB, -paramtest.Etotcb)"
     ],
     "language": "python",
     "metadata": {},
     "outputs": [
      {
       "output_type": "pyout",
       "prompt_number": 199,
       "text": [
        "[<matplotlib.lines.Line2D at 0x11cee4e10>]"
       ]
      },
      {
       "output_type": "display_data",
       "png": "[encoded data removed]"
      }
     ],
     "prompt_number": 199
    },
    {
     "cell_type": "code",
     "collapsed": false,
     "input": [
      "dE = param.Etotcb[1:] - param.Etotcb[:-1]\n",
      "dEtest = paramtest.Etotcb[1:] - paramtest.Etotcb[:-1]"
     ],
     "language": "python",
     "metadata": {},
     "outputs": [],
     "prompt_number": 200
    },
    {
     "cell_type": "code",
     "collapsed": false,
     "input": [
      "plt.semilogy(param.MB[:-1], -dE)\n",
      "plt.semilogy(paramtest.MB[:-1], -dEtest)"
     ],
     "language": "python",
     "metadata": {},
     "outputs": [
      {
       "output_type": "pyout",
       "prompt_number": 201,
       "text": [
        "[<matplotlib.lines.Line2D at 0x11e7e40d0>]"
       ]
      },
      {
       "output_type": "display_data",
       "png": "[encoded data removed]"
      }
     ],
     "prompt_number": 201
    },
    {
     "cell_type": "code",
     "collapsed": false,
     "input": [
      "dt = -dE / param.L[:-1]\n",
      "dttest = -dEtest / paramtest.L[:-1]\n",
      "\n",
      "t = []\n",
      "ttest = []\n",
      "for i in range(len(dt)):\n",
      "    t = append(t, sum(dt[:i]))\n",
      "for i in range(len(dttest)):\n",
      "    ttest = append(ttest, sum(dttest[:i]))\n",
      "    \n"
     ],
     "language": "python",
     "metadata": {},
     "outputs": [],
     "prompt_number": 202
    },
    {
     "cell_type": "code",
     "collapsed": false,
     "input": [
      "plt.semilogy(param.MB[:-1], t)\n",
      "plt.semilogy(paramtest.MB[:-1], ttest)"
     ],
     "language": "python",
     "metadata": {},
     "outputs": [
      {
       "output_type": "pyout",
       "prompt_number": 203,
       "text": [
        "[<matplotlib.lines.Line2D at 0x11a0d8e90>]"
       ]
      },
      {
       "output_type": "display_data",
       "png": "[encoded data removed]"
      }
     ],
     "prompt_number": 203
    },
    {
     "cell_type": "code",
     "collapsed": false,
     "input": [
      "sum(dt) / (365 * 24 * 3600) / 10**6"
     ],
     "language": "python",
     "metadata": {},
     "outputs": [
      {
       "output_type": "pyout",
       "prompt_number": 153,
       "text": [
        "6.1388159829295219"
       ]
      }
     ],
     "prompt_number": 153
    },
    {
     "cell_type": "code",
     "collapsed": false,
     "input": [
      "sum(dttest) / (365 * 24 * 3600) / 10**6"
     ],
     "language": "python",
     "metadata": {},
     "outputs": [
      {
       "output_type": "pyout",
       "prompt_number": 152,
       "text": [
        "8.7410138574258429"
       ]
      }
     ],
     "prompt_number": 152
    },
    {
     "cell_type": "code",
     "collapsed": false,
     "input": [
      "def Lrad(n):\n",
      "\n",
      "    fP = interp1d(prof[n].r, prof[n].P)\n",
      "    frho = interp1d(prof[n].r, prof[n].rho)\n",
      "    fm = interp1d(prof[n].r, prof[n].m)\n",
      "    fT = interp1d(prof[n].r, prof[n].t)\n",
      "    fdelad = interp1d(prof[n].r, prof[n].delad)\n",
      "\n",
      "    Pi = fP(rcball[n,0] * Re)\n",
      "    Pf = fP(rcball[n,1] * Re)\n",
      "\n",
      "    rhoi = frho(rcball[n,0] * Re)\n",
      "    rhof = frho(rcball[n,1] * Re)\n",
      "\n",
      "    mi = fm(rcball[n,0] * Re)\n",
      "    mf = fm(rcball[n,1] * Re)\n",
      "\n",
      "    Ti = fT(rcball[n,0] * Re)\n",
      "    Tf = fT(rcball[n,1] * Re)\n",
      "\n",
      "    deladi = fdelad(rcball[n,0] * Re)\n",
      "    deladf = fdelad(rcball[n,1] * Re)\n",
      "\n",
      "    ki = kdustall(Ti, rhoi)\n",
      "    kf = kdustall(Tf, rhof)\n",
      "\n",
      "    Li = 64 * pi * G * mi * sigma * Ti**4 * deladi / (3 * ki * Pi)\n",
      "    Lf = 64 * pi * G * mf * sigma * Tf**4 * deladf / (3 * kf * Pf)\n",
      "    \n",
      "    return Li, Lf"
     ],
     "language": "python",
     "metadata": {},
     "outputs": [],
     "prompt_number": 43
    },
    {
     "cell_type": "code",
     "collapsed": false,
     "input": [
      "Lradarrayi = []\n",
      "Lradarrayf = []\n",
      "for i in range(len(param.MB)):\n",
      "    Ltempi, Ltempf = Lrad(i)\n",
      "    Lradarrayi = append(Lradarrayi, Ltempi)\n",
      "    Lradarrayf = append(Lradarrayf, Ltempf)\n",
      "    "
     ],
     "language": "python",
     "metadata": {},
     "outputs": [],
     "prompt_number": 44
    },
    {
     "cell_type": "code",
     "collapsed": false,
     "input": [
      "Lrad(0)"
     ],
     "language": "python",
     "metadata": {},
     "outputs": [
      {
       "output_type": "pyout",
       "prompt_number": 42,
       "text": [
        "(9.3701740296110241e+25,\n",
        " 9.4067135104956908e+25,\n",
        " array(4.484065624786689e-05),\n",
        " array(1.811822376790125e-06))"
       ]
      }
     ],
     "prompt_number": 42
    },
    {
     "cell_type": "code",
     "collapsed": false,
     "input": [
      "plt.semilogy(param.MB, param.L)\n",
      "plt.semilogy(param.MB, Lradarrayi)\n",
      "#plt.semilogy(param.MB, Lradarrayf)"
     ],
     "language": "python",
     "metadata": {},
     "outputs": [
      {
       "output_type": "pyout",
       "prompt_number": 45,
       "text": [
        "[<matplotlib.lines.Line2D at 0x1100c8d90>]"
       ]
      },
      {
       "output_type": "display_data",
       "png": "[encoded data removed]"
      }
     ],
     "prompt_number": 45
    },
    {
     "cell_type": "code",
     "collapsed": false,
     "input": [
      "\n"
     ],
     "language": "python",
     "metadata": {},
     "outputs": [],
     "prompt_number": 45
    },
    {
     "cell_type": "code",
     "collapsed": false,
     "input": [
      "param.rcb"
     ],
     "language": "python",
     "metadata": {},
     "outputs": [
      {
       "output_type": "pyout",
       "prompt_number": 46,
       "text": [
        "array([ 533.673644  ,  510.95376896,  496.65191822,  486.82209269,\n",
        "        479.7610852 ,  474.51454804,  470.62189495,  467.6683988 ,\n",
        "        465.53054297,  463.96151598,  462.8750994 ,  462.18765888,\n",
        "        461.84377781,  461.79212333,  461.99102888,  462.40842061,\n",
        "        463.01721694,  463.79518209,  464.7326561 ,  465.8075019 ,\n",
        "        467.00355895,  468.3274711 ,  469.75048139,  471.27292014,\n",
        "        472.88318594,  474.56705015,  476.33227652,  478.15245089,\n",
        "        480.06561704,  482.05494759,  484.10992967,  486.21612984,\n",
        "        488.37732102,  490.58021276,  492.82731696,  495.15399494,\n",
        "        497.54146632,  499.96768424,  502.42581875,  504.9023705 ,\n",
        "        507.4479879 ,  510.05494245,  512.70964994,  515.38360928,\n",
        "        518.06625516,  520.81942467,  523.62299835,  526.47143238,\n",
        "        529.3372316 ,  532.2117527 ,  535.15201393,  538.14665965,\n",
        "        541.16829093,  544.21157175,  547.26599482,  550.39377141,\n",
        "        553.55933811,  556.7518211 ,  559.93407788,  563.18276738,\n",
        "        566.48974279,  569.81152401,  573.15067952,  576.51305435,\n",
        "        579.94602943,  583.41343506,  586.89349436,  590.37080012,\n",
        "        593.92879548,  597.52805973,  601.1465204 ,  604.75199744,\n",
        "        608.43371167,  612.16107455,  615.9136147 ,  619.65611266,\n",
        "        623.45613924,  627.31272167,  631.20345817,  635.08057988,\n",
        "        638.99904751,  642.99192194,  647.0129539 ,  651.02798041,\n",
        "        655.06990237,  659.19039518,  663.3456298 ,  667.49810902,\n",
        "        671.67005436,  675.92434906,  680.21412082,  684.50448489,\n",
        "        688.80512052,  693.19506493,  697.62389729,  702.05090069,\n",
        "        706.48593284,  711.01425785,  715.58199271,  720.14712702])"
       ]
      }
     ],
     "prompt_number": 46
    },
    {
     "cell_type": "code",
     "collapsed": false,
     "input": [
      "Tf"
     ],
     "language": "python",
     "metadata": {},
     "outputs": [
      {
       "output_type": "pyout",
       "prompt_number": 87,
       "text": [
        "array(1364.1222484901703)"
       ]
      }
     ],
     "prompt_number": 87
    },
    {
     "cell_type": "code",
     "collapsed": false,
     "input": [
      "Hi = Pi / rhoi / (G * mi / (rcball[n,0] * Re)**2) / Re"
     ],
     "language": "python",
     "metadata": {},
     "outputs": [],
     "prompt_number": 14
    },
    {
     "cell_type": "code",
     "collapsed": false,
     "input": [
      "paramtest.MB"
     ],
     "language": "python",
     "metadata": {},
     "outputs": [
      {
       "output_type": "pyout",
       "prompt_number": 89,
       "text": [
        "array([ 10.90308048,  10.9430349 ,  10.98437839,  11.02635163,\n",
        "        11.06875843,  11.11152402,  11.15460276,  11.19797651,\n",
        "        11.24172237,  11.28571465,  11.32994217,  11.37439686,\n",
        "        11.41907273,  11.4640459 ,  11.50928263,  11.55473219,\n",
        "        11.60039327,  11.64626512,  11.69237459,  11.73880507,\n",
        "        11.78544693,  11.83230052,  11.87936631,  11.92664488,\n",
        "        11.97425675,  12.02211128,  12.07018214,  12.11847025,\n",
        "        12.16697656,  12.21577526,  12.26487895,  12.31420525,\n",
        "        12.36375526,  12.4135301 ,  12.46355665,  12.51395306,\n",
        "        12.56457921,  12.61543629,  12.66652553,  12.71784815,\n",
        "        12.76956324,  12.8215378 ,  12.87375107,  12.92620436,\n",
        "        12.97889894,  13.03195885,  13.08533385,  13.13895582,\n",
        "        13.19282613,  13.24694611,  13.30140692,  13.3562377 ,\n",
        "        13.41132417,  13.46666774,  13.52226984,  13.57819208,\n",
        "        13.63453734,  13.69114746,  13.74802393,  13.80516822,\n",
        "        13.86261727,  13.92053919,  13.97873563,  14.03720814,\n",
        "        14.09595828,  14.1550048 ,  14.21456937,  14.27441862,\n",
        "        14.33455418,  14.39497767,  14.45537675,  14.50504144,\n",
        "        14.55487677,  14.60488333,  14.65506169,  14.70541244,\n",
        "        14.7559362 ,  14.80663353,  14.85750505,  14.90855135,\n",
        "        14.95977303,  15.01117069,  15.06274494,  15.11449639,\n",
        "        15.16642564,  15.21853331,  15.27082   ,  15.32328633,\n",
        "        15.37593293,  15.4287604 ,  15.48176938,  15.53496048,\n",
        "        15.58833433,  15.64189156,  15.69563279,  15.74955867,\n",
        "        15.80366982,  15.85796688,  15.91245049,  15.96712129,\n",
        "        16.02197992,  16.07702704,  16.13226328,  16.1876893 ,\n",
        "        16.24330574,  16.29911327,  16.35511254,  16.4113042 ,\n",
        "        16.46768893,  16.52426738,  16.58104021,  16.6380081 ,\n",
        "        16.69517172,  16.75253174,  16.81008883,  16.86784367,\n",
        "        16.92579694,  16.98394932,  17.04230149,  17.10085415,\n",
        "        17.15960798,  17.21856367,  17.27772192,  17.33708342,\n",
        "        17.39664886,  17.45641896,  17.51639441,  17.57657593,\n",
        "        17.6369642 ,  17.69755996,  17.75836391,  17.81937676,\n",
        "        17.88059923,  17.94203205,  18.00367594,  18.06553161,\n",
        "        18.12759981,  18.18988125,  18.25237668,  18.31508682,\n",
        "        18.37801242,  18.44115422,  18.50451295,  18.56808936,\n",
        "        18.63188421,  18.69589823,  18.7601322 ,  18.82458685,\n",
        "        18.88926295,  18.95416126,  19.01928254,  19.08462756,\n",
        "        19.15019709,  19.2159919 ,  19.28201276,  19.34826045,\n",
        "        19.41473575,  19.48143944,  19.5483723 ,  19.61553513,\n",
        "        19.68292871,  19.75055384,  19.81841131,  19.88650191,\n",
        "        19.95482646,  20.02338575,  20.0921806 ,  20.1612118 ,\n",
        "        20.23048018,  20.29998654,  20.36973171,  20.4397165 ,\n",
        "        20.50994174,  20.58040826,  20.65111688,  20.72206843,\n",
        "        20.79326376,  20.86470369,  20.93638907,  21.00832074,\n",
        "        21.08049955,  21.15292635,  21.22560198,  21.29852731,\n",
        "        21.37170319,  21.44513048,  21.51881005,  21.59274276,\n",
        "        21.66692948,  21.74137109,  21.81606845,  21.89102246,\n",
        "        21.96623399,  22.04170393,  22.11743316,  22.19342257,\n",
        "        22.26967306,  22.34618553,  22.42296088,  22.5       ])"
       ]
      }
     ],
     "prompt_number": 89
    },
    {
     "cell_type": "code",
     "collapsed": false,
     "input": [
      "Hi"
     ],
     "language": "python",
     "metadata": {},
     "outputs": [
      {
       "output_type": "pyout",
       "prompt_number": 15,
       "text": [
        "2.018403273898461"
       ]
      }
     ],
     "prompt_number": 15
    },
    {
     "cell_type": "code",
     "collapsed": false,
     "input": [
      "Hf = Pf / rhof / (G * mf / (rcball[n,0] * Re)**2) / Re"
     ],
     "language": "python",
     "metadata": {},
     "outputs": [],
     "prompt_number": 16
    },
    {
     "cell_type": "code",
     "collapsed": false,
     "input": [
      "Hf"
     ],
     "language": "python",
     "metadata": {},
     "outputs": [
      {
       "output_type": "pyout",
       "prompt_number": 17,
       "text": [
        "1.4231687275838514"
       ]
      }
     ],
     "prompt_number": 17
    },
    {
     "cell_type": "code",
     "collapsed": false,
     "input": [
      "(rcball[n,1] - rcball[n,0]) / param.RB[n]"
     ],
     "language": "python",
     "metadata": {},
     "outputs": [
      {
       "output_type": "pyout",
       "prompt_number": 18,
       "text": [
        "0.0058664790512227526"
       ]
      }
     ],
     "prompt_number": 18
    },
    {
     "cell_type": "code",
     "collapsed": false,
     "input": [
      "\n",
      "(rcball[n,1] - rcball[n,0]) / Hf"
     ],
     "language": "python",
     "metadata": {},
     "outputs": [
      {
       "output_type": "pyout",
       "prompt_number": 19,
       "text": [
        "18.406440307459331"
       ]
      }
     ],
     "prompt_number": 19
    },
    {
     "cell_type": "code",
     "collapsed": false,
     "input": [
      "rhoi"
     ],
     "language": "python",
     "metadata": {},
     "outputs": [
      {
       "output_type": "pyout",
       "prompt_number": 20,
       "text": [
        "array(2.2806317318803176e-05)"
       ]
      }
     ],
     "prompt_number": 20
    },
    {
     "cell_type": "code",
     "collapsed": false,
     "input": [
      "rhof"
     ],
     "language": "python",
     "metadata": {},
     "outputs": [
      {
       "output_type": "pyout",
       "prompt_number": 21,
       "text": [
        "array(1.1084414080553516e-07)"
       ]
      }
     ],
     "prompt_number": 21
    },
    {
     "cell_type": "code",
     "collapsed": false,
     "input": [
      "(rcball[n,1] - rcball[n,0]) * Re / 10**10"
     ],
     "language": "python",
     "metadata": {},
     "outputs": [
      {
       "output_type": "pyout",
       "prompt_number": 22,
       "text": [
        "1.6689134084625634"
       ]
      }
     ],
     "prompt_number": 22
    },
    {
     "cell_type": "code",
     "collapsed": false,
     "input": [
      "mf/Me"
     ],
     "language": "python",
     "metadata": {},
     "outputs": [
      {
       "output_type": "pyout",
       "prompt_number": 23,
       "text": [
        "10.334900832614037"
       ]
      }
     ],
     "prompt_number": 23
    },
    {
     "cell_type": "code",
     "collapsed": false,
     "input": [
      "(mf - mi) / param.MB[n] / Me"
     ],
     "language": "python",
     "metadata": {},
     "outputs": [
      {
       "output_type": "pyout",
       "prompt_number": 24,
       "text": [
        "0.0010148632463892868"
       ]
      }
     ],
     "prompt_number": 24
    },
    {
     "cell_type": "code",
     "collapsed": false,
     "input": [
      "a = 5.0\n",
      "Mc = 15 * Me\n",
      "rc = (3 * Mc / (4 * numpy.pi * rhoc))**(1./3)\n",
      "\n",
      "prms=paramsEOS(Mc, rc, 0.3, 5.0, 0.131, 140.047, kdustall)"
     ],
     "language": "python",
     "metadata": {},
     "outputs": [],
     "prompt_number": 25
    },
    {
     "cell_type": "code",
     "collapsed": false,
     "input": [
      "x = atmload('Td140.04_Pd0.131Mc15.0.npz', prms = prms, disk = 0)"
     ],
     "language": "python",
     "metadata": {},
     "outputs": [],
     "prompt_number": 26
    },
    {
     "cell_type": "code",
     "collapsed": false,
     "input": [
      "model, param, prof = x"
     ],
     "language": "python",
     "metadata": {},
     "outputs": [],
     "prompt_number": 27
    },
    {
     "cell_type": "code",
     "collapsed": false,
     "input": [
      "param.Mtot"
     ],
     "language": "python",
     "metadata": {},
     "outputs": [
      {
       "output_type": "pyout",
       "prompt_number": 28,
       "text": [
        "array([ 25.3])"
       ]
      }
     ],
     "prompt_number": 28
    },
    {
     "cell_type": "code",
     "collapsed": false,
     "input": [
      "plt.semilogy(prof[0].m, prof[0].r)\n",
      "plt.xlim(3e28, 2e29)\n",
      "plt.ylim(1e9, 3e12)\n",
      "plt.xlabel('m [g]')\n",
      "plt.ylabel('r [cm]')"
     ],
     "language": "python",
     "metadata": {},
     "outputs": [
      {
       "output_type": "pyout",
       "prompt_number": 34,
       "text": [
        "<matplotlib.text.Text at 0x110b5a910>"
       ]
      },
      {
       "output_type": "display_data",
       "png": "[encoded data removed]"
      }
     ],
     "prompt_number": 34
    },
    {
     "cell_type": "code",
     "collapsed": false,
     "input": [
      "plt.loglog(prof[0].t, prof[0].P)\n",
      "plt.xlim(1e2, 1e5)\n",
      "plt.ylim(10**(-2), 1e12)\n",
      "plt.xlabel('T [K]')\n",
      "plt.ylabel(r'P [dyn cm$^{-2}$]')"
     ],
     "language": "python",
     "metadata": {},
     "outputs": [
      {
       "output_type": "pyout",
       "prompt_number": 30,
       "text": [
        "<matplotlib.text.Text at 0x10fe75950>"
       ]
      },
      {
       "output_type": "display_data",
       "png": "[encoded data removed]"
      }
     ],
     "prompt_number": 30
    },
    {
     "cell_type": "code",
     "collapsed": false,
     "input": [
      "plt.semilogy(prof[0].m, prof[0].t)\n",
      "plt.xlim(3e28, 2e29)\n",
      "plt.ylim(1e2, 1e5)\n",
      "plt.xlabel('m [g]')\n",
      "plt.ylabel('T [K]')"
     ],
     "language": "python",
     "metadata": {},
     "outputs": [
      {
       "output_type": "pyout",
       "prompt_number": 31,
       "text": [
        "<matplotlib.text.Text at 0x11047eb10>"
       ]
      },
      {
       "output_type": "display_data",
       "png": "[encoded data removed]"
      }
     ],
     "prompt_number": 31
    },
    {
     "cell_type": "code",
     "collapsed": false,
     "input": [
      "plt.semilogy(prof[0].m, prof[0].rho)\n",
      "plt.xlim(3e28, 2e29)\n",
      "plt.ylim(10**(-12), 1)\n",
      "plt.xlabel('m [g]')\n",
      "plt.ylabel(r' $\\rho$ [g cm$$^{-3}]')"
     ],
     "language": "python",
     "metadata": {},
     "outputs": [
      {
       "output_type": "pyout",
       "prompt_number": 32,
       "text": [
        "<matplotlib.text.Text at 0x110b07510>"
       ]
      },
      {
       "output_type": "display_data",
       "png": "[encoded data removed]"
      }
     ],
     "prompt_number": 32
    },
    {
     "cell_type": "code",
     "collapsed": false,
     "input": [
      "param.L"
     ],
     "language": "python",
     "metadata": {},
     "outputs": [
      {
       "output_type": "pyout",
       "prompt_number": 35,
       "text": [
        "array([  4.46211556e+26])"
       ]
      }
     ],
     "prompt_number": 35
    },
    {
     "cell_type": "code",
     "collapsed": false,
     "input": [],
     "language": "python",
     "metadata": {},
     "outputs": []
    }
   ],
   "metadata": {}
  }
 ]
}
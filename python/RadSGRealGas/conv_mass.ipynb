{
 "metadata": {
  "name": "conv_mass"
 },
 "nbformat": 3,
 "nbformat_minor": 0,
 "worksheets": [
  {
   "cells": [
    {
     "cell_type": "code",
     "collapsed": false,
     "input": [
      "import os\n",
      "os.chdir('/Users/ana-mariapiso/core_accretion/python')\n",
      "#os.chdir('/home/apiso/repos/core_accretion')\n",
      "\n",
      "from utils.constants import G, kb, mp, Rb, Me, Re, Msun, RH, RHe, sigma, \\\n",
      "     cmperau, RHill, gammafn, mufn, Rfn, Cvfn, kdust, Tdisk, Pdisk, paramsEOS, params\n",
      "from utils.parameters import FT, FSigma, mstar\n",
      "from utils.userpath import userpath\n",
      "import numpy\n",
      "import scipy\n",
      "import math\n",
      "import matplotlib.pyplot as plt\n",
      "import matplotlib.cm as cm\n",
      "from types import FunctionType as function\n",
      "from collections import namedtuple\n",
      "from scipy import integrate\n",
      "from utils import cb_corrections as cb\n",
      "from utils.interpolation_functions_logp import interpolations\n",
      "from scipy.integrate import odeint\n",
      "from scipy.interpolate import interp1d\n",
      "from scipy.optimize import fminbound, brentq\n",
      "from RadSGRealGas.profiles import atmload\n",
      "from RadSGPoly.profiles_poly import atmload as atmloadpoly\n",
      "from RadSGRealGas.cooling import critical\n",
      "from RadSGPoly.cooling_poly import critical as criticalpoly\n",
      "from utils.interpolation_functions import interplog10S\n",
      "from RadSGRealGas.shooting import mass_conv, Mcoremax"
     ],
     "language": "python",
     "metadata": {},
     "outputs": [
      {
       "output_type": "stream",
       "stream": "stderr",
       "text": [
        "EOS/EOSread.py:18: RuntimeWarning: invalid value encountered in multiply\n",
        "  EOS=0*numpy.ndarray(shape=(Nt,Np, Ncol), dtype=float)\n"
       ]
      }
     ],
     "prompt_number": 1
    },
    {
     "cell_type": "code",
     "collapsed": false,
     "input": [
      "from RadSGRealGas import shooting as shoot\n",
      "reload(shoot)"
     ],
     "language": "python",
     "metadata": {},
     "outputs": [
      {
       "output_type": "pyout",
       "prompt_number": 2,
       "text": [
        "<module 'RadSGRealGas.shooting' from 'RadSGRealGas/shooting.pyc'>"
       ]
      }
     ],
     "prompt_number": 2
    },
    {
     "cell_type": "code",
     "collapsed": false,
     "input": [
      "au = [0.65, 0.8, 0.9, 1.0, 3.0, 5.0, 10.0, 20.0, 30.0, 40.0, 50.0, 60.0, 70.0, 80.0, 90.0, 100]\n",
      "au20 = au[4:]\n",
      "au25 = au20\n",
      "au30 = au25[1:]\n"
     ],
     "language": "python",
     "metadata": {},
     "outputs": [],
     "prompt_number": 3
    },
    {
     "cell_type": "code",
     "collapsed": false,
     "input": [
      "Mconv = 0 * numpy.ndarray(shape = (len(au)), dtype = float)\n",
      "\n",
      "for i in range(len(Mconv)):\n",
      "    Mconv[i] = mass_conv(10*Me, 20*Me, 500, 1e-25, 0.3, au[i], 10*Me)[0]\n",
      "\n"
     ],
     "language": "python",
     "metadata": {},
     "outputs": [],
     "prompt_number": 5
    },
    {
     "cell_type": "code",
     "collapsed": false,
     "input": [
      "Mconv20 = 0 * numpy.ndarray(shape = (len(au20)), dtype = float)\n",
      "\n",
      "for i in range(len(Mconv20)):\n",
      "    Mconv20[i] = mass_conv(20*Me, 50*Me, 500, 1e-25, 0.3, au20[i], 20*Me)[0]"
     ],
     "language": "python",
     "metadata": {},
     "outputs": [],
     "prompt_number": 6
    },
    {
     "cell_type": "code",
     "collapsed": false,
     "input": [
      "Mconv25 = 0 * numpy.ndarray(shape = (len(au25)), dtype = float)\n",
      "\n",
      "for i in range(len(Mconv25)):\n",
      "    Mconv25[i] = mass_conv(25*Me, 60*Me, 500, 1e-25, 0.3, au25[i], 25*Me)[0]"
     ],
     "language": "python",
     "metadata": {},
     "outputs": [],
     "prompt_number": 9
    },
    {
     "cell_type": "code",
     "collapsed": false,
     "input": [
      "Mconv30 = 0 * numpy.ndarray(shape = (len(au30)), dtype = float)\n",
      "\n",
      "for i in range(len(Mconv30)):\n",
      "    Mconv30[i] = mass_conv(30*Me, 70*Me, 500, 1e-25, 0.3, au30[i], 30*Me)[0]"
     ],
     "language": "python",
     "metadata": {},
     "outputs": [],
     "prompt_number": 10
    },
    {
     "cell_type": "code",
     "collapsed": false,
     "input": [
      "Mconv"
     ],
     "language": "python",
     "metadata": {},
     "outputs": [
      {
       "output_type": "pyout",
       "prompt_number": 11,
       "text": [
        "array([ 8.70577759,  4.57954067,  3.68858114,  3.15206715,  1.50565802,\n",
        "        1.39584051,  1.36292588,  1.38493767,  1.42837531,  1.47747778,\n",
        "        1.52742852,  1.57576506,  1.62092478,  1.66349426,  1.70335503,\n",
        "        1.74073202])"
       ]
      }
     ],
     "prompt_number": 11
    },
    {
     "cell_type": "code",
     "collapsed": false,
     "input": [
      "Mcmax1 = Mcoremax(500, 0.3, 1.0, 10*Me, 50*Me)[0]"
     ],
     "language": "python",
     "metadata": {},
     "outputs": [],
     "prompt_number": 10
    },
    {
     "cell_type": "code",
     "collapsed": false,
     "input": [
      "Mcmax3 = Mcoremax(500, 0.3, 3.0, 10*Me, 50*Me)[0]"
     ],
     "language": "python",
     "metadata": {},
     "outputs": [],
     "prompt_number": 13
    },
    {
     "cell_type": "code",
     "collapsed": false,
     "input": [
      "Mcmax5 = Mcoremax(500, 0.3, 5.0, 10*Me, 50*Me)[0]"
     ],
     "language": "python",
     "metadata": {},
     "outputs": [],
     "prompt_number": 14
    },
    {
     "cell_type": "code",
     "collapsed": false,
     "input": [
      "Mcmax8 = Mcoremax(500, 0.3, 8.0, 10*Me, 50*Me)[0]"
     ],
     "language": "python",
     "metadata": {},
     "outputs": [],
     "prompt_number": 15
    },
    {
     "cell_type": "code",
     "collapsed": false,
     "input": [
      "Mcmax10 = Mcoremax(500, 0.3, 10.0, 10*Me, 50*Me)[0]"
     ],
     "language": "python",
     "metadata": {},
     "outputs": [],
     "prompt_number": 16
    },
    {
     "cell_type": "code",
     "collapsed": false,
     "input": [
      "Mcmax07 = Mcoremax(500, 0.3, 0.7, 10*Me, 15*Me)[0]"
     ],
     "language": "python",
     "metadata": {},
     "outputs": [],
     "prompt_number": 17
    },
    {
     "cell_type": "code",
     "collapsed": false,
     "input": [
      "Mcmax05 = Mcoremax(500, 0.3, 0.5, 5*Me, 10*Me)[0]"
     ],
     "language": "python",
     "metadata": {},
     "outputs": [],
     "prompt_number": 18
    },
    {
     "cell_type": "code",
     "collapsed": false,
     "input": [
      "Mcmax03 = Mcoremax(500, 0.3, 0.3, 4*Me, 6*Me)[0]"
     ],
     "language": "python",
     "metadata": {},
     "outputs": [],
     "prompt_number": 19
    },
    {
     "cell_type": "code",
     "collapsed": false,
     "input": [
      "Mcmax01 = shoot.Mcoremax(500, 0.3, 0.1, 2*Me, 4*Me, Mmax = 10*Me)[0]"
     ],
     "language": "python",
     "metadata": {},
     "outputs": [
      {
       "ename": "RuntimeError",
       "evalue": "Failed to converge after 100 iterations.",
       "output_type": "pyerr",
       "traceback": [
        "\u001b[0;31m---------------------------------------------------------------------------\u001b[0m\n\u001b[0;31mRuntimeError\u001b[0m                              Traceback (most recent call last)",
        "\u001b[0;32m<ipython-input-29-79519e7f3676>\u001b[0m in \u001b[0;36m<module>\u001b[0;34m()\u001b[0m\n\u001b[0;32m----> 1\u001b[0;31m \u001b[0mMcmax01\u001b[0m \u001b[0;34m=\u001b[0m \u001b[0mshoot\u001b[0m\u001b[0;34m.\u001b[0m\u001b[0mMcoremax\u001b[0m\u001b[0;34m(\u001b[0m\u001b[0;36m500\u001b[0m\u001b[0;34m,\u001b[0m \u001b[0;36m0.3\u001b[0m\u001b[0;34m,\u001b[0m \u001b[0;36m0.1\u001b[0m\u001b[0;34m,\u001b[0m \u001b[0;36m2\u001b[0m\u001b[0;34m*\u001b[0m\u001b[0mMe\u001b[0m\u001b[0;34m,\u001b[0m \u001b[0;36m4\u001b[0m\u001b[0;34m*\u001b[0m\u001b[0mMe\u001b[0m\u001b[0;34m,\u001b[0m \u001b[0mMmax\u001b[0m \u001b[0;34m=\u001b[0m \u001b[0;36m10\u001b[0m\u001b[0;34m*\u001b[0m\u001b[0mMe\u001b[0m\u001b[0;34m)\u001b[0m\u001b[0;34m[\u001b[0m\u001b[0;36m0\u001b[0m\u001b[0;34m]\u001b[0m\u001b[0;34m\u001b[0m\u001b[0m\n\u001b[0m",
        "\u001b[0;32m/Users/ana-mariapiso/core_accretion/python/RadSGRealGas/shooting.py\u001b[0m in \u001b[0;36mMcoremax\u001b[0;34m(n, Y, a, Mc1, Mc2, Mmax)\u001b[0m\n\u001b[1;32m    483\u001b[0m         \u001b[0;32mreturn\u001b[0m \u001b[0mdeltamax\u001b[0m\u001b[0;34m\u001b[0m\u001b[0m\n\u001b[1;32m    484\u001b[0m \u001b[0;34m\u001b[0m\u001b[0m\n\u001b[0;32m--> 485\u001b[0;31m     \u001b[0mMcmax\u001b[0m \u001b[0;34m=\u001b[0m \u001b[0mbrentq\u001b[0m\u001b[0;34m(\u001b[0m\u001b[0merrcore\u001b[0m\u001b[0;34m,\u001b[0m \u001b[0mMc1\u001b[0m\u001b[0;34m,\u001b[0m \u001b[0mMc2\u001b[0m\u001b[0;34m)\u001b[0m\u001b[0;34m\u001b[0m\u001b[0m\n\u001b[0m\u001b[1;32m    486\u001b[0m \u001b[0;34m\u001b[0m\u001b[0m\n\u001b[1;32m    487\u001b[0m     \u001b[0;32mreturn\u001b[0m \u001b[0mMcmax\u001b[0m\u001b[0;34m,\u001b[0m \u001b[0merrcore\u001b[0m\u001b[0;34m(\u001b[0m\u001b[0mMcmax\u001b[0m\u001b[0;34m)\u001b[0m\u001b[0;34m\u001b[0m\u001b[0m\n",
        "\u001b[0;32m/Library/Frameworks/EPD64.framework/Versions/7.2/lib/python2.7/site-packages/scipy/optimize/zeros.py\u001b[0m in \u001b[0;36mbrentq\u001b[0;34m(f, a, b, args, xtol, rtol, maxiter, full_output, disp)\u001b[0m\n\u001b[1;32m    364\u001b[0m     \u001b[0;32mif\u001b[0m \u001b[0mtype\u001b[0m\u001b[0;34m(\u001b[0m\u001b[0margs\u001b[0m\u001b[0;34m)\u001b[0m \u001b[0;34m!=\u001b[0m \u001b[0mtype\u001b[0m\u001b[0;34m(\u001b[0m\u001b[0;34m(\u001b[0m\u001b[0;34m)\u001b[0m\u001b[0;34m)\u001b[0m \u001b[0;34m:\u001b[0m\u001b[0;34m\u001b[0m\u001b[0m\n\u001b[1;32m    365\u001b[0m         \u001b[0margs\u001b[0m \u001b[0;34m=\u001b[0m \u001b[0;34m(\u001b[0m\u001b[0margs\u001b[0m\u001b[0;34m,\u001b[0m\u001b[0;34m)\u001b[0m\u001b[0;34m\u001b[0m\u001b[0m\n\u001b[0;32m--> 366\u001b[0;31m     \u001b[0mr\u001b[0m \u001b[0;34m=\u001b[0m \u001b[0m_zeros\u001b[0m\u001b[0;34m.\u001b[0m\u001b[0m_brentq\u001b[0m\u001b[0;34m(\u001b[0m\u001b[0mf\u001b[0m\u001b[0;34m,\u001b[0m\u001b[0ma\u001b[0m\u001b[0;34m,\u001b[0m\u001b[0mb\u001b[0m\u001b[0;34m,\u001b[0m\u001b[0mxtol\u001b[0m\u001b[0;34m,\u001b[0m\u001b[0mmaxiter\u001b[0m\u001b[0;34m,\u001b[0m\u001b[0margs\u001b[0m\u001b[0;34m,\u001b[0m\u001b[0mfull_output\u001b[0m\u001b[0;34m,\u001b[0m\u001b[0mdisp\u001b[0m\u001b[0;34m)\u001b[0m\u001b[0;34m\u001b[0m\u001b[0m\n\u001b[0m\u001b[1;32m    367\u001b[0m     \u001b[0;32mreturn\u001b[0m \u001b[0mresults_c\u001b[0m\u001b[0;34m(\u001b[0m\u001b[0mfull_output\u001b[0m\u001b[0;34m,\u001b[0m \u001b[0mr\u001b[0m\u001b[0;34m)\u001b[0m\u001b[0;34m\u001b[0m\u001b[0m\n\u001b[1;32m    368\u001b[0m \u001b[0;34m\u001b[0m\u001b[0m\n",
        "\u001b[0;31mRuntimeError\u001b[0m: Failed to converge after 100 iterations."
       ]
      }
     ],
     "prompt_number": 29
    },
    {
     "cell_type": "code",
     "collapsed": false,
     "input": [
      "Mcmax = numpy.array([Mcmax03, Mcmax05, Mcmax07, Mcmax1, Mcmax3, Mcmax5, Mcmax8, Mcmax10])/Me"
     ],
     "language": "python",
     "metadata": {},
     "outputs": [],
     "prompt_number": 25
    },
    {
     "cell_type": "code",
     "collapsed": false,
     "input": [
      "Mcmax = array([  5.92804039,   8.5185348 ,  10.83172072,  13.86414668,\n",
      "        26.98704381,  34.80224488,  42.89806088,  46.81778977])"
     ],
     "language": "python",
     "metadata": {},
     "outputs": [],
     "prompt_number": 12
    },
    {
     "cell_type": "code",
     "collapsed": false,
     "input": [
      "Mcmax"
     ],
     "language": "python",
     "metadata": {},
     "outputs": [
      {
       "output_type": "pyout",
       "prompt_number": 13,
       "text": [
        "array([  5.92804039,   8.5185348 ,  10.83172072,  13.86414668,\n",
        "        26.98704381,  34.80224488,  42.89806088,  46.81778977])"
       ]
      }
     ],
     "prompt_number": 13
    },
    {
     "cell_type": "code",
     "collapsed": false,
     "input": [
      "plt.loglog(au, 10+Mconv, '-o', label = r'$M_c=10 M_{\\oplus}$')\n",
      "plt.semilogx(au20, 20+Mconv20, '-rs', label = r'$M_c=20 M_{\\oplus}$')\n",
      "plt.semilogx(au25, 25+Mconv25, '-^g', label = r'$M_c=25 M_{\\oplus}$')\n",
      "plt.semilogx(au30, 30+Mconv30, '-Dy', label = r'$M_c=30 M_{\\oplus}$')\n",
      "plt.axhline(y = 1)\n",
      "plt.axhline(y = 2)\n",
      "plt.legend(loc=2)\n",
      "plt.xlabel('a [aU]')\n",
      "plt.ylabel(r'$M_{\\rm{atm, conv}} \\,[M_{\\oplus}]$')\n",
      "plt.xlim(0.5, 100)\n",
      "plt.semilogx(au, 25*1.5*(numpy.array(au)/10)**(6./7))\n",
      "#plt.ylim(ymax=30)\n"
     ],
     "language": "python",
     "metadata": {},
     "outputs": [
      {
       "output_type": "pyout",
       "prompt_number": 35,
       "text": [
        "[<matplotlib.lines.Line2D at 0x110ac1d90>]"
       ]
      },
      {
       "output_type": "display_data",
       "png": "[encoded data removed]"
      }
     ],
     "prompt_number": 35
    },
    {
     "cell_type": "code",
     "collapsed": false,
     "input": [
      "plt.semilogx([0.3, 0.5, 0.7, 1, 3, 5, 8, 10], Mcmax, '-o')\n",
      "plt.xlabel('a [AU]')\n",
      "plt.ylabel(r'$M_{c, \\rm{max}}\\,[M_{\\oplus}]$')"
     ],
     "language": "python",
     "metadata": {},
     "outputs": [
      {
       "output_type": "pyout",
       "prompt_number": 22,
       "text": [
        "<matplotlib.text.Text at 0x110a0f710>"
       ]
      },
      {
       "output_type": "display_data",
       "png": "[encoded data removed]"
      }
     ],
     "prompt_number": 22
    },
    {
     "cell_type": "code",
     "collapsed": false,
     "input": [
      "Mconv"
     ],
     "language": "python",
     "metadata": {},
     "outputs": [
      {
       "output_type": "pyout",
       "prompt_number": 23,
       "text": [
        "array([ 8.70577759,  4.57954067,  3.68858114,  3.15206715,  1.50565802,\n",
        "        1.39584051,  1.36292588,  1.38493767,  1.42837531,  1.47747778,\n",
        "        1.52742852,  1.57576506,  1.62092478,  1.66349426,  1.70335503,\n",
        "        1.74073202])"
       ]
      }
     ],
     "prompt_number": 23
    },
    {
     "cell_type": "code",
     "collapsed": false,
     "input": [],
     "language": "python",
     "metadata": {},
     "outputs": []
    }
   ],
   "metadata": {}
  }
 ]
}
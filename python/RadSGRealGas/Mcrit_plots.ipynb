{
 "metadata": {
  "name": "Mcrit_plots"
 },
 "nbformat": 3,
 "nbformat_minor": 0,
 "worksheets": [
  {
   "cells": [
    {
     "cell_type": "code",
     "collapsed": false,
     "input": [
      "import os\n",
      "#os.chdir('/home/apiso/repos/core_accretion/python')\n",
      "os.chdir('/Users/ana-mariapiso/core_accretion/python')\n",
      "\n",
      "import numpy\n",
      "from utils.constants import Me, Re, gammafn, Rfn, Cvfn, Pdisk, Tdisk, kdust, kdust100, \\\n",
      "     params, mufn, paramsEOS\n",
      "from utils.userpath import userpath\n",
      "from utils.parameters import FSigma, FT, mstar\n",
      "import matplotlib.pyplot as plt\n",
      "from RadSGRealGas import plot_helper as ph\n",
      "from RadSGPoly import plot_helper as php\n",
      "from RadSGRealGas.profiles import atmload\n",
      "import matplotlib.cm as cm\n",
      "from Analytical import analytic_comp as ac\n",
      "from utils.mynumsci import mylogspace\n",
      "import utils.mynumsci as mns\n",
      "\n",
      "reload(ph)"
     ],
     "language": "python",
     "metadata": {},
     "outputs": [
      {
       "output_type": "pyout",
       "prompt_number": 24,
       "text": [
        "<module 'RadSGRealGas.plot_helper' from 'RadSGRealGas/plot_helper.py'>"
       ]
      }
     ],
     "prompt_number": 24
    },
    {
     "cell_type": "code",
     "collapsed": false,
     "input": [
      "a = 10.0\n",
      "Y = 0.3\n",
      "\n",
      "prms = paramsEOS(Me, Re, Y, a, Pd = Pdisk(a, mstar, FSigma, FT), \\\n",
      "                 Td = Tdisk(a, FT), kappa = kdust)"
     ],
     "language": "python",
     "metadata": {},
     "outputs": [],
     "prompt_number": 11
    },
    {
     "cell_type": "code",
     "collapsed": false,
     "input": [
      "atm031 = atmload('Mc7.0.npz', prms = prms)\n",
      "atm032 = atmload('Mc8.0.npz', prms = prms)\n",
      "atm033 = atmload('Mc9.0.npz', prms = prms)\n",
      "atm034 = atmload('Mc10.0.npz', prms = prms)\n",
      "atm035 = atmload('Mc11.0.npz', prms = prms)\n",
      "atm036 = atmload('Mc12.0.npz', prms = prms)\n",
      "atm037 = atmload('Mc13.0.npz', prms = prms)\n",
      "atm038 = atmload('Mc14.0.npz', prms = prms)\n",
      "atm039 = atmload('Mc15.0.npz', prms = prms)\n",
      "atm0310 = atmload('Mc16.0.npz', prms = prms)"
     ],
     "language": "python",
     "metadata": {},
     "outputs": [],
     "prompt_number": 12
    },
    {
     "cell_type": "code",
     "collapsed": false,
     "input": [
      "model03 = [atm031[0], atm032[0], atm033[0], atm034[0], atm035[0], atm036[0], atm037[0], atm038[0], atm039[0], atm0310[0]]\n",
      "param03 = [atm031[1], atm032[1], atm033[1], atm034[1], atm035[1], atm036[1], atm037[1], atm038[1], atm039[1], atm0310[1]]"
     ],
     "language": "python",
     "metadata": {},
     "outputs": [],
     "prompt_number": 13
    },
    {
     "cell_type": "code",
     "collapsed": false,
     "input": [
      "Mc03 = numpy.linspace(7, 16, 10)"
     ],
     "language": "python",
     "metadata": {},
     "outputs": [],
     "prompt_number": 14
    },
    {
     "cell_type": "code",
     "collapsed": false,
     "input": [
      "Mct_a10_03 = ph.t_vs_Mc_fixed_a(0.3, a, returnt = 1)"
     ],
     "language": "python",
     "metadata": {},
     "outputs": [],
     "prompt_number": 25
    },
    {
     "cell_type": "code",
     "collapsed": false,
     "input": [
      "Mc03 = Mct_a10_03[0]\n",
      "ttot03 = Mct_a10_03[1]\n",
      "Mcrittot03 = Mct_a10_03[2]\n",
      "dt03 = Mct_a10_03[3]\n",
      "tcum03 = Mct_a10_03[4]\n",
      "MB03 = Mct_a10_03[5]"
     ],
     "language": "python",
     "metadata": {},
     "outputs": [],
     "prompt_number": 26
    },
    {
     "cell_type": "code",
     "collapsed": false,
     "input": [
      "rnb = numpy.linspace(0, 256, 10)\n",
      "savefig = 1\n",
      "filename = 't_vs_M_10au.pdf'\n",
      "\n",
      "\n",
      "plt.figure(figsize = (3.9, 3.9*0.75))\n",
      "\n",
      "for i in range(10):\n",
      "    plt.semilogy(param03[i].MB[1:] - Mc03[i], tcum03[i], c = cm.rainbow(numpy.int(rnb[i])), \\\n",
      "                     label = r' %s $M_{\\oplus}$' % str(Mc03[i]))\n",
      "    plt.semilogy(Mcrittot03[i] - Mc03[i], ttot03[i], 'o', c = cm.rainbow(numpy.int(rnb[i])))\n",
      "    plt.text((Mcrittot03[i] - Mc03[i])*1.03, ttot03[i]*1.3, '%s' % str(int(Mc03[i])), size = 9.5)\n",
      "plt.xlabel(r'$M_{\\mathrm{atm}}[M_{\\oplus}]$')\n",
      "#plt.axhline(y = 3 * 10**6, ls= '--')\n",
      "plt.xlim(0,18)\n",
      "plt.ylim(5 * 10**3, 4*10**7)\n",
      "    \n",
      "        \n",
      "#plt.legend(loc = 4, prop = {'size':5})\n",
      "plt.ylabel(r'$t$ [yrs]')\n",
      "#plt.title(r'a=10 AU')\n",
      "plt.tight_layout()\n",
      "if savefig != 0:\n",
      "    plt.savefig(userpath + '/figs/ModelAtmospheres/RadSelfGravRealEOS/' + filename)\n",
      "    "
     ],
     "language": "python",
     "metadata": {},
     "outputs": [
      {
       "output_type": "display_data",
       "png": "[encoded data removed]"
      }
     ],
     "prompt_number": 57
    },
    {
     "cell_type": "code",
     "collapsed": false,
     "input": [
      "(ttot03[0]-ttot03[-1])/10**6"
     ],
     "language": "python",
     "metadata": {},
     "outputs": [
      {
       "output_type": "pyout",
       "prompt_number": 59,
       "text": [
        "11.955285439016958"
       ]
      }
     ],
     "prompt_number": 59
    },
    {
     "cell_type": "code",
     "collapsed": false,
     "input": [
      "plt.plot(Mc03, ttot03/10**6)"
     ],
     "language": "python",
     "metadata": {},
     "outputs": [
      {
       "output_type": "pyout",
       "prompt_number": 39,
       "text": [
        "[<matplotlib.lines.Line2D at 0x11519cc90>]"
       ]
      },
      {
       "output_type": "display_data",
       "png": "[encoded data removed]"
      }
     ],
     "prompt_number": 39
    },
    {
     "cell_type": "code",
     "collapsed": false,
     "input": [
      "(ttot03[1:] - ttot03[:-1]) / (Mc03[1:] - Mc03[:-1]) / 10**6"
     ],
     "language": "python",
     "metadata": {},
     "outputs": [
      {
       "output_type": "pyout",
       "prompt_number": 40,
       "text": [
        "array([-3.33873479, -2.34159952, -1.71272939, -1.27453831, -0.97024767,\n",
        "       -0.76398974, -0.61221898, -0.53942905, -0.40179799])"
       ]
      }
     ],
     "prompt_number": 40
    },
    {
     "cell_type": "code",
     "collapsed": false,
     "input": [
      "xreal = ph.Mc_vs_a_fixed_t(0.3, 3 * 10**6)"
     ],
     "language": "python",
     "metadata": {},
     "outputs": [],
     "prompt_number": 41
    },
    {
     "cell_type": "code",
     "collapsed": false,
     "input": [
      "xpoly = php.Mc_vs_a_fixed_t(2./7, 0.3, 3 * 10**6)"
     ],
     "language": "python",
     "metadata": {},
     "outputs": [],
     "prompt_number": 43
    },
    {
     "cell_type": "code",
     "collapsed": false,
     "input": [
      "aureal = xreal[0]\n",
      "Mcreal = xreal[1]"
     ],
     "language": "python",
     "metadata": {},
     "outputs": [],
     "prompt_number": 45
    },
    {
     "cell_type": "code",
     "collapsed": false,
     "input": [
      "aupoly = xpoly[0]\n",
      "Mcpoly = xpoly[1]"
     ],
     "language": "python",
     "metadata": {},
     "outputs": [],
     "prompt_number": 46
    },
    {
     "cell_type": "code",
     "collapsed": false,
     "input": [
      "filename = 'Mc_vs_a_poly_real_paper.pdf'\n",
      "\n",
      "plt.figure(figsize = (3.7, 3.7 * 0.75))\n",
      "\n",
      "plt.semilogx(aureal, Mcreal, '-o', label = 'Realistic EOS')\n",
      "plt.semilogx(aupoly, Mcpoly, '-rs',  label = r\"Poly $\\nabla_{\\rm{ad}}=2/7$, $\\mu=2.35$\")\n",
      "#plt.loglog(aupoly, Mcraf, '--g', label = \"interm. planetesimal acc. rate \\n (Rafikov 2006)\")\n",
      "#plt.plot(aurafan, Mcrafan, '--', label = r'Rafikov (2006) An.')\n",
      "plt.xlim(4, 110)\n",
      "#plt.ylim(1, 50)\n",
      "plt.legend(frameon = False, prop = {'size':11})\n",
      "plt.xlabel('a [AU]')\n",
      "plt.ylabel(r'$M_{\\rm{c, crit}}\\,[M_{\\oplus}]$')\n",
      "plt.tight_layout()\n",
      "\n",
      "plt.savefig(userpath + '/figs/ModelAtmospheres/RadSelfGravRealEOS/' + filename)"
     ],
     "language": "python",
     "metadata": {},
     "outputs": [
      {
       "output_type": "display_data",
       "png": "[encoded data removed]"
      }
     ],
     "prompt_number": 47
    },
    {
     "cell_type": "code",
     "collapsed": false,
     "input": [],
     "language": "python",
     "metadata": {},
     "outputs": []
    }
   ],
   "metadata": {}
  }
 ]
}
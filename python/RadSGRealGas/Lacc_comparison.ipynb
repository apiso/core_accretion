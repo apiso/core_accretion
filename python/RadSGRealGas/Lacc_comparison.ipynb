{
 "metadata": {
  "name": "Lacc_comparison"
 },
 "nbformat": 3,
 "nbformat_minor": 0,
 "worksheets": [
  {
   "cells": [
    {
     "cell_type": "code",
     "collapsed": false,
     "input": [
      "import os\n",
      "#os.chdir('/home/apiso/repos/core_accretion/python')\n",
      "os.chdir('/Users/ana-mariapiso/core_accretion/python')\n",
      "\n",
      "import numpy\n",
      "from numpy import pi\n",
      "from scipy import optimize\n",
      "from utils.constants import G, Me, Re, gammafn, Rfn, Cvfn, Pdisk, Tdisk, kdust, kdust100, \\\n",
      "     params, mufn, cmperau, Msun, sigma, kb, mp, paramsEOS\n",
      "from utils.userpath import userpath\n",
      "from utils.parameters import FSigma, FT, mstar, rhoc\n",
      "import matplotlib.pyplot as plt\n",
      "from RadSGPoly import plot_helper as php\n",
      "from RadSGRealGas import plot_helper as ph\n",
      "from RadSGPoly.profiles_poly import atmload\n",
      "from RadSGRealGas.profiles import atmload as atmloadreal\n",
      "from RadSGPoly.cooling_poly import critical\n",
      "from RadSGRealGas.cooling import critical as criticalreal\n",
      "import matplotlib.cm as cm\n",
      "from scipy.interpolate import interp1d"
     ],
     "language": "python",
     "metadata": {},
     "outputs": [
      {
       "output_type": "stream",
       "stream": "stderr",
       "text": [
        "EOS/EOSread.py:18: RuntimeWarning: invalid value encountered in multiply\n",
        "  EOS=0*numpy.ndarray(shape=(Nt,Np, Ncol), dtype=float)\n"
       ]
      }
     ],
     "prompt_number": 1
    },
    {
     "cell_type": "code",
     "collapsed": false,
     "input": [
      "reload(php)"
     ],
     "language": "python",
     "metadata": {},
     "outputs": [
      {
       "output_type": "pyout",
       "prompt_number": 43,
       "text": [
        "<module 'RadSGPoly.plot_helper' from 'RadSGPoly/plot_helper.py'>"
       ]
      }
     ],
     "prompt_number": 43
    },
    {
     "cell_type": "code",
     "collapsed": false,
     "input": [
      "delad27 = 2./7\n",
      "Y03 = 0.3\n",
      "a10 = 40.0\n",
      "a100 = 100.0\n",
      "\n",
      "Mc = 10.0 * Me\n",
      "rhoc = 3.2\n",
      "rc = (3 * Mc / (4 * numpy.pi * rhoc))**(1./3)\n",
      "\n",
      "prms10 = paramsEOS(Mc, rc, Y03, a10, Pd = Pdisk(a10, mstar, FSigma, FT), \\\n",
      "                 Td = Tdisk(a10, FT), kappa = kdust)\n",
      "\n",
      "#params(Mc, rc, a10, delad27, Y03, gamma = gammafn(delad27), R = Rfn(Y03), \\\n",
      "#              Cv = Cvfn(Y03, delad27), Pd = Pdisk(a10, mstar, FSigma, FT), \\\n",
      "#              Td = Tdisk(a10, FT), kappa = kdust)\n",
      "\n",
      "prms100 = params(Mc, rc, a100, delad27, Y03, gamma = gammafn(delad27), R = Rfn(Y03), \\\n",
      "              Cv = Cvfn(Y03, delad27), Pd = Pdisk(a10, mstar, FSigma, FT), \\\n",
      "              Td = Tdisk(a10, FT), kappa = kdust)"
     ],
     "language": "python",
     "metadata": {},
     "outputs": [],
     "prompt_number": 2
    },
    {
     "cell_type": "code",
     "collapsed": false,
     "input": [
      "atm10 = atmloadreal('Mc10.0.npz', prms = prms10)\n",
      "atm100 = atmload('Mc10.0.npz', prms = prms100)"
     ],
     "language": "python",
     "metadata": {},
     "outputs": [],
     "prompt_number": 3
    },
    {
     "cell_type": "code",
     "collapsed": false,
     "input": [
      "model10 = atm10[0]\n",
      "param10 = atm10[1]\n",
      "prof10 = atm10[2]\n",
      "\n",
      "model100 = atm100[0]\n",
      "param100 = atm100[1]\n",
      "prof100= atm100[2]"
     ],
     "language": "python",
     "metadata": {},
     "outputs": [],
     "prompt_number": 4
    },
    {
     "cell_type": "code",
     "collapsed": false,
     "input": [
      "crit10 = criticalreal(param10, prof10, model10)\n",
      "crit100 = critical(param100, prof100, model100)"
     ],
     "language": "python",
     "metadata": {},
     "outputs": [],
     "prompt_number": 5
    },
    {
     "cell_type": "code",
     "collapsed": false,
     "input": [
      "param10 = crit10[0]\n",
      "prof10 = crit10[1]\n",
      "dt10 = crit10[2]\n",
      "\n",
      "param100 = crit100[0]\n",
      "prof100 = crit100[1]\n",
      "dt100 = crit100[2]\n",
      "\n",
      "t10 = 0 * numpy.ndarray(shape = (len(dt10)), dtype = float)\n",
      "for i in range(len(t10)):\n",
      "    t10[i] = sum(dt10[:i])\n",
      "    \n",
      "t100 = 0 * numpy.ndarray(shape = (len(dt100)), dtype = float)\n",
      "for i in range(len(t100)):\n",
      "    t100[i] = sum(dt100[:i])\n"
     ],
     "language": "python",
     "metadata": {},
     "outputs": [],
     "prompt_number": 6
    },
    {
     "cell_type": "code",
     "collapsed": false,
     "input": [
      "L10 = param10.L\n",
      "L100 = param100.L\n",
      "\n",
      "MB10 = param10.MB\n",
      "MB100 = param100.MB\n",
      "\n",
      "Mtot10 = param10.Mtot\n",
      "\n",
      "Matm10 = MB10 * Me - Mc\n",
      "Matm100 = MB100 * Me - Mc\n",
      "\n",
      "Mcdot10 = L10 * rc / (G * Mc)\n",
      "Mcdot100 = L100 * rc / (G * Mc)\n",
      "\n",
      "dM10 = (Mtot10[1:] - Mtot10[:-1]) * Me\n",
      "dM100 = (MB100[1:] - MB100[:-1]) * Me\n",
      "\n",
      "tatm10 = Matm10[:-1] / (dM10 / dt10[:-1])\n",
      "tatm100 = Matm100[:-1] / (dM100 / dt100[:-1])\n",
      "\n",
      "ttot10 = MB10[:-1] * Me / (dM10 / dt10[:-1])\n",
      "ttot100 = MB100[:-1] * Me / (dM100 / dt100[:-1])"
     ],
     "language": "python",
     "metadata": {},
     "outputs": [],
     "prompt_number": 66
    },
    {
     "cell_type": "code",
     "collapsed": false,
     "input": [
      "Matmdot10 = dM10 / dt10[:-1]"
     ],
     "language": "python",
     "metadata": {},
     "outputs": [],
     "prompt_number": 67
    },
    {
     "cell_type": "code",
     "collapsed": false,
     "input": [
      "deltaMc10 = sum(Mcdot10 * dt10) / Me\n",
      "deltaMc100 = sum(Mcdot100 * dt100) / Me\n",
      "deltaMc10\n"
     ],
     "language": "python",
     "metadata": {},
     "outputs": [
      {
       "output_type": "pyout",
       "prompt_number": 9,
       "text": [
        "0.19944710924796979"
       ]
      }
     ],
     "prompt_number": 9
    },
    {
     "cell_type": "code",
     "collapsed": false,
     "input": [],
     "language": "python",
     "metadata": {},
     "outputs": []
    },
    {
     "cell_type": "code",
     "collapsed": false,
     "input": [
      "t10[-1]/(365 * 24 * 3600 * 10**6)"
     ],
     "language": "python",
     "metadata": {},
     "outputs": [
      {
       "output_type": "pyout",
       "prompt_number": 111,
       "text": [
        "2.5740072948580619"
       ]
      }
     ],
     "prompt_number": 111
    },
    {
     "cell_type": "code",
     "collapsed": false,
     "input": [
      "def Mdotacc(a, Mp, regime):\n",
      "    if regime == 'slow':\n",
      "        return Mp**(2./3) * (3 * 10**10)**(-1) * (a/10)**(-3)\n",
      "    elif regime == 'interm':\n",
      "        return Mp**(2./3) * (1.4 * 10**7)**(-1) * (a/10)**(-2)\n",
      "    if regime == 'fast':\n",
      "        return Mp**(2./3) * (3 * 10**5)**(-1) * (a/10)**(-3./2)"
     ],
     "language": "python",
     "metadata": {},
     "outputs": [],
     "prompt_number": 69
    },
    {
     "cell_type": "code",
     "collapsed": false,
     "input": [
      "def Td(a):\n",
      "    return 300 * a**(-1./2)\n",
      "\n",
      "def Pd(a):\n",
      "    return 24 * a**(-13./4)\n",
      "\n",
      "mu = 2.35 * mp\n",
      "delad = 2./7\n",
      "gamma = 7./5\n",
      "#k0 = 0.1\n",
      "beta = 2\n",
      "delinf = 1./(4-beta)\n",
      "xi = 1./(gamma - 1)\n",
      "\n",
      "C = (1 - delad/delinf)**(1./(delad * (4-beta))) * (4./3 * delinf * delad / (delinf - delad)) * delad**(1./(gamma - 1))\n",
      "\n",
      "def Omega(a):\n",
      "    return sqrt(G * Msun / (a * cmperau)**3)\n",
      "\n",
      "def Sigmap(a):\n",
      "    return 30 * a**(-3./2)\n",
      "\n",
      "def RHill(Mp, a):\n",
      "    return a * cmperau * (Mp / Msun)**(1./3)\n",
      "\n",
      "def k0raf(a):\n",
      "    return 0.02 * (Td(a)/100)**2\n",
      "\n",
      "    "
     ],
     "language": "python",
     "metadata": {},
     "outputs": [],
     "prompt_number": 96
    },
    {
     "cell_type": "code",
     "collapsed": false,
     "input": [
      "(k0(a)/0.1)**(3./5)*(1/0.3)**(3./5)*25*(a/10)**(-6/5)"
     ],
     "language": "python",
     "metadata": {},
     "outputs": [
      {
       "ename": "NameError",
       "evalue": "name 'a' is not defined",
       "output_type": "pyerr",
       "traceback": [
        "\u001b[0;31m---------------------------------------------------------------------------\u001b[0m\n\u001b[0;31mNameError\u001b[0m                                 Traceback (most recent call last)",
        "\u001b[0;32m<ipython-input-3-85eb9ec83969>\u001b[0m in \u001b[0;36m<module>\u001b[0;34m()\u001b[0m\n\u001b[0;32m----> 1\u001b[0;31m \u001b[0;34m(\u001b[0m\u001b[0mk0\u001b[0m\u001b[0;34m(\u001b[0m\u001b[0ma\u001b[0m\u001b[0;34m)\u001b[0m\u001b[0;34m/\u001b[0m\u001b[0;36m0.1\u001b[0m\u001b[0;34m)\u001b[0m\u001b[0;34m**\u001b[0m\u001b[0;34m(\u001b[0m\u001b[0;36m3.\u001b[0m\u001b[0;34m/\u001b[0m\u001b[0;36m5\u001b[0m\u001b[0;34m)\u001b[0m\u001b[0;34m*\u001b[0m\u001b[0;34m(\u001b[0m\u001b[0;36m1\u001b[0m\u001b[0;34m/\u001b[0m\u001b[0;36m0.3\u001b[0m\u001b[0;34m)\u001b[0m\u001b[0;34m**\u001b[0m\u001b[0;34m(\u001b[0m\u001b[0;36m3.\u001b[0m\u001b[0;34m/\u001b[0m\u001b[0;36m5\u001b[0m\u001b[0;34m)\u001b[0m\u001b[0;34m*\u001b[0m\u001b[0;36m25\u001b[0m\u001b[0;34m*\u001b[0m\u001b[0;34m(\u001b[0m\u001b[0ma\u001b[0m\u001b[0;34m/\u001b[0m\u001b[0;36m10\u001b[0m\u001b[0;34m)\u001b[0m\u001b[0;34m**\u001b[0m\u001b[0;34m(\u001b[0m\u001b[0;34m-\u001b[0m\u001b[0;36m6\u001b[0m\u001b[0;34m/\u001b[0m\u001b[0;36m5\u001b[0m\u001b[0;34m)\u001b[0m\u001b[0;34m\u001b[0m\u001b[0m\n\u001b[0m",
        "\u001b[0;31mNameError\u001b[0m: name 'a' is not defined"
       ]
      }
     ],
     "prompt_number": 3
    },
    {
     "cell_type": "code",
     "collapsed": false,
     "input": [
      "C"
     ],
     "language": "python",
     "metadata": {},
     "outputs": [
      {
       "output_type": "pyout",
       "prompt_number": 11,
       "text": [
        "0.008804769527400395"
       ]
      }
     ],
     "prompt_number": 11
    },
    {
     "cell_type": "code",
     "collapsed": false,
     "input": [
      "xpoly = php.Mc_vs_a_fixed_t(2./7, 0.3, 3*10**6, opacity=kdust)\n"
     ],
     "language": "python",
     "metadata": {},
     "outputs": [],
     "prompt_number": 62
    },
    {
     "cell_type": "code",
     "collapsed": false,
     "input": [
      "xpoly100 = php.Mc_vs_a_fixed_t(2./7, 0.3, 3*10**6, opacity=kdust100)"
     ],
     "language": "python",
     "metadata": {},
     "outputs": [],
     "prompt_number": 44
    },
    {
     "cell_type": "code",
     "collapsed": false,
     "input": [
      "xreal = ph.Mc_vs_a_fixed_t(0.3, 3 * 10**6)"
     ],
     "language": "python",
     "metadata": {},
     "outputs": [],
     "prompt_number": 10
    },
    {
     "cell_type": "code",
     "collapsed": false,
     "input": [
      "x=ph.t_vs_Mc_fixed_a(0.3, 10.0, returnt = 0)"
     ],
     "language": "python",
     "metadata": {},
     "outputs": [],
     "prompt_number": 3
    },
    {
     "cell_type": "code",
     "collapsed": false,
     "input": [
      "Mcpoly"
     ],
     "language": "python",
     "metadata": {},
     "outputs": [
      {
       "output_type": "pyout",
       "prompt_number": 65,
       "text": [
        "array([ 8.34194038,         nan,  6.2045476 ,  5.5052304 ,  4.93976068,\n",
        "        4.60755571,  4.27637655,  3.97495129,  3.8211646 ,  3.66721793,\n",
        "        3.51312915])"
       ]
      }
     ],
     "prompt_number": 65
    },
    {
     "cell_type": "code",
     "collapsed": false,
     "input": [
      "def McritHill(a):\n",
      "    return 25 * (a/10)**(-6./5) * (k0raf(a)/0.1)**(3./5) * (1/0.3)**(3./5) * (2.48/2.35)**4"
     ],
     "language": "python",
     "metadata": {},
     "outputs": [],
     "prompt_number": 97
    },
    {
     "cell_type": "code",
     "collapsed": false,
     "input": [
      "#aureal = xreal[0]\n",
      "#Mcreal = xreal[1]\n",
      "\n",
      "aupoly = xpoly[0]\n",
      "Mcpoly = xpoly[1]\n",
      "\n",
      "\n"
     ],
     "language": "python",
     "metadata": {},
     "outputs": [
      {
       "ename": "NameError",
       "evalue": "name 'xpoly' is not defined",
       "output_type": "pyerr",
       "traceback": [
        "\u001b[0;31m---------------------------------------------------------------------------\u001b[0m\n\u001b[0;31mNameError\u001b[0m                                 Traceback (most recent call last)",
        "\u001b[0;32m<ipython-input-45-a6fcf5620ea7>\u001b[0m in \u001b[0;36m<module>\u001b[0;34m()\u001b[0m\n\u001b[1;32m      2\u001b[0m \u001b[0;31m#Mcreal = xreal[1]\u001b[0m\u001b[0;34m\u001b[0m\u001b[0;34m\u001b[0m\u001b[0m\n\u001b[1;32m      3\u001b[0m \u001b[0;34m\u001b[0m\u001b[0m\n\u001b[0;32m----> 4\u001b[0;31m \u001b[0maupoly\u001b[0m \u001b[0;34m=\u001b[0m \u001b[0mxpoly\u001b[0m\u001b[0;34m[\u001b[0m\u001b[0;36m0\u001b[0m\u001b[0;34m]\u001b[0m\u001b[0;34m\u001b[0m\u001b[0m\n\u001b[0m\u001b[1;32m      5\u001b[0m \u001b[0mMcpoly\u001b[0m \u001b[0;34m=\u001b[0m \u001b[0mxpoly\u001b[0m\u001b[0;34m[\u001b[0m\u001b[0;36m1\u001b[0m\u001b[0;34m]\u001b[0m\u001b[0;34m\u001b[0m\u001b[0m\n\u001b[1;32m      6\u001b[0m \u001b[0;34m\u001b[0m\u001b[0m\n",
        "\u001b[0;31mNameError\u001b[0m: name 'xpoly' is not defined"
       ]
      }
     ],
     "prompt_number": 45
    },
    {
     "cell_type": "code",
     "collapsed": false,
     "input": [
      "a=linspace(0.1, 100, 20)"
     ],
     "language": "python",
     "metadata": {},
     "outputs": [],
     "prompt_number": 22
    },
    {
     "cell_type": "code",
     "collapsed": false,
     "input": [
      "filename = 'Mc_vs_a_poly.pdf'\n",
      "\n",
      "plt.figure(figsize = (3.7, 3.7 * 0.75))\n",
      "\n",
      "#plt.semilogx(aureal, Mcreal, '-o', label = 'Real EOS')\n",
      "plt.semilogx(aupoly, Mcpoly, '-rs',  label = r\"Diatomic poly $\\nabla_{\\rm{ad}}=2/7$\")\n",
      "#plt.loglog(aupoly, Mcraf, '--g', label = \"interm. planetesimal acc. rate \\n (Rafikov 2006)\")\n",
      "#plt.plot(aurafan, Mcrafan, '--', label = r'Rafikov (2006) An.')\n",
      "plt.xlim(4, 110)\n",
      "#plt.ylim(1, 50)\n",
      "plt.legend(frameon = False, prop = {'size':10})\n",
      "plt.xlabel('a [AU]')\n",
      "plt.ylabel(r'$M_{\\rm{c, crit}}\\,[M_{\\oplus}]$')\n",
      "plt.tight_layout()\n",
      "\n",
      "plt.savefig(userpath + '/figs/ModelAtmospheres/RadSelfGravRealEOS/' + filename)"
     ],
     "language": "python",
     "metadata": {},
     "outputs": [
      {
       "output_type": "display_data",
       "png": "[encoded data removed]"
      }
     ],
     "prompt_number": 27
    },
    {
     "cell_type": "code",
     "collapsed": false,
     "input": [
      "aupoly100 = xpoly100[0]\n",
      "Mcpoly100 = xpoly100[1]\n",
      "\n",
      "Mcraf = numpy.ndarray(shape = (len(aupoly100)), dtype = float)\n",
      "for i in range(len(Mcraf)):\n",
      "    Mcraf[i] = McritHill(aupoly100[i])"
     ],
     "language": "python",
     "metadata": {},
     "outputs": [],
     "prompt_number": 98
    },
    {
     "cell_type": "code",
     "collapsed": false,
     "input": [
      "filename = 'Mc_vs_a_poly_opacity.pdf'\n",
      "\n",
      "plt.figure(figsize = (3.7, 3.7 * 0.75))\n",
      "\n",
      "#plt.semilogx(aureal, Mcreal, '-o', label = 'Real EOS')\n",
      "plt.semilogx(aupoly, Mcpoly, '-rs',  label = r'$\\kappa_0 =\\kappa_{0, \\rm{dust}}$')\n",
      "plt.semilogx(aupoly100, Mcpoly100, '-c^', label = r'$\\kappa_0 =\\kappa_{0, \\rm{dust}}/100$')\n",
      "#plt.plot(aurafan, Mcrafan, '--', label = r'Rafikov (2006) An.')\n",
      "plt.xlim(4, 105)\n",
      "#plt.ylim(1, 50)\n",
      "plt.legend(frameon = False, prop = {'size':10})\n",
      "plt.xlabel('a [AU]')\n",
      "plt.ylabel(r'$M_{\\rm{c, crit}}\\,[M_{\\oplus}]$')\n",
      "plt.tight_layout()\n",
      "\n",
      "plt.savefig(userpath + '/figs/ModelAtmospheres/RadSelfGravRealEOS/' + filename)"
     ],
     "language": "python",
     "metadata": {},
     "outputs": [
      {
       "output_type": "display_data",
       "png": "[encoded data removed]"
      }
     ],
     "prompt_number": 60
    },
    {
     "cell_type": "code",
     "collapsed": false,
     "input": [
      "filename = 'Mc_vs_a_poly_raf_paper.pdf'\n",
      "\n",
      "plt.figure(figsize = (3.7, 3.7 * 0.75))\n",
      "\n",
      "#plt.semilogx(aureal, Mcreal, '-o', label = 'Real EOS')\n",
      "plt.loglog(aupoly100, Mcpoly100, '-c^',  label = \"Diatomic polytrope \\n KH contraction\")\n",
      "plt.loglog(aupoly100, Mcraf, '--g', label = \"Intermediate planetesimal \\n accretion rate (Rafikov 2006)\")\n",
      "#plt.plot(aurafan, Mcrafan, '--', label = r'Rafikov (2006) An.')\n",
      "plt.xlim(4, 105)\n",
      "#plt.ylim(1, 50)\n",
      "plt.legend(frameon = False, prop = {'size':7})\n",
      "plt.xlabel('a [AU]')\n",
      "plt.ylabel(r'$M_{\\rm{c, crit}}\\,[M_{\\oplus}]$')\n",
      "plt.tight_layout()\n",
      "\n",
      "#plt.savefig(userpath + '/figs/ModelAtmospheres/RadSelfGravRealEOS/' + filename)"
     ],
     "language": "python",
     "metadata": {},
     "outputs": [
      {
       "output_type": "display_data",
       "png": "[encoded data removed]"
      }
     ],
     "prompt_number": 100
    },
    {
     "cell_type": "code",
     "collapsed": false,
     "input": [
      "filename = 'Mc_vs_a_poly_raf2.pdf'\n",
      "\n",
      "plt.figure(figsize = (3.7, 3.7 * 0.75))\n",
      "\n",
      "#plt.semilogx(aureal, Mcreal, '-o', label = 'Real EOS')\n",
      "plt.loglog(aupoly100, Mcpoly100, '-c^',  label = \"Diatomic polytrope \\n KH contraction\")\n",
      "plt.loglog(aupoly, Mcraf, '--g', label = \"Intermediate planetesimal \\n accretion rate (Rafikov 2006)\")\n",
      "#plt.plot(aurafan, Mcrafan, '--', label = r'Rafikov (2006) An.')\n",
      "plt.xlim(4, 105)\n",
      "#plt.ylim(1, 50)\n",
      "plt.legend(frameon = False, prop = {'size':7})\n",
      "plt.xlabel('a [AU]')\n",
      "plt.ylabel(r'$M_{\\rm{c, crit}}\\,[M_{\\oplus}]$')\n",
      "plt.tight_layout()\n",
      "\n",
      "plt.savefig(userpath + '/figs/ModelAtmospheres/RadSelfGravRealEOS/' + filename)"
     ],
     "language": "python",
     "metadata": {},
     "outputs": [
      {
       "output_type": "display_data",
       "png": "[encoded data removed]"
      }
     ],
     "prompt_number": 48
    },
    {
     "cell_type": "code",
     "collapsed": false,
     "input": [
      "aureal = xreal[0]\n",
      "Mcreal = xreal[1]"
     ],
     "language": "python",
     "metadata": {},
     "outputs": [],
     "prompt_number": 23
    },
    {
     "cell_type": "code",
     "collapsed": false,
     "input": [
      "filename = 'Mc_vs_a_poly_real.pdf'\n",
      "\n",
      "plt.figure(figsize = (3.7, 3.7 * 0.75))\n",
      "\n",
      "plt.semilogx(aureal, Mcreal, '-o', label = 'Realistic EOS')\n",
      "plt.semilogx(aupoly, Mcpoly, '-rs',  label = \"Diatomic poly\")\n",
      "#plt.loglog(aupoly, Mcraf, '--g', label = \"interm. planetesimal acc. rate \\n (Rafikov 2006)\")\n",
      "#plt.plot(aurafan, Mcrafan, '--', label = r'Rafikov (2006) An.')\n",
      "plt.xlim(4, 110)\n",
      "#plt.ylim(1, 50)\n",
      "plt.legend(frameon = False, prop = {'size':11})\n",
      "plt.xlabel('a [AU]')\n",
      "plt.ylabel(r'$M_{\\rm{c, crit}}\\,[M_{\\oplus}]$')\n",
      "plt.tight_layout()\n",
      "\n",
      "plt.savefig(userpath + '/figs/ModelAtmospheres/RadSelfGravRealEOS/' + filename)"
     ],
     "language": "python",
     "metadata": {},
     "outputs": [
      {
       "output_type": "display_data",
       "png": "[encoded data removed]"
      }
     ],
     "prompt_number": 26
    },
    {
     "cell_type": "code",
     "collapsed": false,
     "input": [
      "filename = 'Mc_vs_a_real_poly_raf.pdf'\n",
      "\n",
      "plt.figure(figsize = (3.7, 3.7 * 0.75))\n",
      "\n",
      "#plt.semilogx(aureal, Mcreal, '-o', label = 'Real EOS')\n",
      "plt.loglog(aureal, Mcreal, '-o', label = r'Realistic EOS')\n",
      "plt.loglog(aupoly[1:], Mcpoly[1:], '-rs',  label = r'Poly $\\nabla_{\\rm{ad}}=2/7$')\n",
      "plt.plot(aupoly[1:], Mcraf[1:], '--', label = r'Rafikov (2006)')\n",
      "plt.xlim(4, 105)\n",
      "plt.ylim(2, 200)\n",
      "plt.legend(frameon = False, prop = {'size':11})\n",
      "plt.xlabel('a [AU]')\n",
      "plt.ylabel(r'$M_{\\rm{c, crit}}\\,[M_{\\oplus}]$')\n",
      "plt.tight_layout()\n",
      "\n",
      "plt.savefig(userpath + '/figs/ModelAtmospheres/RadSelfGravRealEOS/' + filename)"
     ],
     "language": "python",
     "metadata": {},
     "outputs": [
      {
       "output_type": "display_data",
       "png": "[encoded data removed]"
      }
     ],
     "prompt_number": 545
    },
    {
     "cell_type": "code",
     "collapsed": false,
     "input": [
      "def Mcdot(Mc, a):\n",
      "    \n",
      "    rhoc = 3.2\n",
      "    rc = (3 * Mc / (4 * numpy.pi * rhoc))**(1./3)\n",
      "\n",
      "    prms = params(Mc, rc, a, 2./7, 0.3, gamma = gammafn(2./7), R = Rfn(0.3), Cv = Cvfn(0.3, 2./7), \\\n",
      "                Pd = Pdisk(a, mstar, FSigma, FT), Td = Tdisk(a, FT), kappa = kdust100)\n",
      "    \n",
      "\n",
      "    atm = atmload('Mc' + str(Mc/Me) + '.npz', prms = prms)\n",
      "    \n",
      "    model, param, prof = atm\n",
      "    crit = critical(param, prof, model)\n",
      "    param = crit[0]\n",
      "    \n",
      "    Lmin = min(param.L)\n",
      "    \n",
      "    Mdot = Lmin * rc / (G * Mc)\n",
      "    \n",
      "    return Mdot\n",
      "\n",
      "\n",
      "def Mcdotacc(Mc):\n",
      "    return Mc / (3 * 10**6 * 365 * 24 * 3600)\n",
      "    \n",
      "  \n",
      "#def k0(a):\n",
      "#    return 2 * (Tdisk(a, FT)/100)**2\n",
      "\n",
      "\n",
      "    \n",
      "\n",
      "\n",
      "def Mcrit(Mc, a):\n",
      "    \n",
      "    rc = (3 * Mc / (4 * numpy.pi * rhoc))**(1./3)\n",
      "    return (1. / (64 * pi**2 * 0.981748 * C) * Mcdot(Mc, a) * k0raf(a)  / (sigma * G**3) * (1./(rc * Mc**(1./3))) * (kb/mu)**4)**(3./5)\n",
      "    \n",
      "    \n",
      "def Mcritraf(a):\n",
      "    \n",
      "    rc = (3 * Mc / (4 * numpy.pi * rhoc))**(1./3)\n",
      "    \n",
      "    def Mcriteq(Mc):\n",
      "        return (1. / (64 * pi**2 * 0.981748 * C) * Mcdotacc(Mc) * k0raf(a)  / (sigma * G**3) * (1./(rc * Mc**(1./3))) * (kb/mu)**4)**(3./5) - Mc\n",
      "    \n",
      "    Mcorecrit = optimize.brentq(Mcriteq, 10**(-2) * Me, 5000 * Me)\n",
      "    \n",
      "    return Mcorecrit\n",
      "\n",
      "def Matm(a, Mc):\n",
      "    \n",
      "    rc = (3 * Mc / (4 * numpy.pi * rhoc))**(1./3)\n",
      "    \n",
      "    prms = params(Mc, rc, a, delad27, Y03, gamma = gammafn(delad27), R = Rfn(Y03), \\\n",
      "              Cv = Cvfn(Y03, delad27), Pd = Pdisk(a, mstar, FSigma, FT), \\\n",
      "              Td = Tdisk(a, FT), kappa = kdust)\n",
      "    atm = atmload('Mc' + str(Mc/Me) + '.npz', prms = prms)\n",
      "    model, param, prof = atm\n",
      "    crit = critical(param, prof, model)\n",
      "    param = crit[0]\n",
      "    prof = crit[1]\n",
      "    L = param.L\n",
      "    \n",
      "    return 64 * pi**2 * C * (G * Mc)**4 * (mu/kb)**4 * sigma / (k0(a) * L * 100)\n",
      "    "
     ],
     "language": "python",
     "metadata": {},
     "outputs": [],
     "prompt_number": 211
    },
    {
     "cell_type": "code",
     "collapsed": false,
     "input": [
      "Matm(10.0, 2.0*Me) / Me"
     ],
     "language": "python",
     "metadata": {},
     "outputs": [
      {
       "output_type": "pyout",
       "prompt_number": 212,
       "text": [
        "array([ 0.00057992,  0.00069168,  0.00080524,  0.00092   ,  0.00103551,\n",
        "        0.00115142,  0.00126744,  0.00138335,  0.00149896,  0.0016141 ,\n",
        "        0.00172865,  0.00184249,  0.00195551,  0.00206765,  0.00217882,\n",
        "        0.00228898,  0.00239805,  0.002506  ,  0.00261279,  0.00271838,\n",
        "        0.00282274,  0.00292585,  0.00302769,  0.00312824,  0.00322747,\n",
        "        0.00332539,  0.00342197,  0.00351721,  0.00361111,  0.00370366,\n",
        "        0.00379484,  0.00388468,  0.00397316,  0.00406028,  0.00414604,\n",
        "        0.00423045,  0.00431351,  0.00439523,  0.0044756 ,  0.00455464,\n",
        "        0.00463235,  0.00470874,  0.00478381,  0.00485758,  0.00493004,\n",
        "        0.00500122,  0.0050711 ,  0.00513972,  0.00520707,  0.00527317,\n",
        "        0.00533803,  0.00540164,  0.00546404,  0.00552522,  0.00558519,\n",
        "        0.00564398,  0.00570158,  0.00575801,  0.00581328,  0.0058674 ,\n",
        "        0.00592039,  0.00597224,  0.00602299,  0.00607262,  0.00612117,\n",
        "        0.00616863,  0.00621503,  0.00626037,  0.00630466,  0.00634791,\n",
        "        0.00639014,  0.00643136,  0.00647158,  0.00651081,  0.00654905,\n",
        "        0.00658633,  0.00662266,  0.00665804,  0.00669248,  0.006726  ,\n",
        "        0.00675862,  0.00679033,  0.00682115,  0.00685109,  0.00688016,\n",
        "        0.00690837,  0.00693574,  0.00696227,  0.00698798,  0.00701287,\n",
        "        0.00703696,  0.00706025,  0.00708275,  0.00710449,  0.00712546,\n",
        "        0.00714567,  0.00716514,  0.00718388,  0.00720189,  0.00721919,\n",
        "        0.00723578,  0.00725168,  0.00726688,  0.00728142,  0.00729528,\n",
        "        0.00730849,  0.00732104,  0.00733296,  0.00734424,  0.00735491,\n",
        "        0.00736496,  0.0073744 ,  0.00738325,  0.00739151,  0.00739919,\n",
        "        0.00740629,  0.00741284,  0.00741883,  0.00742427,  0.00742918,\n",
        "        0.00743356,  0.00743741,  0.00744075,  0.00744358,  0.00744591,\n",
        "        0.00744775,  0.0074491 ,  0.00744998,  0.00745038,  0.00745033,\n",
        "        0.00744982,  0.00744886,  0.00744747,  0.00744563,  0.00744337,\n",
        "        0.00744068,  0.00743759,  0.00743409,  0.00743018,  0.00742589,\n",
        "        0.0074212 ,  0.00741613,  0.00741069,  0.00740487,  0.0073987 ,\n",
        "        0.00739217,  0.00738528,  0.00737805,  0.00737049,  0.00736259,\n",
        "        0.00735436,  0.00734581,  0.00733694,  0.00732776,  0.00731828,\n",
        "        0.0073085 ,  0.00729842,  0.00728805,  0.00727739,  0.00726646,\n",
        "        0.00725526,  0.00724378,  0.00723204,  0.00722005,  0.00720779,\n",
        "        0.00719529,  0.00718254,  0.00716956,  0.00715633,  0.00714288,\n",
        "        0.0071292 ,  0.0071153 ,  0.00710118,  0.00708684,  0.0070723 ,\n",
        "        0.00705755,  0.0070426 ,  0.00702745,  0.00701211,  0.00699659,\n",
        "        0.00698087,  0.00696498,  0.00694891,  0.00693267,  0.00691625,\n",
        "        0.00689967,  0.00688294,  0.00686604,  0.00684898,  0.00683178,\n",
        "        0.00681442,  0.00679692,  0.00677929,  0.00676151,  0.0067436 ])"
       ]
      }
     ],
     "prompt_number": 212
    },
    {
     "cell_type": "code",
     "collapsed": false,
     "input": [
      "a = append(5.0, numpy.linspace(10.0, 100.0, 10))\n",
      "Mcoreraf = numpy.ndarray(shape = len(a), dtype = float)\n",
      "McoreHill = numpy.ndarray(shape = len(a), dtype = float)\n",
      "\n",
      "for i in range(len(Mcorecrit)):\n",
      "    Mcoreraf[i] = Mcritraf(a[i]) / Me\n",
      "    McoreHill[i] = McritHill(aupoly100[i])\n",
      "\n",
      "filename = 'Mc_vs_a_poly_raf2_RE.pdf'\n",
      "\n",
      "plt.figure(figsize = (3.7, 3.7 * 0.75))\n",
      "\n",
      "#plt.semilogx(aureal, Mcreal, '-o', label = 'Real EOS')\n",
      "plt.loglog(aupoly100, Mcpoly100, '-b^',  label = \"KH contraction\")\n",
      "plt.loglog(a, McoreHill, '-.c', label = r\"Pl. acc. at $M_{\\rm{c, Hill}}$ rate\")\n",
      "plt.loglog(a, Mcoreraf, '--g', label = r\"Pl. acc. at $M_{\\rm{c, acc}}$ rate\")\n",
      "#plt.plot(aurafan, Mcrafan, '--', label = r'Rafikov (2006) An.')\n",
      "plt.xlim(4, 105)\n",
      "#plt.ylim(1, 50)\n",
      "plt.legend(frameon = False, prop = {'size':7}, labelspacing = -0.2, loc = 1)\n",
      "plt.xlabel('a [AU]')\n",
      "plt.ylabel(r'$M_{\\rm{c, crit}}\\,[M_{\\oplus}]$')\n",
      "plt.tight_layout()\n",
      "\n",
      "plt.savefig(userpath + '/figs/ModelAtmospheres/RadSelfGravRealEOS/' + filename)\n",
      "\n",
      "\n",
      "\n"
     ],
     "language": "python",
     "metadata": {},
     "outputs": [
      {
       "output_type": "display_data",
       "png": "[encoded data removed]"
      }
     ],
     "prompt_number": 146
    },
    {
     "cell_type": "code",
     "collapsed": false,
     "input": [
      "C"
     ],
     "language": "python",
     "metadata": {},
     "outputs": [
      {
       "output_type": "pyout",
       "prompt_number": 198,
       "text": [
        "0.008804769527400395"
       ]
      }
     ],
     "prompt_number": 198
    },
    {
     "cell_type": "code",
     "collapsed": false,
     "input": [
      "filename = 'Matm_acc.pdf'\n",
      "plt.plot(Mcore / Me, Matm(Mcore) / Me)\n",
      "plt.xlabel(r'$M_{\\rm c}\\,[M_{\\oplus}]$')\n",
      "plt.ylabel(r'$M_{\\rm{atm, acc}}\\,[M_{\\oplus}]$')\n",
      "\n",
      "\n",
      "plt.savefig(userpath + '/figs/ModelAtmospheres/RadSelfGravPoly/' + filename)\n",
      "\n",
      "plt.show()\n"
     ],
     "language": "python",
     "metadata": {},
     "outputs": [
      {
       "output_type": "display_data",
       "png": "[encoded data removed]"
      }
     ],
     "prompt_number": 65
    },
    {
     "cell_type": "code",
     "collapsed": false,
     "input": [
      "def floorMcrit(a):\n",
      "\n",
      "    x = php.t_vs_Mc_fixed_a(2./7, 0.3, a, opacity = kdust100)\n",
      "    Mc, t = x\n",
      "    t = t / (3 * 10**6)\n",
      "    \n",
      "    for i in range(len(t)):\n",
      "        if t[i] <= 1.0:\n",
      "            break\n",
      "            \n",
      "    Mcarr = [Mc[i - 1], Mc[i]]\n",
      "    tarr = [t[i - 1], t[i]]\n",
      "    Mcacc = [Mcrit(Mcarr[0] * Me, a), Mcrit(Mcarr[1] * Me, a)]\n",
      "    f = interp1d(tarr[::-1], Mcacc[::-1])\n",
      "    Mc = f(1.0)\n",
      "    \n",
      "    return Mc\n",
      "    \n",
      "        "
     ],
     "language": "python",
     "metadata": {},
     "outputs": [],
     "prompt_number": 190
    },
    {
     "cell_type": "code",
     "collapsed": false,
     "input": [
      "Mcrit(0.2*Me, 10.0)/Me"
     ],
     "language": "python",
     "metadata": {},
     "outputs": [
      {
       "output_type": "pyout",
       "prompt_number": 196,
       "text": [
        "0.035546602267331077"
       ]
      }
     ],
     "prompt_number": 196
    },
    {
     "cell_type": "code",
     "collapsed": false,
     "input": [
      "Mcplbelow = 0 * numpy.ndarray(shape = len (aupoly100), dtype = float)\n",
      "Mcplabove = 0 * numpy.ndarray(shape = len (aupoly100), dtype = float)\n",
      "\n",
      "for i in range(len(Mcpl)):\n",
      "    Mcilow, Mcihigh = floorMcrit(aupoly100[i])\n",
      "    Mcplbelow[i] = Mcrit(Mcilow * Me, aupoly100[i])\n",
      "    Mcplabove[i] = Mcrit(Mcihigh * Me, aupoly100[i])\n",
      "    \n",
      "    f = interp1d(M)"
     ],
     "language": "python",
     "metadata": {},
     "outputs": [],
     "prompt_number": 171
    },
    {
     "cell_type": "code",
     "collapsed": false,
     "input": [
      "T = 2.57 * 10**6 * (365 * 24 * 3600)\n",
      "Mcdot10_2 = numpy.array([Mc] * len(MB10)) / T"
     ],
     "language": "python",
     "metadata": {},
     "outputs": [],
     "prompt_number": 65
    },
    {
     "cell_type": "code",
     "collapsed": false,
     "input": [
      "Mcrit(2.* Me, 5.0)/Me"
     ],
     "language": "python",
     "metadata": {},
     "outputs": [
      {
       "output_type": "pyout",
       "prompt_number": 181,
       "text": [
        "3.9106248280179261"
       ]
      }
     ],
     "prompt_number": 181
    },
    {
     "cell_type": "code",
     "collapsed": false,
     "input": [
      "Mcplabove/Me"
     ],
     "language": "python",
     "metadata": {},
     "outputs": [
      {
       "output_type": "pyout",
       "prompt_number": 182,
       "text": [
        "array([ 3.91062483,  1.6161554 ,  1.20466687,  0.85243833,  0.8459257 ,\n",
        "        0.84118157,  0.52768916,  0.52667426,  0.52581626,  0.52506337,\n",
        "        0.52439997])"
       ]
      }
     ],
     "prompt_number": 182
    },
    {
     "cell_type": "code",
     "collapsed": false,
     "input": [
      "filename = 'acc_rates_paper.pdf'\n",
      "\n",
      "plt.figure(figsize = (3.5, 3.5 * 0.75))\n",
      "\n",
      "plt.semilogy(MB10[:-1], Matmdot10 / (Me / (365 * 24 * 3600)), label = r'$\\dot{M}_{\\mathrm{atm}}$')\n",
      "plt.semilogy(MB10, Mcdot10_2 / (Me / (365 * 24 * 3600)), '--', label = r'$\\dot{M}_{\\mathrm{c,acc}}$')\n",
      "plt.semilogy(MB10, Mcdot10 / (Me / (365 * 24 * 3600)), ':', lw = 2, label = r'$\\dot{M}_{\\mathrm{c, KH}}$')\n",
      "#plt.title(r'$\\nabla_{\\mathrm{ad}}=2/7$, $\\mu=2.35$, $a=10\\mathrm{AU}$, $M_c=10 M_{\\oplus}$')\n",
      "plt.semilogy(MB10, Mdotacc(10.0, numpy.array([Mc/Me] * len(MB10)), 'interm'), '-.', label = r'$\\dot{M}_{\\rm{c,Hill}}$')\n",
      "plt.legend(loc = 9, prop = {'size':9.5}, frameon = False, labelspacing = -0.1, handletextpad = 0)\n",
      "plt.xlabel(r'$M_{\\rm{tot}}\\,[M_{\\oplus}]$')\n",
      "plt.ylabel(r'$\\dot{M}$ [$M_{\\oplus}$/years]')\n",
      "plt.tight_layout()\n",
      "\n",
      "plt.savefig(userpath + '/figs/ModelAtmospheres/RadSelfGravPoly/' + filename)"
     ],
     "language": "python",
     "metadata": {},
     "outputs": [
      {
       "output_type": "display_data",
       "png": "[encoded data removed]"
      }
     ],
     "prompt_number": 72
    },
    {
     "cell_type": "code",
     "collapsed": false,
     "input": [
      "tacc10 = G * Mc**2 / (param10.L * rc)\n",
      "tacc100 = G * Mc**2 / (param100.L * rc)"
     ],
     "language": "python",
     "metadata": {},
     "outputs": [],
     "prompt_number": 67
    },
    {
     "cell_type": "code",
     "collapsed": false,
     "input": [
      "rc/10**9/5**(1./3)"
     ],
     "language": "python",
     "metadata": {},
     "outputs": [
      {
       "output_type": "pyout",
       "prompt_number": 108,
       "text": [
        "0.7638599204502681"
       ]
      }
     ],
     "prompt_number": 108
    },
    {
     "cell_type": "code",
     "collapsed": false,
     "input": [
      "filename = 'tacc_comp.pdf'\n",
      "\n",
      "f2, ax2 = plt.subplots(2, sharex = True)\n",
      "\n",
      "ax2[0].semilogy(MB10, t10 / (365 * 24 * 3600), label = r'$\\tau_{\\mathrm{cum}}$')\n",
      "ax2[0].semilogy(MB10, tacc10 / (365 * 24 * 3600), label = r'$\\tau_{\\mathrm{acc}}$')\n",
      "ax2[0].semilogy(MB10[:-1], tatm10 / (365 * 24 * 3600), label = r'$\\tau_{\\mathrm{atm}}$')\n",
      "ax2[0].semilogy(MB10[:-1], ttot10 / (365 * 24 * 3600), label = r'$\\tau_{\\mathrm{tot}}$')\n",
      "ax2[0].set_ylabel(r'$t$ (years)')\n",
      "ax2[0].set_title(r'$a=10 \\mathrm{AU}$, $M_c=5 M_{\\oplus}$')\n",
      "ax2[0].legend(loc = 4, prop = {'size':7})\n",
      "\n",
      "ax2[1].semilogy(MB100, t100 / (365 * 24 * 3600))\n",
      "ax2[1].semilogy(MB100, tacc100 / (365 * 24 * 3600))\n",
      "ax2[1].semilogy(MB100[:-1], tatm100 / (365 * 24 * 3600))\n",
      "ax2[1].semilogy(MB100[:-1], ttot100 / (365 * 24 * 3600))\n",
      "ax2[1].set_ylabel(r'$t$ (years)')\n",
      "ax2[1].set_title(r'$a=100 \\mathrm{AU}$, $M_c=5 M_{\\oplus}$')\n",
      "ax2[1].set_xlabel(r'$M_p(M_{\\oplus})$')\n",
      "\n",
      "#plt.savefig(userpath + '/figs/ModelAtmospheres/RadSelfGravPoly/' + filename)"
     ],
     "language": "python",
     "metadata": {},
     "outputs": [
      {
       "output_type": "pyout",
       "prompt_number": 68,
       "text": [
        "<matplotlib.text.Text at 0x116604b10>"
       ]
      },
      {
       "output_type": "display_data",
       "png": "[encoded data removed]"
      }
     ],
     "prompt_number": 68
    },
    {
     "cell_type": "code",
     "collapsed": false,
     "input": [
      "t10[-1]/(10**6 * 365 * 24 * 3600)"
     ],
     "language": "python",
     "metadata": {},
     "outputs": [
      {
       "output_type": "pyout",
       "prompt_number": 32,
       "text": [
        "1.2337052922105951"
       ]
      }
     ],
     "prompt_number": 32
    },
    {
     "cell_type": "code",
     "collapsed": false,
     "input": [],
     "language": "python",
     "metadata": {},
     "outputs": []
    }
   ],
   "metadata": {}
  }
 ]
}
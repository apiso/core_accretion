{
 "metadata": {
  "name": "opacity_effects"
 },
 "nbformat": 3,
 "nbformat_minor": 0,
 "worksheets": [
  {
   "cells": [
    {
     "cell_type": "code",
     "collapsed": false,
     "input": [
      "import os\n",
      "#os.chdir('/home/apiso/repos/core_accretion/python')\n",
      "os.chdir('/Users/ana-mariapiso/core_accretion/python')"
     ],
     "language": "python",
     "metadata": {},
     "outputs": [],
     "prompt_number": 1
    },
    {
     "cell_type": "code",
     "collapsed": false,
     "input": [
      "import numpy\n",
      "from utils.constants import Me, Re, gammafn, Rfn, Cvfn, Pdisk, Tdisk, kdust, \\\n",
      "     params, mufn, kdust10, kdust100\n",
      "from Analytical.analytic_comp import analytic_sols as ansols\n",
      "from utils.userpath import userpath\n",
      "from utils.parameters import FSigma, FT, mstar\n",
      "import matplotlib.pyplot as plt\n",
      "from RadSGPoly import plot_helper as ph\n",
      "from RadSGPoly.profiles_poly import atmload, profiles_write\n",
      "from RadSGPoly.cooling_poly import critical\n",
      "from RadSGPoly import shooting_poly as shoot\n",
      "import matplotlib.cm as cm"
     ],
     "language": "python",
     "metadata": {},
     "outputs": [],
     "prompt_number": 2
    },
    {
     "cell_type": "code",
     "collapsed": false,
     "input": [
      "reload(shoot)"
     ],
     "language": "python",
     "metadata": {},
     "outputs": [
      {
       "output_type": "pyout",
       "prompt_number": 12,
       "text": [
        "<module 'RadSGPoly.shooting_poly' from 'RadSGPoly/shooting_poly.pyc'>"
       ]
      }
     ],
     "prompt_number": 12
    },
    {
     "cell_type": "code",
     "collapsed": false,
     "input": [
      "a = 10.0\n",
      "Mc = 5.0 * Me\n",
      "rhoc = 3.2\n",
      "rc = (3 * Mc / (4 * numpy.pi * rhoc))**(1./3)\n",
      "delad27 = 2./7\n",
      "Y03 = 0.3\n",
      "\n",
      "prms = params(Mc, rc, a, delad27, Y03, gamma = gammafn(delad27), R = Rfn(Y03), \\\n",
      "              Cv = Cvfn(Y03, delad27), Pd = Pdisk(a, mstar, FSigma, FT), \\\n",
      "              Td = Tdisk(a, FT), kappa = kdust)\n",
      "\n",
      "prms10 = params(Mc, rc, a, delad27, Y03, gamma = gammafn(delad27), R = Rfn(Y03), \\\n",
      "              Cv = Cvfn(Y03, delad27), Pd = Pdisk(a, mstar, FSigma, FT), \\\n",
      "              Td = Tdisk(a, FT), kappa = kdust10)\n",
      "\n",
      "prms100 = params(Mc, rc, a, delad27, Y03, gamma = gammafn(delad27), R = Rfn(Y03), \\\n",
      "              Cv = Cvfn(Y03, delad27), Pd = Pdisk(a, mstar, FSigma, FT), \\\n",
      "              Td = Tdisk(a, FT), kappa = kdust100)"
     ],
     "language": "python",
     "metadata": {},
     "outputs": [],
     "prompt_number": 3
    },
    {
     "cell_type": "code",
     "collapsed": false,
     "input": [
      "model, param, prof = atmload('Mc5.0.npz', prms = prms)\n",
      "model10, param10, prof10 = atmload('Mc5.0.npz', prms = prms10)\n",
      "model100, param100, prof100 = atmload('Mc5.0.npz', prms = prms100)"
     ],
     "language": "python",
     "metadata": {},
     "outputs": [],
     "prompt_number": 4
    },
    {
     "cell_type": "code",
     "collapsed": false,
     "input": [
      "paramcrit, profcrit, dtcrit = critical(param, prof, model)\n",
      "paramcrit10, profcrit10, dtcrit10 = critical(param10, prof10, model10)\n",
      "paramcrit100, profcrit100, dtcrit100 = critical(param100, prof100, model100)\n"
     ],
     "language": "python",
     "metadata": {},
     "outputs": [],
     "prompt_number": 5
    },
    {
     "cell_type": "code",
     "collapsed": false,
     "input": [
      "M = paramcrit.MB\n",
      "M10 = paramcrit10.MB\n",
      "M100 = paramcrit100.MB\n",
      "\n",
      "L = paramcrit.L\n",
      "L10 = paramcrit10.L\n",
      "L100 = paramcrit100.L * 10\n",
      "\n",
      "t = 0 * numpy.ndarray(shape = (len(dtcrit)), dtype = float)\n",
      "t10 = 0 * numpy.ndarray(shape = (len(dtcrit10)), dtype = float)\n",
      "t100 = 0 * numpy.ndarray(shape = (len(dtcrit100)), dtype = float)\n",
      "\n",
      "for i in range(len(t)):\n",
      "    t[i] = sum(dtcrit[:i])\n",
      "for i in range(len(t10)):\n",
      "    t10[i] = sum(dtcrit10[:i])\n",
      "for i in range(len(t100)):\n",
      "    t100[i] = sum(dtcrit100[:i]) / 10"
     ],
     "language": "python",
     "metadata": {},
     "outputs": [],
     "prompt_number": 6
    },
    {
     "cell_type": "code",
     "collapsed": false,
     "input": [
      "filename2 = 'opacity_effect.pdf'\n",
      "\n",
      "f, ax2 = plt.subplots(2, sharex=True, figsize = (3.7, 4.0))\n",
      "\n",
      "ax2[0].semilogy(M, L, label = r'$\\kappa=\\kappa_{\\rm{dust}}$')\n",
      "ax2[0].semilogy(M10, L10, label = r'$\\kappa=\\kappa_{\\rm{dust}}/10$', linestyle = '--')\n",
      "ax2[0].semilogy(M100, L100, label = r'$\\kappa=\\kappa_{\\rm{dust}}/100$', linestyle = ':', lw = 2)\n",
      "#ax2[0].yaxis.set_ticks([10**24, 10**25, 10**26, 10**27, 10**28])\n",
      "ax2[0].set_ylim(ymin = 3e23)\n",
      "ax2[0].set_ylabel(r'L [erg s$^{-1}$]')\n",
      "ax2[0].set_title(r'$a=10\\mathrm{AU}$, $M_c=5 M_{\\oplus}$')\n",
      "\n",
      "#ax2[0].set_ylim(10**23, 10**26)\n",
      "\n",
      "ax2[1].semilogy(M, t / (365 * 24 * 3600), label = r'$\\kappa_{\\rm{dust}}$')\n",
      "ax2[1].semilogy(M10, t10 / (365 * 24 * 3600), linestyle = '--', label = r'$\\kappa_{\\rm{dust}}/10$')\n",
      "ax2[1].semilogy(M100, t100 / (365 * 24 * 3600), linestyle = ':', lw = 2, label = r'$\\kappa_{\\rm{dust}}/100$')\n",
      "ax2[1].set_ylim(10, 5*10**7)\n",
      "ax2[1].yaxis.set_ticks([10**1, 10**3, 10**5,10**7])\n",
      "ax2[1].set_ylabel(r't [years]')\n",
      "ax2[1].set_xlabel(r'$M[M_{\\oplus}]$')\n",
      "ax2[1].legend(loc = 4, prop = {'size':12}, frameon = False, labelspacing = 0.3)\n",
      "\n",
      "plt.tight_layout()\n",
      "f.subplots_adjust(hspace=0)\n",
      "\n",
      "plt.savefig(userpath + '/figs/ModelAtmospheres/RadSelfGravPoly/PaperFigs/' + filename2)\n"
     ],
     "language": "python",
     "metadata": {},
     "outputs": [
      {
       "output_type": "display_data",
       "png": "[encoded data removed]"
      }
     ],
     "prompt_number": 21
    },
    {
     "cell_type": "code",
     "collapsed": false,
     "input": [],
     "language": "python",
     "metadata": {},
     "outputs": [],
     "prompt_number": 23
    },
    {
     "cell_type": "code",
     "collapsed": false,
     "input": [],
     "language": "python",
     "metadata": {},
     "outputs": [],
     "prompt_number": 23
    },
    {
     "cell_type": "code",
     "collapsed": false,
     "input": [],
     "language": "python",
     "metadata": {},
     "outputs": [],
     "prompt_number": 23
    },
    {
     "cell_type": "code",
     "collapsed": false,
     "input": [],
     "language": "python",
     "metadata": {},
     "outputs": []
    }
   ],
   "metadata": {}
  }
 ]
}
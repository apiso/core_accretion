{
 "metadata": {
  "name": "Evolve"
 },
 "nbformat": 3,
 "nbformat_minor": 0,
 "worksheets": [
  {
   "cells": [
    {
     "cell_type": "code",
     "collapsed": false,
     "input": [
      "from RadSGPoly import shoot2 as s2\n",
      "from utils.constants import Me, Re"
     ],
     "language": "python",
     "metadata": {},
     "outputs": [],
     "prompt_number": 1
    },
    {
     "cell_type": "code",
     "collapsed": false,
     "input": [
      "bca, profs = s2.evolve_DM(5.7*s2.Me, 5)\n"
     ],
     "language": "python",
     "metadata": {},
     "outputs": [
      {
       "output_type": "stream",
       "stream": "stdout",
       "text": [
        "initial guess error  (0.0011332058506960951, 0.49783089553963822)\n",
        "sol1 status "
       ]
      },
      {
       "output_type": "stream",
       "stream": "stdout",
       "text": [
        " 1  with error  [  3.08573294e-08   1.23294304e-06]\n",
        "sol2 status "
       ]
      },
      {
       "output_type": "stream",
       "stream": "stdout",
       "text": [
        " 1  with error  [  3.08573294e-08   1.23294304e-06]\n",
        "initial guess error "
       ]
      },
      {
       "output_type": "stream",
       "stream": "stdout",
       "text": [
        " (0.00084485746956630692, 0.43834869330284598)\n",
        "sol1 status "
       ]
      },
      {
       "output_type": "stream",
       "stream": "stdout",
       "text": [
        " 1  with error  [ -1.54388363e-04  -5.60048847e-06]\n",
        "sol2 status "
       ]
      },
      {
       "output_type": "stream",
       "stream": "stdout",
       "text": [
        " 5  with error  [ -1.54388363e-04  -5.60048847e-06]\n",
        "using supplied guess for M = "
       ]
      },
      {
       "output_type": "stream",
       "stream": "stdout",
       "text": [
        " 3.42223169339e+28\n",
        "initial guess error  (-0.00046964317200492989, -0.30967205628432731)\n",
        "sol1 status "
       ]
      },
      {
       "output_type": "stream",
       "stream": "stdout",
       "text": [
        " 5  with error  [ -1.46982344e-07  -3.24758719e-06]\n",
        "sol2 Lfac status "
       ]
      },
      {
       "output_type": "stream",
       "stream": "stdout",
       "text": [
        " 1  with error  [ -1.46982344e-07  -3.24758719e-06]\n",
        "using supplied guess for M = "
       ]
      },
      {
       "output_type": "stream",
       "stream": "stdout",
       "text": [
        " 3.42658301032e+28\n",
        "initial guess error  (7.7034366603445648e-05, -0.14319580084612096)\n",
        "sol1 status "
       ]
      },
      {
       "output_type": "stream",
       "stream": "stdout",
       "text": [
        " 1  with error  [  6.46831861e-08   7.10676060e-08]\n"
       ]
      },
      {
       "output_type": "stream",
       "stream": "stderr",
       "text": [
        "/Library/Python/2.7/site-packages/scipy/optimize/minpack.py:221: RuntimeWarning: The iteration is not making good progress, as measured by the \n",
        "  improvement from the last ten iterations.\n",
        "  warnings.warn(msg, RuntimeWarning)\n"
       ]
      }
     ],
     "prompt_number": 2
    },
    {
     "cell_type": "code",
     "collapsed": false,
     "input": [
      "bca"
     ],
     "language": "python",
     "metadata": {},
     "outputs": [
      {
       "output_type": "pyout",
       "prompt_number": 4,
       "text": [
        "rec.array([ (3.405294e+28, 25.013682123399878, 0.0, 6.468318614061275e-08, 7.106760600929228e-08),\n",
        "       (3.4094759400000003e+28, 24.98082883534731, 345687927359.0565, 2.1242672044e-314, 2.136862171e-314),\n",
        "       (3.4136996994000024e+28, 24.94612782603128, 339946396193.79254, 2.123440526e-314, 2.1899584533e-314),\n",
        "       (3.4179656963940013e+28, 24.918866377505438, 352469853058.0714, 2.1368630247e-314, 2.1234404666e-314),\n",
        "       (3.4222743533579404e+28, 24.879593178782258, 437564738205.066, 2.123440091e-314, 2.136858669e-314)], \n",
        "      dtype=[('M', '<f8'), ('lL', '<f8'), ('dt', '<f8'), ('err0', '<f8'), ('err1', '<f8')])"
       ]
      }
     ],
     "prompt_number": 4
    },
    {
     "cell_type": "code",
     "collapsed": false,
     "input": [
      "bca.M/Me"
     ],
     "language": "python",
     "metadata": {},
     "outputs": [
      {
       "output_type": "pyout",
       "prompt_number": 5,
       "text": [
        "array([ 5.7       ,  5.707     ,  5.71407   ,  5.7212107 ,  5.72842281])"
       ]
      }
     ],
     "prompt_number": 5
    },
    {
     "cell_type": "code",
     "collapsed": false,
     "input": [
      "bca2, profs2 = s2.evolve_DM(5.7*s2.Me, 10)"
     ],
     "language": "python",
     "metadata": {},
     "outputs": [
      {
       "output_type": "stream",
       "stream": "stdout",
       "text": [
        "initial guess error  (0.0011332058506960951, 0.49783089553963822)\n",
        "sol1 status "
       ]
      },
      {
       "output_type": "stream",
       "stream": "stdout",
       "text": [
        " 1  with error  [  3.08573294e-08   1.23294304e-06]\n",
        "sol2 status "
       ]
      },
      {
       "output_type": "stream",
       "stream": "stdout",
       "text": [
        " 1  with error  [  3.08573294e-08   1.23294304e-06]\n",
        "initial guess error "
       ]
      },
      {
       "output_type": "stream",
       "stream": "stdout",
       "text": [
        " (0.00084485746956630692, 0.43834869330284598)\n",
        "sol1 status "
       ]
      },
      {
       "output_type": "stream",
       "stream": "stdout",
       "text": [
        " 1  with error  [ -1.54388363e-04  -5.60048847e-06]\n",
        "sol2 status "
       ]
      },
      {
       "output_type": "stream",
       "stream": "stdout",
       "text": [
        " 5  with error  [ -1.54388363e-04  -5.60048847e-06]\n",
        "using supplied guess for M = 5.728 M_E"
       ]
      },
      {
       "output_type": "stream",
       "stream": "stdout",
       "text": [
        "\n",
        "initial guess error  (-0.00046964317200492989, -0.30967205628432731)\n",
        "sol1 status "
       ]
      },
      {
       "output_type": "stream",
       "stream": "stdout",
       "text": [
        " 5  with error  [ -1.46982344e-07  -3.24758719e-06]\n",
        "sol2 Lfac status "
       ]
      },
      {
       "output_type": "stream",
       "stream": "stdout",
       "text": [
        " 1  with error  [ -1.46982344e-07  -3.24758719e-06]\n",
        "using supplied guess for M = 5.736 M_E"
       ]
      },
      {
       "output_type": "stream",
       "stream": "stdout",
       "text": [
        "\n",
        "initial guess error  (7.7034366603445648e-05, -0.14319580084612096)\n",
        "sol1 status "
       ]
      },
      {
       "output_type": "stream",
       "stream": "stdout",
       "text": [
        " 1  with error  [  6.46831861e-08   7.10676060e-08]\n",
        "using supplied guess for M = 5.743 M_E"
       ]
      },
      {
       "output_type": "stream",
       "stream": "stdout",
       "text": [
        "\n",
        "initial guess error  (-8.0399544011067192e-05, 0.089071678775520025)\n",
        "sol1 status "
       ]
      },
      {
       "output_type": "stream",
       "stream": "stdout",
       "text": [
        " 5  with error  [ -3.37186690e-06  -4.75882085e-06]\n",
        "sol2 Lfac status "
       ]
      },
      {
       "output_type": "stream",
       "stream": "stdout",
       "text": [
        " 1  with error  [ -3.37186690e-06  -4.75882085e-06]\n",
        "using supplied guess for M = 5.750 M_E"
       ]
      },
      {
       "output_type": "stream",
       "stream": "stdout",
       "text": [
        "\n",
        "initial guess error  (-8.768104704937052e-05, -0.07711770618661673)\n",
        "sol1 status "
       ]
      },
      {
       "output_type": "stream",
       "stream": "stdout",
       "text": [
        " 1  with error  [  8.70287555e-05   8.79311572e-06]\n",
        "sol2 status "
       ]
      },
      {
       "output_type": "stream",
       "stream": "stdout",
       "text": [
        " 5  with error  [  8.70287555e-05   8.79311572e-06]\n",
        "using supplied guess for M = 5.758 M_E"
       ]
      },
      {
       "output_type": "stream",
       "stream": "stdout",
       "text": [
        "\n",
        "initial guess error  (0.00011364227425914031, -0.056428447409223731)\n",
        "sol1 status "
       ]
      },
      {
       "output_type": "stream",
       "stream": "stdout",
       "text": [
        " 1  with error  [  2.35659010e-04   9.87550858e-06]\n",
        "sol2 status "
       ]
      },
      {
       "output_type": "stream",
       "stream": "stdout",
       "text": [
        " 5  with error  [  2.35659010e-04   9.87550858e-06]\n",
        "using supplied guess for M = 5.766 M_E"
       ]
      },
      {
       "output_type": "stream",
       "stream": "stdout",
       "text": [
        "\n",
        "initial guess error  (0.00033003291064281903, -0.037542169760443111)\n",
        "sol1 status "
       ]
      },
      {
       "output_type": "stream",
       "stream": "stdout",
       "text": [
        " 1  with error  [ -9.35668408e-08   2.46379570e-06]\n",
        "sol2 status "
       ]
      },
      {
       "output_type": "stream",
       "stream": "stdout",
       "text": [
        " 1  with error  [ -9.35668408e-08   2.46379570e-06]\n",
        "using supplied guess for M = 5.773 M_E"
       ]
      },
      {
       "output_type": "stream",
       "stream": "stdout",
       "text": [
        "\n",
        "initial guess error  (-0.00037023714161976695, 0.1367136959534648)\n",
        "sol1 status "
       ]
      },
      {
       "output_type": "stream",
       "stream": "stdout",
       "text": [
        " 5  with error  [ -7.81119084e-04  -1.64228168e-05]\n",
        "sol2 Lfac status "
       ]
      },
      {
       "output_type": "stream",
       "stream": "stdout",
       "text": [
        " 5  with error  [ -7.81119084e-04  -1.64228168e-05]\n"
       ]
      }
     ],
     "prompt_number": 6
    },
    {
     "cell_type": "code",
     "collapsed": false,
     "input": [
      "tMyr = np.cumsum(bca2.dt)/s2.Myr\n",
      "print tMyr"
     ],
     "language": "python",
     "metadata": {},
     "outputs": [
      {
       "output_type": "stream",
       "stream": "stdout",
       "text": [
        "[ 0.          0.01093949  0.02169729  0.0328514   0.04669838  0.06174097\n",
        "  0.07804968  0.09577673  0.11891231  0.1492639 ]\n"
       ]
      }
     ],
     "prompt_number": 10
    },
    {
     "cell_type": "code",
     "collapsed": false,
     "input": [
      "plot(tMyr, bca2.M/Me)"
     ],
     "language": "python",
     "metadata": {},
     "outputs": [
      {
       "output_type": "pyout",
       "prompt_number": 11,
       "text": [
        "[<matplotlib.lines.Line2D at 0x10b9c3910>]"
       ]
      },
      {
       "output_type": "display_data",
       "png": "[encoded data removed]"
      }
     ],
     "prompt_number": 11
    },
    {
     "cell_type": "code",
     "collapsed": false,
     "input": [
      "plot(tMyr, 10**bca2.lL)"
     ],
     "language": "python",
     "metadata": {},
     "outputs": [
      {
       "output_type": "pyout",
       "prompt_number": 12,
       "text": [
        "[<matplotlib.lines.Line2D at 0x10b9ee190>]"
       ]
      },
      {
       "output_type": "display_data",
       "png": "[encoded data removed]"
      }
     ],
     "prompt_number": 12
    },
    {
     "cell_type": "code",
     "collapsed": false,
     "input": [
      "profs[0].dtype.names"
     ],
     "language": "python",
     "metadata": {},
     "outputs": [
      {
       "output_type": "pyout",
       "prompt_number": 17,
       "text": [
        "('r', 'm', 'P', 'TK', 'L', 'delrad', 'Mae')"
       ]
      }
     ],
     "prompt_number": 17
    },
    {
     "cell_type": "code",
     "collapsed": false,
     "input": [
      "len(profs2)"
     ],
     "language": "python",
     "metadata": {},
     "outputs": [
      {
       "output_type": "pyout",
       "prompt_number": 18,
       "text": [
        "10"
       ]
      }
     ],
     "prompt_number": 18
    },
    {
     "cell_type": "code",
     "collapsed": false,
     "input": [
      "for prof in profs:\n",
      "    loglog(prof.r, prof.Mae)"
     ],
     "language": "python",
     "metadata": {},
     "outputs": [
      {
       "output_type": "display_data",
       "png": "[encoded data removed]"
      }
     ],
     "prompt_number": 20
    },
    {
     "cell_type": "code",
     "collapsed": false,
     "input": [],
     "language": "python",
     "metadata": {},
     "outputs": []
    }
   ],
   "metadata": {}
  }
 ]
}
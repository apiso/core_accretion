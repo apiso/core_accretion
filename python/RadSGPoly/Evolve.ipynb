{
 "metadata": {
  "name": "Evolve"
 },
 "nbformat": 3,
 "nbformat_minor": 0,
 "worksheets": [
  {
   "cells": [
    {
     "cell_type": "code",
     "collapsed": false,
     "input": [
      "from RadSGPoly import shoot2 as s2\n",
      "from utils.constants import Me, Re"
     ],
     "language": "python",
     "metadata": {},
     "outputs": [],
     "prompt_number": 1
    },
    {
     "cell_type": "code",
     "collapsed": false,
     "input": [
      "reload(s2)"
     ],
     "language": "python",
     "metadata": {},
     "outputs": [
      {
       "ename": "IndentationError",
       "evalue": "expected an indented block (shoot2.py, line 865)",
       "output_type": "pyerr",
       "traceback": [
        "\u001b[0;31m---------------------------------------------------------------------------\u001b[0m\n\u001b[0;31mIndentationError\u001b[0m                          Traceback (most recent call last)",
        "\u001b[0;32m<ipython-input-94-a413b6634cd3>\u001b[0m in \u001b[0;36m<module>\u001b[0;34m()\u001b[0m\n\u001b[0;32m----> 1\u001b[0;31m \u001b[0mreload\u001b[0m\u001b[0;34m(\u001b[0m\u001b[0ms2\u001b[0m\u001b[0;34m)\u001b[0m\u001b[0;34m\u001b[0m\u001b[0m\n\u001b[0m",
        "\u001b[0;31mIndentationError\u001b[0m: expected an indented block (shoot2.py, line 865)"
       ]
      }
     ],
     "prompt_number": 94
    },
    {
     "cell_type": "code",
     "collapsed": false,
     "input": [
      "import utils.mynumsci as mns\n",
      "reload(mns)"
     ],
     "language": "python",
     "metadata": {},
     "outputs": [
      {
       "output_type": "pyout",
       "prompt_number": 193,
       "text": [
        "<module 'utils.mynumsci' from '/Users/youd/Documents/Work/Repositories/aacore/python/utils/mynumsci.py'>"
       ]
      }
     ],
     "prompt_number": 193
    },
    {
     "cell_type": "code",
     "collapsed": true,
     "input": [
      "bca1, profs1, restart = s2.evolve_DM(5.6*s2.Me, 100, savefile=1)"
     ],
     "language": "python",
     "metadata": {},
     "outputs": [
      {
       "output_type": "stream",
       "stream": "stdout",
       "text": [
        "initial guess (25.932060198550371, 10.129284510388041)  has error  (0.00043976524581501586, 0.23251969402168254)\n",
        "initial guess"
       ]
      },
      {
       "output_type": "stream",
       "stream": "stdout",
       "text": [
        " (25.856917477499017, 10.003668659176912)  has error  (-5.9258146042018289e-05, -0.2387929940128562)\n",
        "choosing static guess for M = 5.624 M_E"
       ]
      },
      {
       "output_type": "stream",
       "stream": "stdout",
       "text": [
        "\n",
        "initial guess (25.781978587616909, 10.199328127570407)  has error  (0.000152543843427555, 0.036631460649557378)\n",
        "choosing static guess for M = 5.631 M_E"
       ]
      },
      {
       "output_type": "stream",
       "stream": "stdout",
       "text": [
        "\n",
        "initial guess (25.707996673797012, 10.317864491471223)  has error  (0.00019705966724226087, 0.087625551363565243)\n",
        "initial guess"
       ]
      },
      {
       "output_type": "stream",
       "stream": "stdout",
       "text": [
        " [ 25.62033017  10.45844049]  has error  (-6.8648644055979702e-05, -0.079015848442640937)\n",
        "initial guess"
       ]
      },
      {
       "output_type": "stream",
       "stream": "stdout",
       "text": [
        " [ 25.54675804  10.59306044]  has error  (-5.5762603807685274e-05, -0.017621676672226298)\n",
        "initial guess"
       ]
      },
      {
       "output_type": "stream",
       "stream": "stdout",
       "text": [
        " [ 25.47816754  10.69921411]  has error  (-7.0425206111335292e-05, -0.036195870135799911)\n",
        "initial guess"
       ]
      },
      {
       "output_type": "stream",
       "stream": "stdout",
       "text": [
        " [ 25.41265403  10.804391  ]  has error  (-7.5937519850688417e-05, -0.034930897959896186)\n",
        "initial guess"
       ]
      },
      {
       "output_type": "stream",
       "stream": "stdout",
       "text": [
        " [ 25.35083038  10.90175296]  has error  (-8.0946713659879599e-05, -0.037375435027622014)\n",
        "initial guess"
       ]
      },
      {
       "output_type": "stream",
       "stream": "stdout",
       "text": [
        " [ 25.2925017   10.99324614]  has error  (-8.3859736824010156e-05, -0.038021645642603775)\n",
        "initial guess"
       ]
      },
      {
       "output_type": "stream",
       "stream": "stdout",
       "text": [
        " [ 25.23753445  11.07897705]  has error  (-8.5707322119432661e-05, -0.038137078729154894)\n",
        "initial guess"
       ]
      },
      {
       "output_type": "stream",
       "stream": "stdout",
       "text": [
        " [ 25.18577622  11.15927568]  has error  (-8.6394867157002508e-05, -0.037913638035393271)\n",
        "initial guess"
       ]
      },
      {
       "output_type": "stream",
       "stream": "stdout",
       "text": [
        " [ 25.13699411  11.23475878]  has error  (-8.6140280346702625e-05, -0.037075274402802415)\n",
        "initial guess"
       ]
      },
      {
       "output_type": "stream",
       "stream": "stdout",
       "text": [
        " [ 25.09097965  11.30576183]  has error  (-8.5409864278518377e-05, -0.036212859267937873)\n",
        "initial guess"
       ]
      },
      {
       "output_type": "stream",
       "stream": "stdout",
       "text": [
        " [ 25.04752063  11.37278443]  has error  (-8.39748297534193e-05, -0.034768636053068507)\n",
        "initial guess"
       ]
      },
      {
       "output_type": "stream",
       "stream": "stdout",
       "text": [
        " [ 25.00639602  11.43615353]  has error  (-8.2906852103215023e-05, -0.033603000811592142)\n",
        "initial guess"
       ]
      },
      {
       "output_type": "stream",
       "stream": "stdout",
       "text": [
        " [ 24.96746297  11.49612374]  has error  (-8.0786521329145877e-05, -0.032131810978743902)\n",
        "initial guess"
       ]
      },
      {
       "output_type": "stream",
       "stream": "stdout",
       "text": [
        " [ 24.93049743  11.55315   ]  has error  (-7.9189750098906941e-05, -0.030713734331708108)\n",
        "initial guess"
       ]
      },
      {
       "output_type": "stream",
       "stream": "stdout",
       "text": [
        " [ 24.89539179  11.60726063]  has error  (-7.7304172968473139e-05, -0.029573378865909581)\n",
        "initial guess"
       ]
      },
      {
       "output_type": "stream",
       "stream": "stdout",
       "text": [
        " [ 24.86194326  11.65907068]  has error  (-7.5482026213546938e-05, -0.027924143681581005)\n",
        "initial guess"
       ]
      },
      {
       "output_type": "stream",
       "stream": "stdout",
       "text": [
        " [ 24.8300838   11.70832584]  has error  (-7.3740715552106373e-05, -0.02688221788860851)\n",
        "initial guess"
       ]
      },
      {
       "output_type": "stream",
       "stream": "stdout",
       "text": [
        " [ 24.79965437  11.75556882]  has error  (-7.1623486564087457e-05, -0.02550590118748584)\n",
        "initial guess"
       ]
      },
      {
       "output_type": "stream",
       "stream": "stdout",
       "text": [
        " [ 24.77054191  11.80085797]  has error  (-7.0472636236829089e-05, -0.024394407439241841)\n",
        "initial guess"
       ]
      },
      {
       "output_type": "stream",
       "stream": "stdout",
       "text": [
        " [ 24.74267641  11.84432462]  has error  (-6.8637838896101755e-05, -0.023305581477939999)\n",
        "initial guess"
       ]
      },
      {
       "output_type": "stream",
       "stream": "stdout",
       "text": [
        " [ 24.71595338  11.88612961]  has error  (-6.7028589021522755e-05, -0.022106807474729723)\n",
        "initial guess"
       ]
      },
      {
       "output_type": "stream",
       "stream": "stdout",
       "text": [
        " [ 24.69030563  11.92629258]  has error  (-6.5684825706235905e-05, -0.02134483160116114)\n",
        "initial guess"
       ]
      },
      {
       "output_type": "stream",
       "stream": "stdout",
       "text": [
        " [ 24.66564693  11.96508567]  has error  (-6.4104561841804575e-05, -0.020357011931036267)\n",
        "initial guess"
       ]
      },
      {
       "output_type": "stream",
       "stream": "stdout",
       "text": [
        " [ 24.64192004  12.00249463]  has error  (-6.2635165583801999e-05, -0.019465422039276179)\n",
        "initial guess"
       ]
      },
      {
       "output_type": "stream",
       "stream": "stdout",
       "text": [
        " [ 24.6190549   12.03864887]  has error  (-6.1641195194472864e-05, -0.018743804502180602)\n",
        "initial guess"
       ]
      },
      {
       "output_type": "stream",
       "stream": "stdout",
       "text": [
        " [ 24.59701382  12.07359901]  has error  (-6.0221419389883124e-05, -0.018053228874057546)\n",
        "initial guess"
       ]
      },
      {
       "output_type": "stream",
       "stream": "stdout",
       "text": [
        " [ 24.57571256  12.10760115]  has error  (-5.9450313455888804e-05, -0.017132363627869643)\n",
        "initial guess"
       ]
      },
      {
       "output_type": "stream",
       "stream": "stdout",
       "text": [
        " [ 24.55517435  12.1402662 ]  has error  (-5.7884335711078094e-05, -0.016809664707590769)\n",
        "initial guess"
       ]
      },
      {
       "output_type": "stream",
       "stream": "stdout",
       "text": [
        " [ 24.5352575   12.17233753]  has error  (-5.6952031872947728e-05, -0.015664320863103667)\n",
        "initial guess"
       ]
      },
      {
       "output_type": "stream",
       "stream": "stdout",
       "text": [
        " [ 24.51602699  12.203084  ]  has error  (-5.6202097658109018e-05, -0.015659749303860312)\n",
        "initial guess"
       ]
      },
      {
       "output_type": "stream",
       "stream": "stdout",
       "text": [
        " [ 24.49736177  12.23332139]  has error  (-5.4917739604420923e-05, -0.014657827465133279)\n",
        "initial guess"
       ]
      },
      {
       "output_type": "stream",
       "stream": "stdout",
       "text": [
        " [ 24.47928573  12.26250272]  has error  (-5.4454489771371684e-05, -0.014456500156309345)\n",
        "initial guess"
       ]
      },
      {
       "output_type": "stream",
       "stream": "stdout",
       "text": [
        " [ 24.46174439  12.29102338]  has error  (-5.3211422159304966e-05, -0.013778931442133237)\n",
        "initial guess"
       ]
      },
      {
       "output_type": "stream",
       "stream": "stdout",
       "text": [
        " [ 24.44470973  12.31879985]  has error  (-5.2627913591285491e-05, -0.013274653931050885)\n",
        "initial guess"
       ]
      },
      {
       "output_type": "stream",
       "stream": "stdout",
       "text": [
        " [ 24.4281678   12.34584263]  has error  (-5.1705980441352217e-05, -0.012915489535244747)\n",
        "initial guess"
       ]
      },
      {
       "output_type": "stream",
       "stream": "stdout",
       "text": [
        " [ 24.4120799  12.3722459]  has error  (-5.1241161120207934e-05, -0.012469027559928391)\n",
        "initial guess"
       ]
      },
      {
       "output_type": "stream",
       "stream": "stdout",
       "text": [
        " [ 24.3964412   12.39795804]  has error  (-5.069581545469326e-05, -0.012322248598192326)\n",
        "initial guess"
       ]
      },
      {
       "output_type": "stream",
       "stream": "stdout",
       "text": [
        " [ 24.38120567  12.4232351 ]  has error  (-4.9881632440462731e-05, -0.011629096697868557)\n",
        "initial guess"
       ]
      },
      {
       "output_type": "stream",
       "stream": "stdout",
       "text": [
        " [ 24.36639097  12.44774922]  has error  (-4.8767215212741633e-05, -0.011291518642743272)\n",
        "initial guess"
       ]
      },
      {
       "output_type": "stream",
       "stream": "stdout",
       "text": [
        " [ 24.35193868  12.47180143]  has error  (-4.8954692088432061e-05, -0.011143270744005205)\n",
        "initial guess"
       ]
      },
      {
       "output_type": "stream",
       "stream": "stdout",
       "text": [
        " [ 24.33786195  12.49532951]  has error  (-4.8083981038393731e-05, -0.010728106340143503)\n",
        "initial guess"
       ]
      },
      {
       "output_type": "stream",
       "stream": "stdout",
       "text": [
        " [ 24.32412787  12.51839297]  has error  (-4.7577287387468026e-05, -0.010359969632783636)\n",
        "initial guess"
       ]
      },
      {
       "output_type": "stream",
       "stream": "stdout",
       "text": [
        " [ 24.31073688  12.54089743]  has error  (-4.7202255146649996e-05, -0.010158543086841703)\n",
        "initial guess"
       ]
      },
      {
       "output_type": "stream",
       "stream": "stdout",
       "text": [
        " [ 24.29766154  12.56301367]  has error  (-4.6338526376032974e-05, -0.0097319044346296599)\n",
        "initial guess"
       ]
      },
      {
       "output_type": "stream",
       "stream": "stdout",
       "text": [
        " [ 24.28489924  12.58460321]  has error  (-4.6057415574063398e-05, -0.0096230021624793896)\n",
        "initial guess"
       ]
      },
      {
       "output_type": "stream",
       "stream": "stdout",
       "text": [
        " [ 24.27242253  12.60587369]  has error  (-4.6078719356912323e-05, -0.0094233935841166686)\n",
        "initial guess"
       ]
      },
      {
       "output_type": "stream",
       "stream": "stdout",
       "text": [
        " [ 24.26023863  12.62669831]  has error  (-4.5091947373232522e-05, -0.0089547443081968679)\n",
        "initial guess"
       ]
      },
      {
       "output_type": "stream",
       "stream": "stdout",
       "text": [
        " [ 24.2483375   12.64701782]  has error  (-4.5179048156152035e-05, -0.0092000737941278377)\n",
        "initial guess"
       ]
      },
      {
       "output_type": "stream",
       "stream": "stdout",
       "text": [
        " [ 24.23667368  12.66724925]  has error  (-4.4301461588847069e-05, -0.0083066352408318698)\n",
        "initial guess"
       ]
      },
      {
       "output_type": "stream",
       "stream": "stdout",
       "text": [
        " [ 24.22530095  12.68673239]  has error  (-4.4290663227641858e-05, -0.0087565044940806254)\n",
        "initial guess"
       ]
      },
      {
       "output_type": "stream",
       "stream": "stdout",
       "text": [
        " [ 24.21413688  12.70622532]  has error  (-4.3907218555849781e-05, -0.0080681507385006995)\n",
        "initial guess"
       ]
      },
      {
       "output_type": "stream",
       "stream": "stdout",
       "text": [
        " [ 24.20324547  12.72506227]  has error  (-4.339278418219461e-05, -0.0082337548759988353)\n",
        "initial guess"
       ]
      },
      {
       "output_type": "stream",
       "stream": "stdout",
       "text": [
        " [ 24.19255036  12.74385643]  has error  (-4.3633304213641644e-05, -0.0079070565597988644)\n",
        "initial guess"
       ]
      },
      {
       "output_type": "stream",
       "stream": "stdout",
       "text": [
        " [ 24.18210132  12.76216015]  has error  (-4.2467388431943753e-05, -0.0076109141204226752)\n",
        "initial guess"
       ]
      },
      {
       "output_type": "stream",
       "stream": "stdout",
       "text": [
        " [ 24.1718528   12.78020851]  has error  (-4.3001502664452573e-05, -0.0076487903706063693)\n",
        "initial guess"
       ]
      },
      {
       "output_type": "stream",
       "stream": "stdout",
       "text": [
        " [ 24.16181818  12.79797511]  has error  (-4.2355129574289663e-05, -0.0073374685184926592)\n",
        "initial guess"
       ]
      },
      {
       "output_type": "stream",
       "stream": "stdout",
       "text": [
        " [ 24.15199048  12.8153786 ]  has error  (-4.2126526964003652e-05, -0.0073893901393014168)\n",
        "initial guess"
       ]
      },
      {
       "output_type": "stream",
       "stream": "stdout",
       "text": [
        " [ 24.14234183  12.83266071]  has error  (-4.1560926078099136e-05, -0.006795220829643788)\n",
        "initial guess"
       ]
      },
      {
       "output_type": "stream",
       "stream": "stdout",
       "text": [
        " [ 24.13290458  12.84943605]  has error  (-4.1701178149833318e-05, -0.0071514170103029514)\n",
        "initial guess"
       ]
      },
      {
       "output_type": "stream",
       "stream": "stdout",
       "text": [
        " [ 24.12362556  12.86623377]  has error  (-4.1243305276661424e-05, -0.0065832265906558716)\n",
        "initial guess"
       ]
      },
      {
       "output_type": "stream",
       "stream": "stdout",
       "text": [
        " [ 24.11454952  12.88250777]  has error  (-4.1344306974222533e-05, -0.0068212858602576349)\n",
        "initial guess"
       ]
      },
      {
       "output_type": "stream",
       "stream": "stdout",
       "text": [
        " [ 24.10562715  12.89875576]  has error  (-4.105550548716419e-05, -0.0064391045845546713)\n",
        "initial guess"
       ]
      },
      {
       "output_type": "stream",
       "stream": "stdout",
       "text": [
        " [ 24.09689122  12.91459819]  has error  (-4.0637509353014245e-05, -0.0064265019719344429)\n",
        "initial guess"
       ]
      },
      {
       "output_type": "stream",
       "stream": "stdout",
       "text": [
        " [ 24.08830846  12.93029891]  has error  (-4.0583980305153311e-05, -0.0062500358718726133)\n",
        "initial guess"
       ]
      },
      {
       "output_type": "stream",
       "stream": "stdout",
       "text": [
        " [ 24.07988832  12.94575321]  has error  (-4.0332611011439923e-05, -0.0060817326307109135)\n",
        "initial guess"
       ]
      },
      {
       "output_type": "stream",
       "stream": "stdout",
       "text": [
        " [ 24.07163078  12.96093568]  has error  (-4.013161718863234e-05, -0.0061686932739499151)\n",
        "initial guess"
       ]
      },
      {
       "output_type": "stream",
       "stream": "stdout",
       "text": [
        " [ 24.06350855  12.97605723]  has error  (-3.9687373147190286e-05, -0.0056424467962691311)\n",
        "initial guess"
       ]
      },
      {
       "output_type": "stream",
       "stream": "stdout",
       "text": [
        " [ 24.055561    12.99068941]  has error  (-4.0063789755517831e-05, -0.0060695961895804069)\n",
        "initial guess"
       ]
      },
      {
       "output_type": "stream",
       "stream": "stdout",
       "text": [
        " [ 24.04772855  13.00543079]  has error  (-3.9913670854652139e-05, -0.005598147207740445)\n",
        "initial guess"
       ]
      },
      {
       "output_type": "stream",
       "stream": "stdout",
       "text": [
        " [ 24.04006332  13.01972815]  has error  (-3.9157913757192908e-05, -0.0056820614598185196)\n",
        "initial guess"
       ]
      },
      {
       "output_type": "stream",
       "stream": "stdout",
       "text": [
        " [ 24.03251461  13.03399456]  has error  (-3.981274135822499e-05, -0.0055007204743347691)\n",
        "initial guess"
       ]
      },
      {
       "output_type": "stream",
       "stream": "stdout",
       "text": [
        " [ 24.02511705  13.04795963]  has error  (-3.9300331664438026e-05, -0.0055071613946248632)\n",
        "initial guess"
       ]
      },
      {
       "output_type": "stream",
       "stream": "stdout",
       "text": [
        " [ 24.01784114  13.06182219]  has error  (-3.8929146834121298e-05, -0.0051967219818390541)\n",
        "initial guess"
       ]
      },
      {
       "output_type": "stream",
       "stream": "stdout",
       "text": [
        " [ 24.01070408  13.07538841]  has error  (-3.9285049368897873e-05, -0.0054370680562346348)\n",
        "initial guess"
       ]
      },
      {
       "output_type": "stream",
       "stream": "stdout",
       "text": [
        " [ 24.00367794  13.08894599]  has error  (-3.8747767383773279e-05, -0.0050244897815710657)\n",
        "initial guess"
       ]
      },
      {
       "output_type": "stream",
       "stream": "stdout",
       "text": [
        " [ 23.99679076  13.10216253]  has error  (-3.9001702817453854e-05, -0.005195744354604544)\n",
        "initial guess"
       ]
      },
      {
       "output_type": "stream",
       "stream": "stdout",
       "text": [
        " [ 23.9900122   13.11534885]  has error  (-3.8787307148568928e-05, -0.0049192834924745967)\n",
        "initial guess"
       ]
      },
      {
       "output_type": "stream",
       "stream": "stdout",
       "text": [
        " [ 23.98336535  13.12823802]  has error  (-3.8325516251158653e-05, -0.0049457048128488156)\n",
        "initial guess"
       ]
      },
      {
       "output_type": "stream",
       "stream": "stdout",
       "text": [
        " [ 23.97682234  13.1410667 ]  has error  (-3.8377750698925794e-05, -0.0047744284381308743)\n",
        "initial guess"
       ]
      },
      {
       "output_type": "stream",
       "stream": "stdout",
       "text": [
        " [ 23.97040085  13.15365138]  has error  (-3.8612678653349164e-05, -0.0048408513729238422)\n",
        "initial guess"
       ]
      },
      {
       "output_type": "stream",
       "stream": "stdout",
       "text": [
        " [ 23.96408754  13.16613692]  has error  (-3.8251692075497168e-05, -0.0047054533369796907)\n",
        "initial guess"
       ]
      },
      {
       "output_type": "stream",
       "stream": "stdout",
       "text": [
        " [ 23.9578821  13.1784759]  has error  (-3.8154440870741269e-05, -0.0045434573457905558)\n",
        "initial guess"
       ]
      },
      {
       "output_type": "stream",
       "stream": "stdout",
       "text": [
        " [ 23.95179149  13.19058295]  has error  (-3.8452210136541431e-05, -0.0047044938295595223)\n",
        "initial guess"
       ]
      },
      {
       "output_type": "stream",
       "stream": "stdout",
       "text": [
        " [ 23.9457944   13.20268265]  has error  (-3.8043800843601261e-05, -0.0043277963139084323)\n",
        "initial guess"
       ]
      },
      {
       "output_type": "stream",
       "stream": "stdout",
       "text": [
        " [ 23.93992031  13.21442907]  has error  (-3.8063133591115239e-05, -0.0046173212806706367)\n",
        "initial guess"
       ]
      },
      {
       "output_type": "stream",
       "stream": "stdout",
       "text": [
        " [ 23.93412345  13.22628466]  has error  (-3.7750267063763054e-05, -0.0041155013465432114)\n",
        "initial guess"
       ]
      },
      {
       "output_type": "stream",
       "stream": "stdout",
       "text": [
        " [ 23.92845422  13.23771155]  has error  (-3.8537565331897561e-05, -0.0046572751802297988)\n",
        "initial guess"
       ]
      },
      {
       "output_type": "stream",
       "stream": "stdout",
       "text": [
        " [ 23.92285304  13.2493524 ]  has error  (-3.7356927184872823e-05, -0.0038883419064581217)\n",
        "initial guess"
       ]
      },
      {
       "output_type": "stream",
       "stream": "stdout",
       "text": [
        " [ 23.91738397  13.26045304]  has error  (-3.7722690349739629e-05, -0.0044528680913028936)\n",
        "initial guess"
       ]
      },
      {
       "output_type": "stream",
       "stream": "stdout",
       "text": [
        " [ 23.91197238  13.27182969]  has error  (-3.7335902735469162e-05, -0.003791164864968723)\n",
        "initial guess"
       ]
      },
      {
       "output_type": "stream",
       "stream": "stdout",
       "text": [
        " [ 23.90669167  13.28267725]  has error  (-3.8200229279583553e-05, -0.0043858409026613816)\n",
        "initial guess"
       ]
      },
      {
       "output_type": "stream",
       "stream": "stdout",
       "text": [
        " [ 23.90147107  13.29376447]  has error  (-3.7288706848936926e-05, -0.0037426360945451045)\n",
        "initial guess"
       ]
      },
      {
       "output_type": "stream",
       "stream": "stdout",
       "text": [
        " [ 23.89637061  13.3043998 ]  has error  (-3.7785373004250999e-05, -0.0042125055027435656)\n",
        "initial guess"
       ]
      },
      {
       "output_type": "stream",
       "stream": "stdout",
       "text": [
        " [ 23.89132858  13.31526513]  has error  (-3.6811725596996858e-05, -0.0034963794285848534)\n",
        "initial guess"
       ]
      },
      {
       "output_type": "stream",
       "stream": "stdout",
       "text": [
        " [ 23.8864119  13.325582 ]  has error  (-3.7582343508368865e-05, -0.0041139804347688604)\n"
       ]
      }
     ],
     "prompt_number": 2
    },
    {
     "cell_type": "code",
     "collapsed": false,
     "input": [
      "restart['solm1'] = (bca3.lL[-1], np.log10(bca3.dt[-1])) \n",
      "restart['solm2'] = (bca3.lL[-2], np.log10(bca3.dt[-2]))"
     ],
     "language": "python",
     "metadata": {},
     "outputs": [],
     "prompt_number": 20
    },
    {
     "cell_type": "code",
     "collapsed": false,
     "input": [
      "print restart['solm1'], restart['solm2']\n",
      "#print restart['prms']"
     ],
     "language": "python",
     "metadata": {},
     "outputs": [
      {
       "output_type": "stream",
       "stream": "stdout",
       "text": [
        "(23.886539587163821, 13.325470022866714) (23.891482518573969, 13.314882619955021)\n"
       ]
      }
     ],
     "prompt_number": 53
    },
    {
     "cell_type": "code",
     "collapsed": false,
     "input": [
      "restart = restartn\n",
      "restartM = 2*restart['Mm1'] - restart['Mm2']\n",
      "print restart['Mm1']/Me, restartM/Me"
     ],
     "language": "python",
     "metadata": {},
     "outputs": [
      {
       "output_type": "stream",
       "stream": "stdout",
       "text": [
        "12.0 12.0683886107\n"
       ]
      }
     ],
     "prompt_number": 93
    },
    {
     "cell_type": "code",
     "collapsed": true,
     "input": [
      "bcan, profsn, restartn = s2.evolve_DM(restartM, 20*Me - restartM, restart=restart, savefile=1)"
     ],
     "language": "python",
     "metadata": {},
     "outputs": [
      {
       "output_type": "stream",
       "stream": "stdout",
       "text": [
        "initial guess [ 23.82996239  13.96545867]  has error  (0.00071375468780665585, 0.018288470190953376)\n",
        "initial guess"
       ]
      },
      {
       "output_type": "stream",
       "stream": "stdout",
       "text": [
        " [ 23.83209193  13.96499338]  has error  (-0.0020801466739986951, -0.044101682000448256)\n",
        "initial guess"
       ]
      },
      {
       "output_type": "stream",
       "stream": "stdout",
       "text": [
        " [ 23.83891515  13.95611045]  has error  (0.0013130290511949028, 0.0017131867041805487)\n",
        "initial guess"
       ]
      },
      {
       "output_type": "stream",
       "stream": "stdout",
       "text": [
        " [ 23.83796186  13.98181697]  has error  (1.8415617775158211e-05, 0.04332353571549237)\n",
        "initial guess"
       ]
      },
      {
       "output_type": "stream",
       "stream": "stdout",
       "text": [
        " [ 23.84517678  13.94981151]  has error  (-9.6804829783025959e-05, -0.042659103021560285)\n",
        "initial guess"
       ]
      },
      {
       "output_type": "stream",
       "stream": "stdout",
       "text": [
        " [ 23.84503446  13.97742055]  has error  (2.0486498751415283e-05, 0.035844853057280773)\n",
        "initial guess"
       ]
      },
      {
       "output_type": "stream",
       "stream": "stdout",
       "text": [
        " [ 23.85166337  13.95087704]  has error  (-7.4243891468261936e-05, -0.034832967841990095)\n",
        "initial guess"
       ]
      },
      {
       "output_type": "stream",
       "stream": "stdout",
       "text": [
        " [ 23.85219812  13.97343291]  has error  (2.5790219982058105e-05, 0.029993954418954499)\n",
        "initial guess"
       ]
      },
      {
       "output_type": "stream",
       "stream": "stdout",
       "text": [
        " [ 23.85837434  13.95116718]  has error  (-6.0161446159723297e-05, -0.028752013720561766)\n",
        "initial guess"
       ]
      },
      {
       "output_type": "stream",
       "stream": "stdout",
       "text": [
        " [ 23.85946949  13.9696493 ]  has error  (2.686582640953894e-05, 0.025109301282930183)\n",
        "initial guess"
       ]
      },
      {
       "output_type": "stream",
       "stream": "stdout",
       "text": [
        " [ 23.86528928  13.95086443]  has error  (-4.8047121276817428e-05, -0.023799172612321597)\n",
        "initial guess"
       ]
      },
      {
       "output_type": "stream",
       "stream": "stdout",
       "text": [
        " [ 23.86685793  13.96600961]  has error  (2.4552786426657036e-05, 0.021001365926812558)\n",
        "initial guess"
       ]
      },
      {
       "output_type": "stream",
       "stream": "stdout",
       "text": [
        " [ 23.87239749  13.95007536]  has error  (-3.5084102829263664e-05, -0.019664040162876064)\n",
        "initial guess"
       ]
      },
      {
       "output_type": "stream",
       "stream": "stdout",
       "text": [
        " [ 23.87437171  13.96244273]  has error  (2.8977965772503111e-05, 0.017865541653790357)\n",
        "initial guess"
       ]
      },
      {
       "output_type": "stream",
       "stream": "stdout",
       "text": [
        " [ 23.87969935  13.94872422]  has error  (-3.425170289594881e-05, -0.01671847031357622)\n",
        "initial guess"
       ]
      },
      {
       "output_type": "stream",
       "stream": "stdout",
       "text": [
        " [ 23.88200837  13.9589272 ]  has error  (2.8319964082701432e-05, 0.015181736312395805)\n",
        "initial guess"
       ]
      },
      {
       "output_type": "stream",
       "stream": "stdout",
       "text": [
        " [ 23.88717562  13.94706101]  has error  (-2.3990931254158632e-05, -0.013918553495673856)\n",
        "initial guess"
       ]
      },
      {
       "output_type": "stream",
       "stream": "stdout",
       "text": [
        " [ 23.88978272  13.95535729]  has error  (2.719775656423451e-05, 0.012915185819708156)\n",
        "initial guess"
       ]
      },
      {
       "output_type": "stream",
       "stream": "stdout",
       "text": [
        " [ 23.8948279   13.94500011]  has error  (-1.9384992724358341e-05, -0.011758579552381831)\n",
        "initial guess"
       ]
      },
      {
       "output_type": "stream",
       "stream": "stdout",
       "text": [
        " [ 23.89769324  13.95174034]  has error  (2.4564986814690215e-05, 0.010996055808741309)\n",
        "initial guess"
       ]
      },
      {
       "output_type": "stream",
       "stream": "stdout",
       "text": [
        " [ 23.9026477   13.94263581]  has error  (-1.1173393524410713e-05, -0.0097369492101895862)\n",
        "initial guess"
       ]
      },
      {
       "output_type": "stream",
       "stream": "stdout",
       "text": [
        " [ 23.90575377  13.9479312 ]  has error  (2.4553901224244612e-05, 0.0092534481412962326)\n",
        "initial guess"
       ]
      },
      {
       "output_type": "stream",
       "stream": "stdout",
       "text": [
        " [ 23.91062682  13.93997325]  has error  (-8.572554130892307e-06, -0.0081506483196977942)\n",
        "initial guess"
       ]
      },
      {
       "output_type": "stream",
       "stream": "stdout",
       "text": [
        " [ 23.91394718  13.94409377]  has error  (2.3040617656455709e-05, 0.0078836307334862535)\n",
        "initial guess"
       ]
      },
      {
       "output_type": "stream",
       "stream": "stdout",
       "text": [
        " [ 23.91877559  13.93699476]  has error  (-7.0358013686266929e-06, -0.0069391967835923333)\n",
        "initial guess"
       ]
      },
      {
       "output_type": "stream",
       "stream": "stdout",
       "text": [
        " [ 23.92227908  13.94018175]  has error  (2.739676058172158e-05, 0.0069723100106514127)\n",
        "initial guess"
       ]
      },
      {
       "output_type": "stream",
       "stream": "stdout",
       "text": [
        " [ 23.92708996  13.93369342]  has error  (-4.813983412566003e-06, -0.0059569142295885094)\n",
        "initial guess"
       ]
      },
      {
       "output_type": "stream",
       "stream": "stdout",
       "text": [
        " [ 23.930756    13.93609524]  has error  (2.657994101129546e-05, 0.0059783592642706626)\n",
        "initial guess"
       ]
      },
      {
       "output_type": "stream",
       "stream": "stdout",
       "text": [
        " [ 23.93555135  13.93022744]  has error  (3.0974398586014473e-06, -0.0048182007673404637)\n",
        "initial guess"
       ]
      },
      {
       "output_type": "stream",
       "stream": "stdout",
       "text": [
        " [ 23.93938037  13.93182892]  has error  (2.6404760193221577e-05, 0.0051048060111858621)\n",
        "initial guess"
       ]
      },
      {
       "output_type": "stream",
       "stream": "stdout",
       "text": [
        " [ 23.94417216  13.92648404]  has error  (7.1143304203324931e-06, -0.0040229561015238391)\n",
        "initial guess"
       ]
      },
      {
       "output_type": "stream",
       "stream": "stdout",
       "text": [
        " [ 23.94813996  13.92747586]  has error  (2.6098804377872042e-05, 0.004495384510452706)\n",
        "initial guess"
       ]
      },
      {
       "output_type": "stream",
       "stream": "stdout",
       "text": [
        " [ 23.95295259  13.92244609]  has error  (5.5373774088263161e-06, -0.0035880159985234861)\n",
        "initial guess"
       ]
      },
      {
       "output_type": "stream",
       "stream": "stdout",
       "text": [
        " [ 23.95703978  13.92301087]  has error  (3.0944306214086836e-05, 0.0041475987458258435)\n",
        "initial guess"
       ]
      },
      {
       "output_type": "stream",
       "stream": "stdout",
       "text": [
        " [ 23.96188121  13.91820607]  has error  (7.5878461469613967e-06, -0.0030211140363190928)\n",
        "initial guess"
       ]
      },
      {
       "output_type": "stream",
       "stream": "stdout",
       "text": [
        " [ 23.9660944   13.91826248]  has error  (2.7037579476862916e-05, 0.0034605036317586313)\n",
        "initial guess"
       ]
      },
      {
       "output_type": "stream",
       "stream": "stdout",
       "text": [
        " [ 23.9709554   13.91380144]  has error  (1.4317020419651882e-05, -0.0024190536728408165)\n",
        "initial guess"
       ]
      },
      {
       "output_type": "stream",
       "stream": "stdout",
       "text": [
        " [ 23.97528113  13.91342707]  has error  (2.5210897112604158e-05, 0.0030394546469158096)\n",
        "initial guess"
       ]
      },
      {
       "output_type": "stream",
       "stream": "stdout",
       "text": [
        " [ 23.98018078  13.9091463 ]  has error  (1.4291774785180067e-05, -0.0020866098643955435)\n",
        "initial guess"
       ]
      },
      {
       "output_type": "stream",
       "stream": "stdout",
       "text": [
        " [ 23.98461607  13.90843591]  has error  (3.3216795129797916e-05, 0.0029308493566467205)\n",
        "initial guess"
       ]
      },
      {
       "output_type": "stream",
       "stream": "stdout",
       "text": [
        " [ 23.98956051  13.904213  ]  has error  (1.4437965438540701e-05, -0.0019011336929072361)\n",
        "initial guess"
       ]
      },
      {
       "output_type": "stream",
       "stream": "stdout",
       "text": [
        " [ 23.99408473  13.90323985]  has error  (2.4361224904234646e-05, 0.0024856542388494184)\n",
        "initial guess"
       ]
      },
      {
       "output_type": "stream",
       "stream": "stdout",
       "text": [
        " [ 23.99908293  13.89913583]  has error  (1.8955867121750458e-05, -0.0015941667563102416)\n",
        "initial guess"
       ]
      },
      {
       "output_type": "stream",
       "stream": "stdout",
       "text": [
        " [ 24.00369863  13.89793459]  has error  (3.2421011125993715e-05, 0.0024624884881105239)\n",
        "initial guess"
       ]
      },
      {
       "output_type": "stream",
       "stream": "stdout",
       "text": [
        " [ 24.00874759  13.89385959]  has error  (2.1517546258564835e-05, -0.0013757002572694235)\n",
        "initial guess"
       ]
      },
      {
       "output_type": "stream",
       "stream": "stdout",
       "text": [
        " [ 24.01345112  13.89243091]  has error  (3.0711499609425985e-05, 0.0022633115124099947)\n",
        "initial guess"
       ]
      },
      {
       "output_type": "stream",
       "stream": "stdout",
       "text": [
        " [ 24.01856119  13.88836907]  has error  (2.8321775540574023e-05, -0.0011048944626671749)\n",
        "initial guess"
       ]
      },
      {
       "output_type": "stream",
       "stream": "stdout",
       "text": [
        " [ 24.02334962  13.88671292]  has error  (3.3257296801370018e-05, 0.0020641255364818928)\n",
        "initial guess"
       ]
      },
      {
       "output_type": "stream",
       "stream": "stdout",
       "text": [
        " [ 24.02850574  13.88273488]  has error  (2.6129639788541326e-05, -0.00097909442939151498)\n",
        "initial guess"
       ]
      },
      {
       "output_type": "stream",
       "stream": "stdout",
       "text": [
        " [ 24.03338305  13.88087982]  has error  (3.7420706683111149e-05, 0.002106836615143633)\n",
        "initial guess"
       ]
      },
      {
       "output_type": "stream",
       "stream": "stdout",
       "text": [
        " [ 24.03860965  13.87679448]  has error  (2.3813266150973789e-05, -0.0011576651122339541)\n",
        "initial guess"
       ]
      },
      {
       "output_type": "stream",
       "stream": "stdout",
       "text": [
        " [ 24.04354242  13.87496213]  has error  (4.3955861750433201e-05, 0.0023239024119615171)\n",
        "initial guess"
       ]
      },
      {
       "output_type": "stream",
       "stream": "stdout",
       "text": [
        " [ 24.04884979  13.87070172]  has error  (2.5942807962309189e-05, -0.0011149307251580426)\n",
        "initial guess"
       ]
      },
      {
       "output_type": "stream",
       "stream": "stdout",
       "text": [
        " [ 24.05385478  13.86874379]  has error  (4.0683998014490186e-05, 0.0021373338260465722)\n",
        "initial guess"
       ]
      },
      {
       "output_type": "stream",
       "stream": "stdout",
       "text": [
        " [ 24.05922178  13.86448238]  has error  (2.9231962337616935e-05, -0.00098093510898293081)\n",
        "initial guess"
       ]
      },
      {
       "output_type": "stream",
       "stream": "stdout",
       "text": [
        " [ 24.06430293  13.86236963]  has error  (4.1322667940768554e-05, 0.0020312906072892647)\n",
        "initial guess"
       ]
      },
      {
       "output_type": "stream",
       "stream": "stdout",
       "text": [
        " [ 24.06972973  13.85810498]  has error  (2.8140456763248167e-05, -0.0009279946061222273)\n",
        "initial guess"
       ]
      },
      {
       "output_type": "stream",
       "stream": "stdout",
       "text": [
        " [ 24.07488908  13.85586184]  has error  (5.1076831676821755e-05, 0.0021706180894736104)\n",
        "initial guess"
       ]
      },
      {
       "output_type": "stream",
       "stream": "stdout",
       "text": [
        " [ 24.08038213  13.8514945 ]  has error  (3.2683556624002463e-05, -0.00086177635902912281)\n",
        "initial guess"
       ]
      },
      {
       "output_type": "stream",
       "stream": "stdout",
       "text": [
        " [ 24.08560807  13.84914975]  has error  (4.745263263150612e-05, 0.0020449575675101687)\n",
        "initial guess"
       ]
      },
      {
       "output_type": "stream",
       "stream": "stdout",
       "text": [
        " [ 24.09116806  13.8447359 ]  has error  (3.6820017434768815e-05, -0.00076055417822722983)\n",
        "initial guess"
       ]
      },
      {
       "output_type": "stream",
       "stream": "stdout",
       "text": [
        " [ 24.09646401  13.84226494]  has error  (4.356612359446288e-05, 0.001922763187652735)\n",
        "initial guess"
       ]
      },
      {
       "output_type": "stream",
       "stream": "stdout",
       "text": [
        " [ 24.10209167  13.83780494]  has error  (3.8875533315385624e-05, -0.00074984965639032298)\n",
        "initial guess"
       ]
      },
      {
       "output_type": "stream",
       "stream": "stdout",
       "text": [
        " [ 24.10745269  13.83526798]  has error  (5.0078081830218224e-05, 0.0019892721077036054)\n",
        "initial guess"
       ]
      },
      {
       "output_type": "stream",
       "stream": "stdout",
       "text": [
        " [ 24.11314308  13.83074462]  has error  (3.9188652658506129e-05, -0.00065695991325781088)\n",
        "initial guess"
       ]
      },
      {
       "output_type": "stream",
       "stream": "stdout",
       "text": [
        " [ 24.11858267  13.82804431]  has error  (5.6426053250513419e-05, 0.0020240067943162925)\n",
        "initial guess"
       ]
      },
      {
       "output_type": "stream",
       "stream": "stdout",
       "text": [
        " [ 24.1243352   13.82344067]  has error  (3.3934314923600439e-05, -0.00080361177872907848)\n",
        "initial guess"
       ]
      },
      {
       "output_type": "stream",
       "stream": "stdout",
       "text": [
        " [ 24.12983686  13.82070454]  has error  (5.8914344181149048e-05, 0.0020850763697947455)\n",
        "initial guess"
       ]
      },
      {
       "output_type": "stream",
       "stream": "stdout",
       "text": [
        " [ 24.13566164  13.81598944]  has error  (3.805708160786736e-05, -0.00075995180917234613)\n",
        "initial guess"
       ]
      },
      {
       "output_type": "stream",
       "stream": "stdout",
       "text": [
        " [ 24.14122735  13.81316585]  has error  (5.4346645853131648e-05, 0.0019412042712352714)\n",
        "initial guess"
       ]
      },
      {
       "output_type": "stream",
       "stream": "stdout",
       "text": [
        " [ 24.14711562  13.80843053]  has error  (4.4633039055774759e-05, -0.00058195900125145277)\n",
        "initial guess"
       ]
      },
      {
       "output_type": "stream",
       "stream": "stdout",
       "text": [
        " [ 24.1527564   13.80545268]  has error  (5.939819739997354e-05, 0.0018837644795174336)\n",
        "initial guess"
       ]
      },
      {
       "output_type": "stream",
       "stream": "stdout",
       "text": [
        " [ 24.15869657  13.80071387]  has error  (4.4369532596233441e-05, -0.00049660266899006057)\n",
        "initial guess"
       ]
      },
      {
       "output_type": "stream",
       "stream": "stdout",
       "text": [
        " [ 24.16441464  13.79758305]  has error  (6.037211925247199e-05, 0.0017859736732717625)\n",
        "initial guess"
       ]
      },
      {
       "output_type": "stream",
       "stream": "stdout",
       "text": [
        " [ 24.17041072  13.79283771]  has error  (4.8645913405032104e-05, -0.00035251658802121005)\n",
        "initial guess"
       ]
      },
      {
       "output_type": "stream",
       "stream": "stdout",
       "text": [
        " [ 24.17620512  13.78954244]  has error  (6.0896183272873827e-05, 0.0016630454926409575)\n",
        "initial guess"
       ]
      },
      {
       "output_type": "stream",
       "stream": "stdout",
       "text": [
        " [ 24.18225652  13.78479975]  has error  (5.2082234059280808e-05, -0.00027295167456679566)\n"
       ]
      }
     ],
     "prompt_number": 100
    },
    {
     "cell_type": "code",
     "collapsed": true,
     "input": [
      "bcan.M/Me"
     ],
     "language": "python",
     "metadata": {},
     "outputs": [
      {
       "output_type": "pyout",
       "prompt_number": 90,
       "text": [
        "array([  9.03946055,   9.07931464,   9.11956195,   9.16020634,\n",
        "         9.20125173,   9.24270209,   9.2845614 ,   9.32683371,\n",
        "         9.36952308,   9.41263364,   9.45616953,   9.50013496,\n",
        "         9.54453415,   9.5893714 ,   9.63465102,   9.68037738,\n",
        "         9.72655488,   9.77318798,   9.82028117,   9.86783899,\n",
        "         9.91586603,   9.96436691,  10.01334631,  10.06280894,\n",
        "        10.11275959,  10.16320306,  10.21414421,  10.26558796,\n",
        "        10.31753927,  10.37000313,  10.42298461,  10.47648882,\n",
        "        10.53052091,  10.5850861 ,  10.64018963,  10.69583683,\n",
        "        10.75203305,  10.80878371,  10.86609429,  10.9239703 ,\n",
        "        10.98241733,  11.04144101,  11.10104703,  11.16124113,\n",
        "        11.22202912,  11.28341686,  11.34541026,  11.40801529,\n",
        "        11.47123801,  11.53508448,  11.59956088,  11.66467342,\n",
        "        11.73042837,  11.79683207,  11.86389092,  11.93161139,  12.        ])"
       ]
      }
     ],
     "prompt_number": 90
    },
    {
     "cell_type": "code",
     "collapsed": false,
     "input": [
      "bcam = np.concatenate((bcam, bcan))\n",
      "bcam = bcam.view(np.recarray)"
     ],
     "language": "python",
     "metadata": {},
     "outputs": [],
     "prompt_number": 101
    },
    {
     "cell_type": "code",
     "collapsed": false,
     "input": [
      "tev = np.cumsum(bcam.dt)/s2.Myr"
     ],
     "language": "python",
     "metadata": {},
     "outputs": [],
     "prompt_number": 112
    },
    {
     "cell_type": "code",
     "collapsed": false,
     "input": [
      "bcam.dtype"
     ],
     "language": "python",
     "metadata": {},
     "outputs": [
      {
       "output_type": "pyout",
       "prompt_number": 76,
       "text": [
        "dtype([('M', '<f8'), ('lL', '<f8'), ('dt', '<f8'), ('err0', '<f8'), ('err1', '<f8')])"
       ]
      }
     ],
     "prompt_number": 76
    },
    {
     "cell_type": "code",
     "collapsed": false,
     "input": [
      "semilogy(bcam.M/Me, 10**bcam.lL)"
     ],
     "language": "python",
     "metadata": {},
     "outputs": [
      {
       "output_type": "pyout",
       "prompt_number": 102,
       "text": [
        "[<matplotlib.lines.Line2D at 0x110a5ad10>]"
       ]
      },
      {
       "output_type": "display_data",
       "png": "[encoded data removed]"
      }
     ],
     "prompt_number": 102
    },
    {
     "cell_type": "code",
     "collapsed": false,
     "input": [
      "plot(tev, bcam.M/Me)"
     ],
     "language": "python",
     "metadata": {},
     "outputs": [
      {
       "output_type": "pyout",
       "prompt_number": 116,
       "text": [
        "[<matplotlib.lines.Line2D at 0x115732a50>]"
       ]
      },
      {
       "output_type": "display_data",
       "png": "[encoded data removed]"
      }
     ],
     "prompt_number": 116
    },
    {
     "cell_type": "code",
     "collapsed": false,
     "input": [
      "semilogy(tev, 10**bcam.lL)"
     ],
     "language": "python",
     "metadata": {},
     "outputs": [
      {
       "output_type": "pyout",
       "prompt_number": 117,
       "text": [
        "[<matplotlib.lines.Line2D at 0x1153eb5d0>]"
       ]
      },
      {
       "output_type": "display_data",
       "png": "[encoded data removed]"
      }
     ],
     "prompt_number": 117
    },
    {
     "cell_type": "code",
     "collapsed": false,
     "input": [
      "profsm = np.concatenate((profsm, profss))\n",
      "profsm = profsm.view(np.recarray)"
     ],
     "language": "python",
     "metadata": {},
     "outputs": [],
     "prompt_number": 103
    },
    {
     "cell_type": "code",
     "collapsed": false,
     "input": [],
     "language": "python",
     "metadata": {},
     "outputs": []
    },
    {
     "cell_type": "code",
     "collapsed": false,
     "input": [
      "print profsm.dtype\n",
      "profsm.shape"
     ],
     "language": "python",
     "metadata": {},
     "outputs": [
      {
       "output_type": "stream",
       "stream": "stdout",
       "text": [
        "[('r', '<f8'), ('m', '<f8'), ('P', '<f8'), ('TK', '<f8'), ('L', '<f8'), ('delrad', '<f8'), ('Mae', '<f8')]\n"
       ]
      },
      {
       "output_type": "pyout",
       "prompt_number": 97,
       "text": [
        "(249, 1000)"
       ]
      }
     ],
     "prompt_number": 97
    },
    {
     "cell_type": "code",
     "collapsed": false,
     "input": [
      "loglog(profsm.r[0, :], profsm.P[0, :])\n",
      "loglog(profsm.r[100, :], profsm.P[100, :])\n",
      "loglog(profsm.r[-1, :], profsm.P[-1, :])"
     ],
     "language": "python",
     "metadata": {},
     "outputs": [
      {
       "output_type": "pyout",
       "prompt_number": 104,
       "text": [
        "[<matplotlib.lines.Line2D at 0x1119a0190>]"
       ]
      },
      {
       "output_type": "display_data",
       "png": "[encoded data removed]"
      }
     ],
     "prompt_number": 104
    },
    {
     "cell_type": "code",
     "collapsed": false,
     "input": [
      "loglog(profsm.r[0, :], profsm.TK[0, :])\n",
      "loglog(profsm.r[100, :], profsm.TK[100, :])\n",
      "loglog(profsm.r[-1, :], profsm.TK[-1, :])"
     ],
     "language": "python",
     "metadata": {},
     "outputs": [
      {
       "output_type": "pyout",
       "prompt_number": 105,
       "text": [
        "[<matplotlib.lines.Line2D at 0x1119b5bd0>]"
       ]
      },
      {
       "output_type": "display_data",
       "png": "[encoded data removed]"
      }
     ],
     "prompt_number": 105
    },
    {
     "cell_type": "code",
     "collapsed": false,
     "input": [
      "loglog(profsm.r[0, :], profsm.delrad[0, :])\n",
      "loglog(profsm.r[100, :], profsm.delrad[100, :])\n",
      "loglog(profsm.r[-1, :], profsm.delrad[-1, :])\n",
      "delad = 2./7*np.ones_like(profsm.r[0, :])\n",
      "loglog(profsm.r[-1, :], delad, 'k--')"
     ],
     "language": "python",
     "metadata": {},
     "outputs": [
      {
       "output_type": "pyout",
       "prompt_number": 110,
       "text": [
        "[<matplotlib.lines.Line2D at 0x113bd5f50>]"
       ]
      },
      {
       "output_type": "display_data",
       "png": "[encoded data removed]"
      }
     ],
     "prompt_number": 110
    },
    {
     "cell_type": "code",
     "collapsed": false,
     "input": [
      "semilogx(profsm.r[0, :], profsm.L[0, :])\n",
      "semilogx(profsm.r[1, :], profsm.L[1, :])\n",
      "#plot(profsm.r[-1, :], profsm.L[-1, :])"
     ],
     "language": "python",
     "metadata": {},
     "outputs": [
      {
       "output_type": "pyout",
       "prompt_number": 123,
       "text": [
        "[<matplotlib.lines.Line2D at 0x1168d7ed0>]"
       ]
      },
      {
       "output_type": "display_data",
       "png": "[encoded data removed]"
      }
     ],
     "prompt_number": 123
    },
    {
     "cell_type": "code",
     "collapsed": false,
     "input": [
      "plot(bcam.err1)"
     ],
     "language": "python",
     "metadata": {},
     "outputs": [
      {
       "output_type": "pyout",
       "prompt_number": 137,
       "text": [
        "[<matplotlib.lines.Line2D at 0x116ed2490>]"
       ]
      },
      {
       "output_type": "display_data",
       "png": "[encoded data removed]"
      }
     ],
     "prompt_number": 137
    },
    {
     "cell_type": "code",
     "collapsed": false,
     "input": [
      "tMyr = np.cumsum(bca.dt)/s2.Myr\n",
      "print tMyr"
     ],
     "language": "python",
     "metadata": {},
     "outputs": [
      {
       "output_type": "stream",
       "stream": "stdout",
       "text": [
        "[ 0.          0.01093931  0.02085057  0.03304272  0.04643168  0.06164359\n",
        "  0.07858443  0.09746677  0.11837688  0.14145302  0.1668243   0.19461567\n",
        "  0.22496654  0.25800695  0.2938766   0.33271613  0.3746625   0.41986255\n",
        "  0.46845697  0.52059874]\n"
       ]
      }
     ],
     "prompt_number": 10
    },
    {
     "cell_type": "code",
     "collapsed": false,
     "input": [
      "plot(tMyr, bca.M/Me)"
     ],
     "language": "python",
     "metadata": {},
     "outputs": [
      {
       "output_type": "pyout",
       "prompt_number": 11,
       "text": [
        "[<matplotlib.lines.Line2D at 0x109ea0b10>]"
       ]
      },
      {
       "output_type": "display_data",
       "png": "[encoded data removed]"
      }
     ],
     "prompt_number": 11
    },
    {
     "cell_type": "code",
     "collapsed": false,
     "input": [
      "plot(tMyr, 10**bca.lL)"
     ],
     "language": "python",
     "metadata": {},
     "outputs": [
      {
       "output_type": "pyout",
       "prompt_number": 12,
       "text": [
        "[<matplotlib.lines.Line2D at 0x10baba790>]"
       ]
      },
      {
       "output_type": "display_data",
       "png": "[encoded data removed]"
      }
     ],
     "prompt_number": 12
    },
    {
     "cell_type": "code",
     "collapsed": false,
     "input": [
      "pdict = dict(prev._asdict())\n",
      "pdict.keys()\n",
      "#subdict = {'P_m' : pdict['P_m']}\n",
      "subdict = {'x' : 1}"
     ],
     "language": "python",
     "metadata": {},
     "outputs": [],
     "prompt_number": 112
    },
    {
     "cell_type": "code",
     "collapsed": false,
     "input": [
      "np.savez_compressed('test.npz', prevu=prevunt._asdict())"
     ],
     "language": "python",
     "metadata": {},
     "outputs": [],
     "prompt_number": 147
    },
    {
     "cell_type": "code",
     "collapsed": false,
     "input": [
      "reload(s2)"
     ],
     "language": "python",
     "metadata": {},
     "outputs": [
      {
       "output_type": "pyout",
       "prompt_number": 126,
       "text": [
        "<module 'RadSGPoly.shoot2' from '/Users/youd/Documents/Work/Repositories/aacore/python/RadSGPoly/shoot2.py'>"
       ]
      }
     ],
     "prompt_number": 126
    }
   ],
   "metadata": {}
  }
 ]
}
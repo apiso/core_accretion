{
 "metadata": {
  "name": "cooling_terms_poly"
 },
 "nbformat": 3,
 "nbformat_minor": 0,
 "worksheets": [
  {
   "cells": [
    {
     "cell_type": "code",
     "collapsed": false,
     "input": [
      "import os\n",
      "os.chdir('/Users/ana-mariapiso/core_accretion/python')\n",
      "#os.chdir('/home/apiso/repos/core_accretion')\n",
      "\n",
      "import numpy\n",
      "from utils.constants import Me, Re\n",
      "import matplotlib.pyplot as plt\n",
      "from utils.userpath import userpath\n",
      "from RadSGPoly.shooting_poly import params, prms\n",
      "from RadSGPoly.profiles_poly import atmload\n",
      "from RadSGPoly.cooling_poly import critical, cooling_global as cg, \\\n",
      "     cooling_local as cl\n"
     ],
     "language": "python",
     "metadata": {},
     "outputs": [],
     "prompt_number": 1
    },
    {
     "cell_type": "code",
     "collapsed": false,
     "input": [
      "load = 1\n",
      "savefig = 0\n",
      "savefigt = 0\n",
      "out = 'rcb'"
     ],
     "language": "python",
     "metadata": {},
     "outputs": [],
     "prompt_number": 4
    },
    {
     "cell_type": "code",
     "collapsed": false,
     "input": [
      "if load != 0:\n",
      "\n",
      "    atm = atmload('Mc5.0.npz', prms = prms)\n",
      "    model = atm[0]\n",
      "    param = atm[1]\n",
      "    prof = atm[2]\n",
      "\n",
      "\n",
      "    crit = critical(param, prof, model)\n",
      "\n",
      "    param = crit[0]\n",
      "    prof = crit[1]\n",
      "\n",
      "    Mass = param.MB\n",
      "    \n",
      "    cool = cg(param, prof, model, out = out)\n",
      "\n",
      "    dt = cool[0]\n",
      "    deltae = cool[2]\n",
      "    eaccdm = cool[3]\n",
      "    PdV = cool[4]\n",
      "    Lglobdt = - deltae + eaccdm - PdV\n",
      "\n",
      "    Llocdt = cl(param, prof, prms = prms, out = out)\n",
      "    Llocdtnegl = cl(param, prof, prms = prms, out = 'RHill', onlyrad = 1)\n",
      "\n",
      "L = param.L\n",
      "dM = (Mass[1:] - Mass[:-1]) * Me\n",
      "M = Mass[:-1] - model.Mco / Me #only atmosphere mass for plot"
     ],
     "language": "python",
     "metadata": {},
     "outputs": [],
     "prompt_number": 5
    },
    {
     "cell_type": "code",
     "collapsed": false,
     "input": [
      "plt.figure(figsize = (3.0, 3.0))\n",
      "\n",
      "L = param.L\n",
      "dM = (Mass[1:] - Mass[:-1]) * Me\n",
      "M = Mass[:-1] - model.Mco / Me #only atmosphere mass for plot\n",
      "\n",
      "plt.semilogy(M, - deltae / dt, 'r', label = r'$-dE/dt$')\n",
      "plt.semilogy(M, deltae / dt, '--r')\n",
      "plt.semilogy(M, eaccdm / dt, 'g', label = r'$-e_{\\mathrm{acc}} dM/dt$')\n",
      "plt.semilogy(M, - eaccdm / dt, '--g')\n",
      "plt.semilogy(M, - PdV / dt, 'y', label = r'$-PdV/dt$')\n",
      "plt.semilogy(M, PdV / dt, '--y')\n",
      "#plt.loglog(M, Lglobdt / dt, 'black', label = r'$L_{\\mathrm{glob}}$')\n",
      "#plt.loglog(M, - Lglobdt / dt, 'black', linestyle = '--')\n",
      "#plt.loglog(M, Llocdt / dt, 'b', label = r'$L_{\\mathrm{loc}}$')\n",
      "#plt.loglog(M, - Llocdt / dt, 'b', linestyle = '--')\n",
      "plt.semilogy(M, Llocdtnegl / dt, 'black', label = r'$L_{\\mathrm{negl}}$')\n",
      "plt.semilogy(M, - Llocdtnegl / dt, 'black', linestyle = '--')\n",
      "plt.semilogy(M, L[:-1], 'b', label = r'$L$')\n",
      "plt.legend(loc = 9, frameon = False, labelspacing = -0.2)\n",
      "plt.xlabel(r'$M_{\\mathrm{atm}}(M_{\\oplus})$')\n",
      "plt.ylabel(r'$L$ (erg s$^{-1}$)')\n",
      "#plt.xlim(0.1,1000)\n",
      "if savefig != 0:\n",
      "    plt.savefig(userpath + '/figs/ModelAtmospheres/RadSelfGravPoly/PaperFigs/cooling_a10_Mc5_' + out + '.pdf')\n",
      "plt.show()"
     ],
     "language": "python",
     "metadata": {},
     "outputs": [
      {
       "output_type": "display_data",
       "png": "[encoded data removed]"
      }
     ],
     "prompt_number": 25
    },
    {
     "cell_type": "code",
     "collapsed": false,
     "input": [],
     "language": "python",
     "metadata": {},
     "outputs": []
    }
   ],
   "metadata": {}
  }
 ]
}
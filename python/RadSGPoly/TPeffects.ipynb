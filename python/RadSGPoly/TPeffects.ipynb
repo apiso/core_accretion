{
 "metadata": {
  "name": "TPeffects"
 },
 "nbformat": 3,
 "nbformat_minor": 0,
 "worksheets": [
  {
   "cells": [
    {
     "cell_type": "code",
     "collapsed": false,
     "input": [
      "import os\n",
      "os.chdir('/home/apiso/repos/core_accretion/python')\n",
      "#os.chdir('/Users/ana-mariapiso/core_accretion/python')"
     ],
     "language": "python",
     "metadata": {},
     "outputs": [],
     "prompt_number": 1
    },
    {
     "cell_type": "code",
     "collapsed": false,
     "input": [
      "import numpy\n",
      "from utils.constants import Me, Re, gammafn, Rfn, Cvfn, Pdisk, Tdisk, kdust, \\\n",
      "     params, mufn\n",
      "from Analytical.analytic_comp import analytic_sols as ansols\n",
      "from utils.userpath import userpath\n",
      "from utils.parameters import FSigma, FT, mstar\n",
      "import matplotlib.pyplot as plt\n",
      "from RadSGPoly import plot_helper as ph\n",
      "from RadSGPoly.profiles_poly import atmload\n",
      "from RadSGPoly.cooling_poly import critical\n",
      "import matplotlib.cm as cm\n",
      "from RadSGPoly import TPeffects as TP"
     ],
     "language": "python",
     "metadata": {},
     "outputs": [],
     "prompt_number": 2
    },
    {
     "cell_type": "code",
     "collapsed": false,
     "input": [
      "\n",
      "reload(pp)"
     ],
     "language": "python",
     "metadata": {},
     "outputs": [
      {
       "output_type": "pyout",
       "prompt_number": 11,
       "text": [
        "<module 'RadSGPoly.profiles_poly' from 'RadSGPoly/profiles_poly.pyc'>"
       ]
      }
     ],
     "prompt_number": 11
    },
    {
     "cell_type": "code",
     "collapsed": false,
     "input": [
      "a = 10.0\n",
      "Mc = 5.0 * Me\n",
      "delad27 = 2./7\n",
      "Y03 = 0.3\n",
      "\n",
      "rhoc = 3.2\n",
      "rc = (3 * Mc / (4 * numpy.pi * rhoc))**(1./3)\n",
      "\n",
      "prmsref = params(Mc, rc, a, delad27, Y03, gamma = gammafn(delad27), R = Rfn(Y03), \\\n",
      "              Cv = Cvfn(Y03, delad27), Pd = Pdisk(a, mstar, FSigma, FT), \\\n",
      "              Td = Tdisk(a, FT), kappa = kdust)\n",
      "\n",
      "prmsT1 = params(Mc, rc, a, delad27, Y03, gamma = gammafn(delad27), R = Rfn(Y03), \\\n",
      "              Cv = Cvfn(Y03, delad27), Pd = Pdisk(a, mstar, FSigma, FT) * 0.01, \\\n",
      "              Td = Tdisk(a, FT), kappa = kdust)\n",
      "\n",
      "prmsT2 = params(Mc, rc, a, delad27, Y03, gamma = gammafn(delad27), R = Rfn(Y03), \\\n",
      "              Cv = Cvfn(Y03, delad27), Pd = Pdisk(a, mstar, FSigma, FT) * 0.05, \\\n",
      "              Td = Tdisk(a, FT), kappa = kdust)\n",
      "\n",
      "prmsT3 = params(Mc, rc, a, delad27, Y03, gamma = gammafn(delad27), R = Rfn(Y03), \\\n",
      "              Cv = Cvfn(Y03, delad27), Pd = Pdisk(a, mstar, FSigma, FT) * 0.1, \\\n",
      "              Td = Tdisk(a, FT), kappa = kdust)\n",
      "\n",
      "prmsT4 = params(Mc, rc, a, delad27, Y03, gamma = gammafn(delad27), R = Rfn(Y03), \\\n",
      "              Cv = Cvfn(Y03, delad27), Pd = Pdisk(a, mstar, FSigma, FT) * 0.5, \\\n",
      "              Td = Tdisk(a, FT), kappa = kdust)\n",
      "\n",
      "prmsT5 = params(Mc, rc, a, delad27, Y03, gamma = gammafn(delad27), R = Rfn(Y03), \\\n",
      "              Cv = Cvfn(Y03, delad27), Pd = Pdisk(a, mstar, FSigma, FT) * 1.3, \\\n",
      "              Td = Tdisk(a, FT), kappa = kdust)\n",
      "\n",
      "\n",
      "prmsP1 = params(Mc, rc, a, delad27, Y03, gamma = gammafn(delad27), R = Rfn(Y03), \\\n",
      "              Cv = Cvfn(Y03, delad27), Pd = Pdisk(a, mstar, FSigma, FT), \\\n",
      "              Td = Tdisk(a, FT) * 0.8, kappa = kdust)\n",
      "\n",
      "prmsP2 = params(Mc, rc, a, delad27, Y03, gamma = gammafn(delad27), R = Rfn(Y03), \\\n",
      "              Cv = Cvfn(Y03, delad27), Pd = Pdisk(a, mstar, FSigma, FT), \\\n",
      "              Td = Tdisk(a, FT) * 0.85, kappa = kdust)\n",
      "\n",
      "prmsP3 = params(Mc, rc, a, delad27, Y03, gamma = gammafn(delad27), R = Rfn(Y03), \\\n",
      "              Cv = Cvfn(Y03, delad27), Pd = Pdisk(a, mstar, FSigma, FT), \\\n",
      "              Td = Tdisk(a, FT) * 1.3, kappa = kdust)\n",
      "\n",
      "prmsP4 = params(Mc, rc, a, delad27, Y03, gamma = gammafn(delad27), R = Rfn(Y03), \\\n",
      "              Cv = Cvfn(Y03, delad27), Pd = Pdisk(a, mstar, FSigma, FT), \\\n",
      "              Td = Tdisk(a, FT) * 1.5, kappa = kdust)\n",
      "\n",
      "prmsP5 = params(Mc, rc, a, delad27, Y03, gamma = gammafn(delad27), R = Rfn(Y03), \\\n",
      "              Cv = Cvfn(Y03, delad27), Pd = Pdisk(a, mstar, FSigma, FT), \\\n",
      "              Td = Tdisk(a, FT) * 2.0, kappa = kdust)"
     ],
     "language": "python",
     "metadata": {},
     "outputs": [],
     "prompt_number": 31
    },
    {
     "cell_type": "code",
     "collapsed": false,
     "input": [
      "atmref = atmload('Mc5.0.npz', prms = prmsref)\n",
      "\n",
      "atmT1 = atmload('Mc5.0.npz', prms = prmsT1, disk = 0)\n",
      "atmT2 = atmload('Mc5.0.npz', prms = prmsT2, disk = 0)\n",
      "atmT3 = atmload('Mc5.0.npz', prms = prmsT3, disk = 0)\n",
      "atmT4 = atmload('Mc5.0.npz', prms = prmsT4, disk = 0)\n",
      "atmT5 = atmload('Mc5.0.npz', prms = prmsT5, disk = 0)\n",
      "\n",
      "atmP1 = atmload('Mc5.0.npz', prms = prmsP1, disk = 0)\n",
      "atmP2 = atmload('Mc5.0.npz', prms = prmsP2, disk = 0)\n",
      "atmP3 = atmload('Mc5.0.npz', prms = prmsP3, disk = 0)\n",
      "atmP4 = atmload('Mc5.0.npz', prms = prmsP4, disk = 0)\n",
      "atmP5 = atmload('Mc5.0.npz', prms = prmsP5, disk = 0)"
     ],
     "language": "python",
     "metadata": {},
     "outputs": [],
     "prompt_number": 32
    },
    {
     "cell_type": "code",
     "collapsed": false,
     "input": [
      "model = [atmT1[0], atmT2[0], atmT3[0], atmT4[0], atmref[0], atmT5[0]]\n",
      "param = [atmT1[1], atmT2[1], atmT3[1], atmT4[1], atmref[1], atmT5[1]]\n",
      "prof = [atmT1[2], atmT2[2], atmT3[2], atmT4[2], atmref[2], atmT5[2]]\n",
      "\n",
      "modelP = [atmP1[0], atmP2[0], atmref[0], atmP3[0], atmP4[0], atmP5[0]]\n",
      "paramP = [atmP1[1], atmP2[1], atmref[1], atmP3[1], atmP4[1], atmP5[1]]\n",
      "profP = [atmP1[2], atmP2[2],  atmref[2], atmP3[2], atmP4[2], atmP5[2]]"
     ],
     "language": "python",
     "metadata": {},
     "outputs": [],
     "prompt_number": 33
    },
    {
     "cell_type": "code",
     "collapsed": false,
     "input": [
      "\n",
      "n = len(model)\n",
      "t = 0 * numpy.ndarray(shape = (n), dtype = float)\n",
      "tP = 0 * numpy.ndarray(shape = (n), dtype = float)\n",
      "\n",
      "for i in range(n):\n",
      "    temp = critical(param[i], prof[i], model[i])\n",
      "    dt = temp[-1]\n",
      "    t[i] = sum(dt)\n",
      "    \n",
      "    temp = critical(paramP[i], profP[i], modelP[i])\n",
      "    dt = temp[-1]\n",
      "    tP[i] = sum(dt)\n"
     ],
     "language": "python",
     "metadata": {},
     "outputs": [],
     "prompt_number": 34
    },
    {
     "cell_type": "code",
     "collapsed": false,
     "input": [
      "Pdarray = [model[0].Pd, model[1].Pd, model[2].Pd, model[3].Pd, model[4].Pd, model[5].Pd]\n",
      "Tdarray = [modelP[0].Td, modelP[1].Td, modelP[2].Td, modelP[3].Td, modelP[4].Td, modelP[5].Td]"
     ],
     "language": "python",
     "metadata": {},
     "outputs": [],
     "prompt_number": 36
    },
    {
     "cell_type": "code",
     "collapsed": false,
     "input": [
      "tP[-1]/tP[0]"
     ],
     "language": "python",
     "metadata": {},
     "outputs": [
      {
       "output_type": "pyout",
       "prompt_number": 49,
       "text": [
        "29.58057971206102"
       ]
      }
     ],
     "prompt_number": 49
    },
    {
     "cell_type": "code",
     "collapsed": false,
     "input": [
      "filename = \"Pd_effect.pdf\"\n",
      "\n",
      "plt.semilogx(Pdarray, t / (365 * 24 * 3600) / 10**6, '-o')\n",
      "plt.xlabel(r'$P_{\\rm{d}}$ (dyn cm$^{-2}$)')\n",
      "plt.ylabel(r'$t$ (Myrs)')\n",
      "plt.xlim(5 * 10**(-4), 0.1)\n",
      "plt.title(r'$\\nabla_{\\mathrm{ad}}=2.7$, $\\mu=2.35$, $M_c=5 M_{\\oplus}$')\n",
      "\n",
      "plt.savefig(userpath + '/figs/ModelAtmospheres/RadSelfGravPoly/' + filename)"
     ],
     "language": "python",
     "metadata": {},
     "outputs": [
      {
       "output_type": "display_data",
       "png": "[encoded data removed]"
      }
     ],
     "prompt_number": 50
    },
    {
     "cell_type": "code",
     "collapsed": false,
     "input": [
      "filename = 'Td_effect.pdf'\n",
      "\n",
      "plt.semilogy(Tdarray, tP / (365 * 24 * 3600) / 10**6, '-o')\n",
      "plt.xlabel(r'$T_{\\rm{d}}$ (K)')\n",
      "plt.ylabel(r'$t$ (Myrs)')\n",
      "plt.xlim(30, 95)\n",
      "plt.title(r'$\\nabla_{\\mathrm{ad}}=2.7$, $\\mu=2.35$, $M_c=5 M_{\\oplus}$')\n",
      "\n",
      "plt.savefig(userpath + '/figs/ModelAtmospheres/RadSelfGravPoly/' + filename)"
     ],
     "language": "python",
     "metadata": {},
     "outputs": [
      {
       "output_type": "display_data",
       "png": "[encoded data removed]"
      }
     ],
     "prompt_number": 51
    },
    {
     "cell_type": "code",
     "collapsed": false,
     "input": [],
     "language": "python",
     "metadata": {},
     "outputs": []
    }
   ],
   "metadata": {}
  }
 ]
}
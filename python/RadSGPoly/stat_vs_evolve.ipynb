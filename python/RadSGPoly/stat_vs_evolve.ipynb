{
 "metadata": {
  "name": "stat_vs_evolve"
 },
 "nbformat": 3,
 "nbformat_minor": 0,
 "worksheets": [
  {
   "cells": [
    {
     "cell_type": "markdown",
     "metadata": {},
     "source": [
      "#Static vs. Evolved Solutions"
     ]
    },
    {
     "cell_type": "code",
     "collapsed": true,
     "input": [
      "from RadSGPoly import shoot2 as s2\n",
      "from utils.mynumsci import Me, Re, Myr"
     ],
     "language": "python",
     "metadata": {},
     "outputs": [],
     "prompt_number": 1
    },
    {
     "cell_type": "code",
     "collapsed": false,
     "input": [
      "reload(s2)"
     ],
     "language": "python",
     "metadata": {},
     "outputs": [
      {
       "output_type": "pyout",
       "prompt_number": 17,
       "text": [
        "<module 'RadSGPoly.shoot2' from '/Users/youd/Documents/Work/Repositories/aacore/python/RadSGPoly/shoot2.py'>"
       ]
      }
     ],
     "prompt_number": 17
    },
    {
     "cell_type": "markdown",
     "metadata": {},
     "source": [
      "starts with static solution `Mold` then takes both static and evolving steps to `Mnew`"
     ]
    },
    {
     "cell_type": "code",
     "collapsed": true,
     "input": [
      "Mold , Mco , delad = 5.6*Me , s2.prms.mco , s2.prms.delad\n",
      "Mnew = Mco + 1.01*(Mold - Mco)\n",
      "prev = s2.makeprev(Mold) #static old\n",
      "newstat = s2.makeprev(Mnew) #static new\n",
      "sol = s2.evolve_dM(Mold, Mnew - Mold, prevroot=prev, retry=1)\n",
      "new = s2.makeprev(Mnew, sol.x[0], 10**sol.x[1], prev) #evolved new"
     ],
     "language": "python",
     "metadata": {},
     "outputs": [
      {
       "output_type": "stream",
       "stream": "stdout",
       "text": [
        "initial guess error  (0.00079440162916166734, 0.65119428329188911)\n",
        "sol1 status "
       ]
      },
      {
       "output_type": "stream",
       "stream": "stdout",
       "text": [
        " 1  with error  [  1.49010147e-04   7.65556568e-06]\n",
        "sol2 status "
       ]
      },
      {
       "output_type": "stream",
       "stream": "stdout",
       "text": [
        " 1  with error  [  8.01863684e-05  -3.98078377e-07]\n",
        "choosing sol2\n"
       ]
      }
     ],
     "prompt_number": 2
    },
    {
     "cell_type": "markdown",
     "metadata": {},
     "source": [
      "Now compute the profiles of all 3 solutions"
     ]
    },
    {
     "cell_type": "code",
     "collapsed": true,
     "input": [
      "pre = s2.sol2prof(prev)\n",
      "stat = s2.sol2prof(newstat)\n",
      "neu = s2.sol2prof(new)"
     ],
     "language": "python",
     "metadata": {},
     "outputs": [],
     "prompt_number": 4
    },
    {
     "cell_type": "markdown",
     "metadata": {},
     "source": [
      "Generate 4 panel plot"
     ]
    },
    {
     "cell_type": "code",
     "collapsed": false,
     "input": [
      "f, axa = plt.subplots(2, 2, sharex=True, num=1, figsize = (6,5))\n",
      "f.suptitle('$M_\\mathrm{tot} \\, = \\, ' + str(Mold/Me) + ' \\, M_\\oplus$',\n",
      "           fontsize = 14) \n",
      "\n",
      "axa[0,0].loglog(pre.r, pre.TK)\n",
      "axa[0,0].plot(stat.r, stat.TK)\n",
      "axa[0,0].plot(neu.r, neu.TK)\n",
      "axa[0,0].set_ylim(30, 1.5*max(neu.TK))\n",
      "axa[0,0].set_ylabel('$T \\; [\\mathrm{K}]$')\n",
      "\n",
      "axa[1,0].semilogx(pre.r, pre.L, label = 'prev')\n",
      "axa[1,0].plot(stat.r, stat.L, label = 'static')\n",
      "axa[1,0].plot(neu.r, neu.L, label = 'evolved')\n",
      "axa[1,0].set_xlim(1e9,3e12)\n",
      "axa[1,0].set_ylim(bottom = 0)\n",
      "axa[1,0].set_ylabel('$L \\;  [\\mathrm{ergs}]$')\n",
      "axa[1,0].set_xlabel('$r \\; [\\mathrm{cm}]$')\n",
      "axa[1,0].legend(frameon=False, loc = 'lower right')\n",
      "\n",
      "axa[0,1].loglog(pre.r, pre.Mae)\n",
      "axa[0,1].loglog(stat.r, stat.Mae)\n",
      "axa[0,1].loglog(neu.r, neu.Mae)\n",
      "axa[0,1].set_xlim(1e9,3e12)\n",
      "axa[0,1].set_ylim(top = 1.5)\n",
      "axa[0,1].set_ylabel('$M_\\mathrm{atm} \\; [M_\\oplus]$')\n",
      "\n",
      "axa[1,1].loglog(pre.r, pre.delrad)\n",
      "axa[1,1].plot(stat.r, stat.delrad)\n",
      "axa[1,1].plot(neu.r, neu.delrad)\n",
      "axa[1,1].plot(neu.r, np.ones_like(neu.r) * delad, 'k:')\n",
      "axa[1,1].set_xlim(1e9,3e12)\n",
      "axa[1,1].set_ylim(bottom = 0.8*min(stat.delrad))\n",
      "axa[1,1].set_ylabel(r'$\\nabla_\\mathrm{rad}$')\n",
      "axa[1,1].set_xlabel('$r \\; [\\mathrm{cm}]$')\n",
      "\n",
      "plt.draw()\n",
      "plt.tight_layout()\n",
      "f.subplots_adjust(top = 0.9)\n",
      "\n",
      "savefig = 0\n",
      "if savefig:\n",
      "    from utils.userpath import userpath\n",
      "    figfolder = userpath + \"/figs/ModelAtmospheres/RadSelfGravPoly/Hill2/\"  \n",
      "    plt.savefig(figfolder+'evolve_dM.pdf')"
     ],
     "language": "python",
     "metadata": {},
     "outputs": [
      {
       "output_type": "display_data",
       "png": "[encoded data removed]"
      }
     ],
     "prompt_number": 27
    },
    {
     "cell_type": "code",
     "collapsed": false,
     "input": [
      "from utils.userpath import userpath\n",
      "figfolder = userpath + \"/figs/ModelAtmospheres/RadSelfGravPoly/Hill2/\"  \n",
      "plt.savefig(figfolder+'evolve_dM.pdf')"
     ],
     "language": "python",
     "metadata": {},
     "outputs": [],
     "prompt_number": 21
    },
    {
     "cell_type": "code",
     "collapsed": false,
     "input": [
      "savefig(figfolder+'evolve_dM.pdf')"
     ],
     "language": "python",
     "metadata": {},
     "outputs": [
      {
       "ename": "TypeError",
       "evalue": "'int' object is not callable",
       "output_type": "pyerr",
       "traceback": [
        "\u001b[0;31m---------------------------------------------------------------------------\u001b[0m\n\u001b[0;31mTypeError\u001b[0m                                 Traceback (most recent call last)",
        "\u001b[0;32m<ipython-input-24-ee209a87b35d>\u001b[0m in \u001b[0;36m<module>\u001b[0;34m()\u001b[0m\n\u001b[0;32m----> 1\u001b[0;31m \u001b[0msavefig\u001b[0m\u001b[0;34m(\u001b[0m\u001b[0mfigfolder\u001b[0m\u001b[0;34m+\u001b[0m\u001b[0;34m'evolve_dM.pdf'\u001b[0m\u001b[0;34m)\u001b[0m\u001b[0;34m\u001b[0m\u001b[0m\n\u001b[0m",
        "\u001b[0;31mTypeError\u001b[0m: 'int' object is not callable"
       ]
      }
     ],
     "prompt_number": 24
    },
    {
     "cell_type": "code",
     "collapsed": false,
     "input": [
      "plt.savefig('evolve_dM.pdf')"
     ],
     "language": "python",
     "metadata": {},
     "outputs": [],
     "prompt_number": 29
    },
    {
     "cell_type": "code",
     "collapsed": false,
     "input": [],
     "language": "python",
     "metadata": {},
     "outputs": []
    }
   ],
   "metadata": {}
  }
 ]
}
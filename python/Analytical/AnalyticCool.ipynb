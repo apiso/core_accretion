{
 "metadata": {
  "name": "AnalyticCool"
 },
 "nbformat": 3,
 "nbformat_minor": 0,
 "worksheets": [
  {
   "cells": [
    {
     "cell_type": "code",
     "collapsed": false,
     "input": [
      "from Analytical import analytic_comp as ac\n",
      "from utils.mynumsci import mylogspace"
     ],
     "language": "python",
     "metadata": {},
     "outputs": [],
     "prompt_number": 1
    },
    {
     "cell_type": "code",
     "collapsed": true,
     "input": [
      "reload(ac)"
     ],
     "language": "python",
     "metadata": {},
     "outputs": [
      {
       "output_type": "pyout",
       "prompt_number": 7,
       "text": [
        "<module 'Analytical.analytic_comp' from '/Users/youd/Documents/Work/Repositories/aacore/python/Analytical/analytic_comp.py'>"
       ]
      }
     ],
     "prompt_number": 7
    },
    {
     "cell_type": "code",
     "collapsed": false,
     "input": [
      "isol = ac.AnSols()"
     ],
     "language": "python",
     "metadata": {},
     "outputs": [],
     "prompt_number": 2
    },
    {
     "cell_type": "code",
     "collapsed": false,
     "input": [
      "isol.tcool(mc=10, fM=.13)"
     ],
     "language": "python",
     "metadata": {},
     "outputs": [
      {
       "output_type": "stream",
       "stream": "stdout",
       "text": [
        "fac = 163.73\n",
        "ksi = 2.45\n"
       ]
      },
      {
       "output_type": "pyout",
       "prompt_number": 52,
       "text": [
        "1.6002854538304405"
       ]
      }
     ],
     "prompt_number": 52
    },
    {
     "cell_type": "heading",
     "level": 1,
     "metadata": {},
     "source": [
      "Pressure dependence"
     ]
    },
    {
     "cell_type": "code",
     "collapsed": false,
     "input": [
      "fM = 0.13"
     ],
     "language": "python",
     "metadata": {},
     "outputs": [],
     "prompt_number": 59
    },
    {
     "cell_type": "code",
     "collapsed": true,
     "input": [
      "pdm = mylogspace(1e-3,0.1,50)\n",
      "mc = 5\n",
      "ans = ac.AnSols()\n",
      "tcoolm = zeros_like(pdm)\n",
      "for i, pd in enumerate(pdm):\n",
      "    ans.Pd = pd\n",
      "    tcoolm[i] = ans.tcool(mc, fM)"
     ],
     "language": "python",
     "metadata": {},
     "outputs": [],
     "prompt_number": 60
    },
    {
     "cell_type": "code",
     "collapsed": false,
     "input": [
      "f, ax = plt.subplots(1)\n",
      "ax.semilogx(pdm, tcoolm)\n",
      "ax.set_xlabel(\"$P_\\mathrm{d} \\, \\mathrm{[dyn/cm^2]}$\")\n",
      "ax.set_ylabel(\"$t_\\mathrm{cool} \\, \\mathrm{[Myr]}$\")\n",
      "Tds, mcs = \" {:.2f} \".format(ans.Td), \"{:d}\".format(ans.mc)\n",
      "ax.set_title(\"$T_\\mathrm{d} = $\" + Tds + \"$\\mathrm{K}$ , $M_\\mathrm{c} = $\" + mcs + \"$M_\\oplus$\")"
     ],
     "language": "python",
     "metadata": {},
     "outputs": [
      {
       "output_type": "pyout",
       "prompt_number": 61,
       "text": [
        "<matplotlib.text.Text at 0x10fe46610>"
       ]
      },
      {
       "output_type": "display_data",
       "png": "[encoded data removed]"
      }
     ],
     "prompt_number": 61
    },
    {
     "cell_type": "heading",
     "level": 1,
     "metadata": {},
     "source": [
      "Temp dependence"
     ]
    },
    {
     "cell_type": "code",
     "collapsed": true,
     "input": [
      "Tdm = np.linspace(30,100,50)\n",
      "mc = 5\n",
      "ans = ac.AnSols()\n",
      "tcoolm_T = zeros_like(Tdm)\n",
      "for i, Td in enumerate(Tdm):\n",
      "    ans.Td = Td\n",
      "    tcoolm_T[i] = ans.tcool(mc, fM)"
     ],
     "language": "python",
     "metadata": {},
     "outputs": [],
     "prompt_number": 62
    },
    {
     "cell_type": "code",
     "collapsed": false,
     "input": [
      "f, ax = plt.subplots(1)\n",
      "ax.semilogy(Tdm, tcoolm_T)\n",
      "ax.set_xlabel(\"$T_\\mathrm{d} \\, \\mathrm{[K]}$\")\n",
      "ax.set_ylabel(\"$t_\\mathrm{cool} \\, \\mathrm{[Myr]}$\")\n",
      "Pds, mcs = \" ${:.3f}$ \".format(ans.Pd), \"${:d}$ \".format(ans.mc)\n",
      "ax.set_title(\"$P_\\mathrm{d} = $\" + Pds + \"$\\mathrm{dyn/cm^2}$ , $M_\\mathrm{c} = $\" + mcs + \"$M_\\oplus$\")"
     ],
     "language": "python",
     "metadata": {},
     "outputs": [
      {
       "output_type": "pyout",
       "prompt_number": 64,
       "text": [
        "<matplotlib.text.Text at 0x11011f090>"
       ]
      },
      {
       "output_type": "display_data",
       "png": "[encoded data removed]"
      }
     ],
     "prompt_number": 64
    },
    {
     "cell_type": "heading",
     "level": 1,
     "metadata": {},
     "source": [
      "Mass dependence"
     ]
    },
    {
     "cell_type": "code",
     "collapsed": false,
     "input": [
      "mcm = np.linspace(5,15,50)\n",
      "ans = ac.AnSols()\n",
      "ans_mu2 = ac.AnSols(mu=2.)\n",
      "tcool_mc, tcool_mc_mu2 = zeros_like(mcm), zeros_like(mcm)\n",
      "for i, mc in enumerate(mcm):\n",
      "    tcool_mc[i] = ans.tcool(mc, fM)\n",
      "    tcool_mc_mu2[i] = ans_mu2.tcool(mc, fM)"
     ],
     "language": "python",
     "metadata": {},
     "outputs": [],
     "prompt_number": 65
    },
    {
     "cell_type": "code",
     "collapsed": false,
     "input": [
      "f, ax = plt.subplots(1)\n",
      "ax.semilogy(mcm, tcool_mc, 'b')\n",
      "ax.semilogy(mcm, tcool_mc_mu2, 'r')\n",
      "ax.plot(mcm, ones_like(mcm)*3, 'k--')\n",
      "ax.set_xlabel(\"$M_\\mathrm{c} \\, [M_\\oplus]$\")\n",
      "ax.set_ylabel(\"$t_\\mathrm{cool} \\, \\mathrm{[Myr]}$\")\n",
      "AUs = \" ${:.1f}$ \".format(ans.a) \n",
      "ax.set_title(\"$a = $\" + AUs + \"$\\mathrm{AU}$\")\n",
      "ax.set_xlim(5,15)"
     ],
     "language": "python",
     "metadata": {},
     "outputs": [
      {
       "output_type": "pyout",
       "prompt_number": 66,
       "text": [
        "(5, 15)"
       ]
      },
      {
       "output_type": "display_data",
       "png": "[encoded data removed]"
      }
     ],
     "prompt_number": 66
    },
    {
     "cell_type": "heading",
     "level": 1,
     "metadata": {},
     "source": [
      "Mcrit: Disk radius dep."
     ]
    },
    {
     "cell_type": "code",
     "collapsed": false,
     "input": [
      "reload(ac)"
     ],
     "language": "python",
     "metadata": {},
     "outputs": [
      {
       "output_type": "pyout",
       "prompt_number": 165,
       "text": [
        "<module 'Analytical.analytic_comp' from '/Users/youd/Documents/Work/Repositories/aacore/python/Analytical/analytic_comp.pyc'>"
       ]
      }
     ],
     "prompt_number": 165
    },
    {
     "cell_type": "code",
     "collapsed": false,
     "input": [
      "ans = ac.AnSols(a=3.)\n",
      "mc = ans.mcrit((0.9*mold, mold))\n",
      "print mc\n",
      "print ans.tcool(mc)"
     ],
     "language": "python",
     "metadata": {},
     "outputs": [
      {
       "output_type": "stream",
       "stream": "stdout",
       "text": [
        "12.9151709159\n",
        "3.0\n"
       ]
      }
     ],
     "prompt_number": 94
    },
    {
     "cell_type": "code",
     "collapsed": false,
     "input": [
      "fM"
     ],
     "language": "python",
     "metadata": {},
     "outputs": [
      {
       "output_type": "pyout",
       "prompt_number": 89,
       "text": [
        "0.13"
       ]
      }
     ],
     "prompt_number": 89
    },
    {
     "cell_type": "code",
     "collapsed": false,
     "input": [
      "aAUm = mylogspace(1,100,50)\n",
      "mcrit_a, mcrit_a_mu2 = zeros_like(aAUm), zeros_like(aAUm)\n",
      "mold, mold_mu2 = 14, 19\n",
      "for i, aAU in enumerate(aAUm):\n",
      "    #print i\n",
      "    ans = ac.AnSols(a=aAU)\n",
      "    mcrit_a[i] = ans.mcrit((0.9*mold, mold), fM=fM)\n",
      "    mold = mcrit_a[i]\n",
      "    ans_mu2 = ac.AnSols(a=aAU, mu=2.)\n",
      "    mcrit_a_mu2[i] = ans_mu2.mcrit((0.9*mold_mu2, mold_mu2), fM=fM)\n",
      "    #mold_mu2 = mcrit_a_mu2[i]"
     ],
     "language": "python",
     "metadata": {},
     "outputs": [
      {
       "output_type": "stream",
       "stream": "stdout",
       "text": [
        "0\n",
        "1\n",
        "2\n",
        "3\n",
        "4\n",
        "5\n",
        "6\n",
        "7\n",
        "8\n",
        "9\n",
        "10\n",
        "11\n",
        "12"
       ]
      },
      {
       "output_type": "stream",
       "stream": "stdout",
       "text": [
        "\n",
        "13\n",
        "14\n",
        "15\n",
        "16\n",
        "17\n",
        "18\n",
        "19\n",
        "20\n",
        "21\n",
        "22\n",
        "23\n",
        "24\n",
        "25\n",
        "26"
       ]
      },
      {
       "output_type": "stream",
       "stream": "stdout",
       "text": [
        "\n",
        "27\n",
        "28\n",
        "29\n",
        "30\n",
        "31\n",
        "32\n",
        "33\n",
        "34\n",
        "35\n",
        "36\n",
        "37"
       ]
      },
      {
       "output_type": "stream",
       "stream": "stdout",
       "text": [
        "\n",
        "38\n",
        "39\n",
        "40\n",
        "41\n",
        "42\n",
        "43\n",
        "44\n",
        "45\n",
        "46"
       ]
      },
      {
       "output_type": "stream",
       "stream": "stdout",
       "text": [
        "\n",
        "47\n",
        "48\n",
        "49\n"
       ]
      }
     ],
     "prompt_number": 167
    },
    {
     "cell_type": "code",
     "collapsed": false,
     "input": [
      "f, ax = plt.subplots(1)\n",
      "ax.semilogx(aAUm, mcrit_a, 'b', label=\"$\\mu=2.35$\")\n",
      "ax.semilogx(aAUm, mcrit_a_mu2, 'r', label=\"$\\mu=2.0$\")\n",
      "ax.legend()\n",
      "ax.set_xlabel(\"$a \\, [\\mathrm{AU}]$\")\n",
      "ax.set_ylabel(\"$M_\\mathrm{crit} \\, [M_\\oplus]$\")\n",
      "#AUs = \" ${:.1f}$ \".format(ans.a) \n",
      "#ax.set_title(\"$a = $\" + AUs + \"$\\mathrm{AU}$\")"
     ],
     "language": "python",
     "metadata": {},
     "outputs": [
      {
       "output_type": "pyout",
       "prompt_number": 177,
       "text": [
        "<matplotlib.text.Text at 0x112a165d0>"
       ]
      },
      {
       "output_type": "display_data",
       "png": "[encoded data removed]"
      }
     ],
     "prompt_number": 177
    },
    {
     "cell_type": "markdown",
     "metadata": {},
     "source": [
      "the main effect of mu include lower density at a given pressure, hence a lower atmospheric mass.  The more subtle effect is that the characteristic pressure PM becomes larger.  Larger PM thus requires larger Pcb and longer cooling times as well.\n",
      "\n",
      "At small a, initial guesses for Mcrit need to be chosen carefully so that numerical root exists for ksi.  The scratch work below was used to check for this."
     ]
    },
    {
     "cell_type": "code",
     "collapsed": false,
     "input": [
      "a = aAUm[0]\n",
      "mc = 14.\n",
      "ans_mu2 = ac.AnSols(a=a, mu=2.)\n",
      "ans = ac.AnSols(a=a)\n",
      "#print ans.tcool(mc=mc, fM=fM)\n",
      "print ans_mu2.tcool(mc=19, fM=fM)\n",
      "print ans_mu2.tcool(mc=0.9*18, fM=fM)"
     ],
     "language": "python",
     "metadata": {},
     "outputs": [
      {
       "output_type": "stream",
       "stream": "stdout",
       "text": [
        "fac = 2.73, ksi = 1.01\n",
        "2.25647458017\n",
        "fac = 3.76, ksi = 1.24\n",
        "4.4836615319\n"
       ]
      }
     ],
     "prompt_number": 161
    },
    {
     "cell_type": "code",
     "collapsed": false,
     "input": [
      "ans = ac.AnSols(a = 1)\n",
      "ans.tcool(mc=14, fM=fM)"
     ],
     "language": "python",
     "metadata": {},
     "outputs": [
      {
       "output_type": "stream",
       "stream": "stdout",
       "text": [
        "fac = 2.64, ksi = 0.97\n"
       ]
      },
      {
       "output_type": "pyout",
       "prompt_number": 118,
       "text": [
        "1.6903776793496683"
       ]
      }
     ],
     "prompt_number": 118
    },
    {
     "cell_type": "heading",
     "level": 1,
     "metadata": {},
     "source": [
      "Mcrit: opacity effects"
     ]
    },
    {
     "cell_type": "code",
     "collapsed": true,
     "input": [
      "aAUm = mylogspace(1,100,50)\n",
      "mcrit_a, mcrit_a_FK = zeros_like(aAUm), zeros_like(aAUm)\n",
      "mold, mold_FK = 14, 12\n",
      "for i, aAU in enumerate(aAUm):\n",
      "    #print i\n",
      "    ans = ac.AnSols(a=aAU)\n",
      "    mcrit_a[i] = ans.mcrit((0.9*mold, mold), fM=fM)\n",
      "    mold = mcrit_a[i]\n",
      "    ans_FK = ac.AnSols(a=aAU, FK=0.1)\n",
      "    mcrit_a_FK[i] = ans_FK.mcrit((0.9*mold_FK, mold_FK), fM=fM)\n",
      "    mold_FK = mcrit_a_FK[i]"
     ],
     "language": "python",
     "metadata": {},
     "outputs": [
      {
       "output_type": "stream",
       "stream": "stdout",
       "text": [
        "0\n",
        "1\n",
        "2\n",
        "3\n",
        "4\n",
        "5\n",
        "6\n",
        "7\n",
        "8\n",
        "9\n",
        "10\n",
        "11"
       ]
      },
      {
       "output_type": "stream",
       "stream": "stdout",
       "text": [
        "\n",
        "12\n",
        "13\n",
        "14\n",
        "15\n",
        "16\n",
        "17\n",
        "18\n",
        "19\n",
        "20\n",
        "21\n",
        "22\n",
        "23\n",
        "24"
       ]
      },
      {
       "output_type": "stream",
       "stream": "stdout",
       "text": [
        "\n",
        "25\n",
        "26\n",
        "27\n",
        "28\n",
        "29\n",
        "30\n",
        "31\n",
        "32\n",
        "33\n",
        "34\n",
        "35\n",
        "36"
       ]
      },
      {
       "output_type": "stream",
       "stream": "stdout",
       "text": [
        "\n",
        "37\n",
        "38\n",
        "39\n",
        "40\n",
        "41\n",
        "42\n",
        "43\n",
        "44\n",
        "45\n",
        "46\n",
        "47\n",
        "48"
       ]
      },
      {
       "output_type": "stream",
       "stream": "stdout",
       "text": [
        "\n",
        "49\n"
       ]
      }
     ],
     "prompt_number": 174
    },
    {
     "cell_type": "code",
     "collapsed": false,
     "input": [
      "f, ax = plt.subplots(1)\n",
      "ax.semilogx(aAUm, mcrit_a, 'b', label=\"$F_\\kappa = 1$\")\n",
      "ax.semilogx(aAUm, mcrit_a_FK, 'g', label=\"$F_\\kappa = 0.1$\")\n",
      "ax.legend()\n",
      "ax.set_xlabel(\"$a \\, [\\mathrm{AU}]$\")\n",
      "ax.set_ylabel(\"$M_\\mathrm{crit} \\, [M_\\oplus]$\")"
     ],
     "language": "python",
     "metadata": {},
     "outputs": [
      {
       "output_type": "pyout",
       "prompt_number": 176,
       "text": [
        "<matplotlib.text.Text at 0x1125aa550>"
       ]
      },
      {
       "output_type": "display_data",
       "png": "[encoded data removed]"
      }
     ],
     "prompt_number": 176
    },
    {
     "cell_type": "code",
     "collapsed": false,
     "input": [],
     "language": "python",
     "metadata": {},
     "outputs": []
    }
   ],
   "metadata": {}
  }
 ]
}
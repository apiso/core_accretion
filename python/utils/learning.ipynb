{
 "metadata": {
  "name": "learning"
 },
 "nbformat": 3,
 "nbformat_minor": 0,
 "worksheets": [
  {
   "cells": [
    {
     "cell_type": "heading",
     "level": 1,
     "metadata": {},
     "source": [
      "Scratch / Learning"
     ]
    },
    {
     "cell_type": "heading",
     "level": 2,
     "metadata": {},
     "source": [
      "Functions"
     ]
    },
    {
     "cell_type": "markdown",
     "metadata": {},
     "source": [
      "Passing kwargs in a wrapper function"
     ]
    },
    {
     "cell_type": "code",
     "collapsed": false,
     "input": [
      "def f(**kwargs):\n",
      "    g(**kwargs)\n",
      "    \n",
      "def g(a=1, b=2):\n",
      "    print a, b\n",
      "    \n",
      "f(a=1, b=4)"
     ],
     "language": "python",
     "metadata": {},
     "outputs": [
      {
       "output_type": "stream",
       "stream": "stdout",
       "text": [
        "1 4\n"
       ]
      }
     ],
     "prompt_number": 4
    },
    {
     "cell_type": "markdown",
     "metadata": {},
     "source": [
      "Learning some basic stuff about classes.  This is something I need to learn to use effectively.  If I'm putting everything in the `__init__` function that's probably not effective..."
     ]
    },
    {
     "cell_type": "code",
     "collapsed": false,
     "input": [
      "def aFun():\n",
      "    pass\n",
      "aFun.var = 7\n",
      "class Person:\n",
      "    def __init__(self, name):\n",
      "        self.name = name\n",
      "        self.personality = \"dull\"\n",
      "        self.sayHi() #can call functions defined later in class!\n",
      "        aFun.var = 8 #can set attributes of external functions (for keeps)\n",
      "    def sayHi(self):\n",
      "        print 'Hello', self.name, '.  You are', self.personality\n",
      "print aFun.var\n",
      "me = Person('Andrew')\n",
      "print aFun.var"
     ],
     "language": "python",
     "metadata": {},
     "outputs": []
    },
    {
     "cell_type": "heading",
     "level": 3,
     "metadata": {},
     "source": [
      "Building lists or arrays"
     ]
    },
    {
     "cell_type": "markdown",
     "metadata": {},
     "source": [
      "Usually it's best to create a numpy array of fixed size.  But sometimes that's no possible and you want to create a collection on the fly in a loop of indeterminate length.  Lists are usually best for this since they are mutable with list.append().  Conversion to numpy array is possible after with `np.array(list)`."
     ]
    },
    {
     "cell_type": "markdown",
     "metadata": {},
     "source": [
      "Despite the above conclusion, here is how you append to a numpy array starting from nothing.  Unlike the initialization of an empty list `newlist = []` the shape of the array needs to be specified."
     ]
    },
    {
     "cell_type": "code",
     "collapsed": false,
     "input": [
      "box = np.empty((0,2)) #must specify dimensionality of arrays, 0 means first dimension is empty\n",
      "box = np.append(box, [(2,3)])\n",
      "print box"
     ],
     "language": "python",
     "metadata": {},
     "outputs": []
    },
    {
     "cell_type": "markdown",
     "metadata": {},
     "source": [
      "How to add to a list that you're not sure exists"
     ]
    },
    {
     "cell_type": "code",
     "collapsed": true,
     "input": [
      "newlist = []\n",
      "try:\n",
      "    newlist.append([3,5])\n",
      "    print newlist\n",
      "except NameError:\n",
      "    print \"no such list!\""
     ],
     "language": "python",
     "metadata": {},
     "outputs": [
      {
       "output_type": "stream",
       "stream": "stdout",
       "text": [
        "[[3, 5]]\n"
       ]
      }
     ],
     "prompt_number": 6
    },
    {
     "cell_type": "markdown",
     "metadata": {},
     "source": [
      "if it doesn't exist then you're fine"
     ]
    },
    {
     "cell_type": "code",
     "collapsed": false,
     "input": [
      "del newlist\n",
      "try:\n",
      "    newlist.append([3,5])\n",
      "    print newlist\n",
      "except NameError:\n",
      "    print \"no such list!\" #a simple `pass` is usually enough"
     ],
     "language": "python",
     "metadata": {},
     "outputs": [
      {
       "output_type": "stream",
       "stream": "stdout",
       "text": [
        "no such list!\n"
       ]
      }
     ],
     "prompt_number": 7
    },
    {
     "cell_type": "heading",
     "level": 2,
     "metadata": {},
     "source": [
      "Data Types"
     ]
    },
    {
     "cell_type": "markdown",
     "metadata": {},
     "source": [
      "Don't forget that this is how to get the names of fields in a namedtuple!"
     ]
    },
    {
     "cell_type": "code",
     "collapsed": false,
     "input": [
      "anamedtuple._fields"
     ],
     "language": "python",
     "metadata": {},
     "outputs": []
    }
   ],
   "metadata": {}
  }
 ]
}
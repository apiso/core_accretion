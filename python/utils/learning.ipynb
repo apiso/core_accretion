{
 "metadata": {
  "name": "learning"
 },
 "nbformat": 3,
 "nbformat_minor": 0,
 "worksheets": [
  {
   "cells": [
    {
     "cell_type": "heading",
     "level": 1,
     "metadata": {},
     "source": [
      "Scratch / Learning"
     ]
    },
    {
     "cell_type": "heading",
     "level": 2,
     "metadata": {},
     "source": [
      "Functions"
     ]
    },
    {
     "cell_type": "markdown",
     "metadata": {},
     "source": [
      "Passing kwargs in a wrapper function"
     ]
    },
    {
     "cell_type": "code",
     "collapsed": false,
     "input": [
      "def f(**kwargs):\n",
      "    g(**kwargs)\n",
      "    \n",
      "def g(a=1, b=2):\n",
      "    print a, b\n",
      "    \n",
      "f(a=1, b=4)"
     ],
     "language": "python",
     "metadata": {},
     "outputs": [
      {
       "output_type": "stream",
       "stream": "stdout",
       "text": [
        "1 4\n"
       ]
      }
     ],
     "prompt_number": 4
    },
    {
     "cell_type": "markdown",
     "metadata": {},
     "source": [
      "a more realistic example for modular code.  Keywords are passed recursively to sub and subsubfunctions"
     ]
    },
    {
     "cell_type": "code",
     "collapsed": false,
     "input": [
      "def super(**allkw):\n",
      "    #for key in all:\n",
      "    #    print key, all[key]\n",
      "    sub(**allkw)\n",
      "        \n",
      "def sub(a=0, **allkwNo_a):\n",
      "    print \"a =\", a,\n",
      "    subsub(**allkwNo_a)\n",
      "    \n",
      "def subsub(b=0, **allkwNo_ab):\n",
      "    print \"b =\", b,\n",
      "    for key in allkwNo_ab:\n",
      "        print key, \"=\", allkwNo_ab[key],\n",
      "    print\n",
      "        \n",
      "print \"default a, b:\"\n",
      "super(c=3)\n",
      "print \"changing a:\"\n",
      "super(a=1, c=3)\n",
      "print \"changing b:\"\n",
      "super(b=2, c=3)\n",
      "print \"changing both:\"\n",
      "super(a=1, b=2, c=3)\n",
      "print \"order doesn't matter:\"\n",
      "super(c=3, b=2, a=1)\n",
      "print \"no kw, no problem\"\n",
      "super()"
     ],
     "language": "python",
     "metadata": {},
     "outputs": [
      {
       "output_type": "stream",
       "stream": "stdout",
       "text": [
        "default a, b:\n",
        "a = 0 b = 0 c = 3\n",
        "changing a:\n",
        "a = 1 b = 0 c = 3\n",
        "changing b:\n",
        "a = 0 b = 2 c = 3\n",
        "changing both:\n",
        "a = 1 b = 2 c = 3\n",
        "order doesn't matter:\n",
        "a = 1 b = 2 c = 3\n",
        "no kw, no problem\n",
        "a = 0 b = 0\n"
       ]
      }
     ],
     "prompt_number": 26
    },
    {
     "cell_type": "heading",
     "level": 3,
     "metadata": {},
     "source": [
      "CAREFUL"
     ]
    },
    {
     "cell_type": "code",
     "collapsed": false,
     "input": [
      "x = 0\n",
      "def f(**kwargs):\n",
      "    print x\n",
      "    \n",
      "f(x=1) #even though d is passed it doesn't get in the function"
     ],
     "language": "python",
     "metadata": {},
     "outputs": [
      {
       "output_type": "stream",
       "stream": "stdout",
       "text": [
        "0\n"
       ]
      }
     ],
     "prompt_number": 53
    },
    {
     "cell_type": "markdown",
     "metadata": {},
     "source": [
      "wrapping makes it OK and you can reset global variables inside a function.  But the function that has the variable in it, must have the keywork explicit (and not assumed with ** in definition)."
     ]
    },
    {
     "cell_type": "code",
     "collapsed": false,
     "input": [
      "x = 0\n",
      "def f(x=x):\n",
      "    print x\n",
      "    \n",
      "def fwrap(**kw):\n",
      "    f(**kw)\n",
      "    \n",
      "f()\n",
      "fwrap()\n",
      "f(x=1)\n",
      "fwrap(x=1)"
     ],
     "language": "python",
     "metadata": {},
     "outputs": [
      {
       "output_type": "stream",
       "stream": "stdout",
       "text": [
        "0\n",
        "0\n",
        "1\n",
        "1\n"
       ]
      }
     ],
     "prompt_number": 51
    },
    {
     "cell_type": "heading",
     "level": 2,
     "metadata": {},
     "source": [
      "Classes"
     ]
    },
    {
     "cell_type": "markdown",
     "metadata": {},
     "source": [
      "Learning some basic stuff about classes.  This is something I need to learn to use effectively.  If I'm putting everything in the `__init__` function that's probably not effective..."
     ]
    },
    {
     "cell_type": "code",
     "collapsed": false,
     "input": [
      "def aFun():\n",
      "    pass\n",
      "aFun.var = 7\n",
      "class Person:\n",
      "    def __init__(self, name):\n",
      "        self.name = name\n",
      "        self.personality = \"dull\"\n",
      "        self.sayHi() #can call functions defined later in class!\n",
      "        aFun.var = 8 #can set attributes of external functions (for keeps)\n",
      "    def sayHi(self):\n",
      "        print 'Hello', self.name, '.  You are', self.personality\n",
      "print \"aFun's var is\", aFun.var\n",
      "me = Person('Andrew')\n",
      "print \"aFun's var now\", aFun.var"
     ],
     "language": "python",
     "metadata": {},
     "outputs": [
      {
       "output_type": "stream",
       "stream": "stdout",
       "text": [
        "aFun's var is 7\n",
        "Hello Andrew .  You are dull\n",
        "aFun's var now 8\n"
       ]
      }
     ],
     "prompt_number": 13
    },
    {
     "cell_type": "heading",
     "level": 2,
     "metadata": {},
     "source": [
      "Building lists or arrays"
     ]
    },
    {
     "cell_type": "markdown",
     "metadata": {},
     "source": [
      "Usually it's best to create a numpy array of fixed size.  But sometimes that's no possible and you want to create a collection on the fly in a loop of indeterminate length.  Lists are usually best for this since they are mutable with list.append().  Conversion to numpy array is possible after with `np.array(list)`."
     ]
    },
    {
     "cell_type": "markdown",
     "metadata": {},
     "source": [
      "Despite the above conclusion, here is how you append to a numpy array starting from nothing.  Unlike the initialization of an empty list `newlist = []` the shape of the array needs to be specified."
     ]
    },
    {
     "cell_type": "code",
     "collapsed": false,
     "input": [
      "box = np.empty((0,2)) #must specify dimensionality of arrays, 0 means first dimension is empty\n",
      "box = np.append(box, [(2,3)])\n",
      "print box"
     ],
     "language": "python",
     "metadata": {},
     "outputs": []
    },
    {
     "cell_type": "markdown",
     "metadata": {},
     "source": [
      "How to add to a list that you're not sure exists"
     ]
    },
    {
     "cell_type": "code",
     "collapsed": true,
     "input": [
      "newlist = []\n",
      "try:\n",
      "    newlist.append([3,5])\n",
      "    print newlist\n",
      "except NameError:\n",
      "    print \"no such list!\""
     ],
     "language": "python",
     "metadata": {},
     "outputs": [
      {
       "output_type": "stream",
       "stream": "stdout",
       "text": [
        "[[3, 5]]\n"
       ]
      }
     ],
     "prompt_number": 6
    },
    {
     "cell_type": "markdown",
     "metadata": {},
     "source": [
      "if it doesn't exist then you're fine"
     ]
    },
    {
     "cell_type": "code",
     "collapsed": false,
     "input": [
      "del newlist\n",
      "try:\n",
      "    newlist.append([3,5])\n",
      "    print newlist\n",
      "except NameError:\n",
      "    print \"no such list!\" #a simple `pass` is usually enough"
     ],
     "language": "python",
     "metadata": {},
     "outputs": [
      {
       "output_type": "stream",
       "stream": "stdout",
       "text": [
        "no such list!\n"
       ]
      }
     ],
     "prompt_number": 7
    },
    {
     "cell_type": "heading",
     "level": 2,
     "metadata": {},
     "source": [
      "Data Types"
     ]
    },
    {
     "cell_type": "markdown",
     "metadata": {},
     "source": [
      "Don't forget that this is how to get the names of fields in a namedtuple!"
     ]
    },
    {
     "cell_type": "code",
     "collapsed": false,
     "input": [
      "anamedtuple._fields"
     ],
     "language": "python",
     "metadata": {},
     "outputs": []
    },
    {
     "cell_type": "code",
     "collapsed": false,
     "input": [
      "print \"slash to save \\\n",
      "the day\""
     ],
     "language": "python",
     "metadata": {},
     "outputs": [
      {
       "output_type": "stream",
       "stream": "stdout",
       "text": [
        "slash to save the day\n"
       ]
      }
     ],
     "prompt_number": 6
    },
    {
     "cell_type": "code",
     "collapsed": false,
     "input": [],
     "language": "python",
     "metadata": {},
     "outputs": []
    }
   ],
   "metadata": {}
  }
 ]
}